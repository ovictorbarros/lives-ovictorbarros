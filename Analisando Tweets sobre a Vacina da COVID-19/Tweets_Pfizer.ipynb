{
  "nbformat": 4,
  "nbformat_minor": 0,
  "metadata": {
    "colab": {
      "name": "Tweets Pfizer.ipynb",
      "provenance": []
    },
    "kernelspec": {
      "name": "python3",
      "display_name": "Python 3"
    },
    "language_info": {
      "name": "python"
    }
  },
  "cells": [
    {
      "cell_type": "code",
      "metadata": {
        "colab": {
          "base_uri": "https://localhost:8080/"
        },
        "id": "ISs3u6YvrU6B",
        "outputId": "9f4c4e06-2fa9-4e1e-925b-8ce606a44c87"
      },
      "source": [
        "!pip install vaderSentiment"
      ],
      "execution_count": null,
      "outputs": [
        {
          "output_type": "stream",
          "text": [
            "Requirement already satisfied: vaderSentiment in /usr/local/lib/python3.7/dist-packages (3.3.2)\n",
            "Requirement already satisfied: requests in /usr/local/lib/python3.7/dist-packages (from vaderSentiment) (2.23.0)\n",
            "Requirement already satisfied: chardet<4,>=3.0.2 in /usr/local/lib/python3.7/dist-packages (from requests->vaderSentiment) (3.0.4)\n",
            "Requirement already satisfied: certifi>=2017.4.17 in /usr/local/lib/python3.7/dist-packages (from requests->vaderSentiment) (2020.12.5)\n",
            "Requirement already satisfied: idna<3,>=2.5 in /usr/local/lib/python3.7/dist-packages (from requests->vaderSentiment) (2.10)\n",
            "Requirement already satisfied: urllib3!=1.25.0,!=1.25.1,<1.26,>=1.21.1 in /usr/local/lib/python3.7/dist-packages (from requests->vaderSentiment) (1.24.3)\n"
          ],
          "name": "stdout"
        }
      ]
    },
    {
      "cell_type": "code",
      "metadata": {
        "id": "A6XUtNiqlUHh",
        "colab": {
          "base_uri": "https://localhost:8080/"
        },
        "outputId": "4a385d1b-0cfe-4a7d-c815-c1bd51315e23"
      },
      "source": [
        "#Manipulação dos Dados\n",
        "import pandas as pd\n",
        "import numpy as np\n",
        "\n",
        "#Visualização\n",
        "import missingno\n",
        "import matplotlib.pyplot as plt\n",
        "import seaborn as sns\n",
        "\n",
        "#Expressões Regulares\n",
        "import re\n",
        "import string\n",
        "\n",
        "#Processamento de Linguagem Natural\n",
        "import nltk\n",
        "\n",
        "nltk.download('vader_lexicon')\n",
        "nltk.download('stopwords')\n",
        "from nltk.stem.porter import *\n",
        "nltk.download('wordnet')  \n",
        "\n",
        "from nltk.sentiment.vader import SentimentIntensityAnalyzer as SIA\n",
        "from vaderSentiment.vaderSentiment import SentimentIntensityAnalyzer\n",
        "\n",
        "import warnings\n",
        "warnings.filterwarnings(\"ignore\")"
      ],
      "execution_count": null,
      "outputs": [
        {
          "output_type": "stream",
          "text": [
            "[nltk_data] Downloading package vader_lexicon to /root/nltk_data...\n",
            "[nltk_data]   Package vader_lexicon is already up-to-date!\n",
            "[nltk_data] Downloading package stopwords to /root/nltk_data...\n",
            "[nltk_data]   Package stopwords is already up-to-date!\n",
            "[nltk_data] Downloading package wordnet to /root/nltk_data...\n",
            "[nltk_data]   Package wordnet is already up-to-date!\n"
          ],
          "name": "stdout"
        }
      ]
    },
    {
      "cell_type": "code",
      "metadata": {
        "id": "Hl0R3hsil3mo"
      },
      "source": [
        "df = pd.read_csv(\"vaccination_tweets.csv\")"
      ],
      "execution_count": null,
      "outputs": []
    },
    {
      "cell_type": "code",
      "metadata": {
        "colab": {
          "base_uri": "https://localhost:8080/",
          "height": 487
        },
        "id": "kjMMnYqGmS9H",
        "outputId": "fdc08db6-0c67-4009-e36c-6d9c732c32ab"
      },
      "source": [
        "df.head()"
      ],
      "execution_count": null,
      "outputs": [
        {
          "output_type": "execute_result",
          "data": {
            "text/html": [
              "<div>\n",
              "<style scoped>\n",
              "    .dataframe tbody tr th:only-of-type {\n",
              "        vertical-align: middle;\n",
              "    }\n",
              "\n",
              "    .dataframe tbody tr th {\n",
              "        vertical-align: top;\n",
              "    }\n",
              "\n",
              "    .dataframe thead th {\n",
              "        text-align: right;\n",
              "    }\n",
              "</style>\n",
              "<table border=\"1\" class=\"dataframe\">\n",
              "  <thead>\n",
              "    <tr style=\"text-align: right;\">\n",
              "      <th></th>\n",
              "      <th>id</th>\n",
              "      <th>user_name</th>\n",
              "      <th>user_location</th>\n",
              "      <th>user_description</th>\n",
              "      <th>user_created</th>\n",
              "      <th>user_followers</th>\n",
              "      <th>user_friends</th>\n",
              "      <th>user_favourites</th>\n",
              "      <th>user_verified</th>\n",
              "      <th>date</th>\n",
              "      <th>text</th>\n",
              "      <th>hashtags</th>\n",
              "      <th>source</th>\n",
              "      <th>retweets</th>\n",
              "      <th>favorites</th>\n",
              "      <th>is_retweet</th>\n",
              "    </tr>\n",
              "  </thead>\n",
              "  <tbody>\n",
              "    <tr>\n",
              "      <th>0</th>\n",
              "      <td>1340539111971516416</td>\n",
              "      <td>Rachel Roh</td>\n",
              "      <td>La Crescenta-Montrose, CA</td>\n",
              "      <td>Aggregator of Asian American news; scanning di...</td>\n",
              "      <td>2009-04-08 17:52:46</td>\n",
              "      <td>405</td>\n",
              "      <td>1692</td>\n",
              "      <td>3247</td>\n",
              "      <td>False</td>\n",
              "      <td>2020-12-20 06:06:44</td>\n",
              "      <td>Same folks said daikon paste could treat a cyt...</td>\n",
              "      <td>['PfizerBioNTech']</td>\n",
              "      <td>Twitter for Android</td>\n",
              "      <td>0</td>\n",
              "      <td>0</td>\n",
              "      <td>False</td>\n",
              "    </tr>\n",
              "    <tr>\n",
              "      <th>1</th>\n",
              "      <td>1338158543359250433</td>\n",
              "      <td>Albert Fong</td>\n",
              "      <td>San Francisco, CA</td>\n",
              "      <td>Marketing dude, tech geek, heavy metal &amp; '80s ...</td>\n",
              "      <td>2009-09-21 15:27:30</td>\n",
              "      <td>834</td>\n",
              "      <td>666</td>\n",
              "      <td>178</td>\n",
              "      <td>False</td>\n",
              "      <td>2020-12-13 16:27:13</td>\n",
              "      <td>While the world has been on the wrong side of ...</td>\n",
              "      <td>NaN</td>\n",
              "      <td>Twitter Web App</td>\n",
              "      <td>1</td>\n",
              "      <td>1</td>\n",
              "      <td>False</td>\n",
              "    </tr>\n",
              "    <tr>\n",
              "      <th>2</th>\n",
              "      <td>1337858199140118533</td>\n",
              "      <td>eli🇱🇹🇪🇺👌</td>\n",
              "      <td>Your Bed</td>\n",
              "      <td>heil, hydra 🖐☺</td>\n",
              "      <td>2020-06-25 23:30:28</td>\n",
              "      <td>10</td>\n",
              "      <td>88</td>\n",
              "      <td>155</td>\n",
              "      <td>False</td>\n",
              "      <td>2020-12-12 20:33:45</td>\n",
              "      <td>#coronavirus #SputnikV #AstraZeneca #PfizerBio...</td>\n",
              "      <td>['coronavirus', 'SputnikV', 'AstraZeneca', 'Pf...</td>\n",
              "      <td>Twitter for Android</td>\n",
              "      <td>0</td>\n",
              "      <td>0</td>\n",
              "      <td>False</td>\n",
              "    </tr>\n",
              "    <tr>\n",
              "      <th>3</th>\n",
              "      <td>1337855739918835717</td>\n",
              "      <td>Charles Adler</td>\n",
              "      <td>Vancouver, BC - Canada</td>\n",
              "      <td>Hosting \"CharlesAdlerTonight\" Global News Radi...</td>\n",
              "      <td>2008-09-10 11:28:53</td>\n",
              "      <td>49165</td>\n",
              "      <td>3933</td>\n",
              "      <td>21853</td>\n",
              "      <td>True</td>\n",
              "      <td>2020-12-12 20:23:59</td>\n",
              "      <td>Facts are immutable, Senator, even when you're...</td>\n",
              "      <td>NaN</td>\n",
              "      <td>Twitter Web App</td>\n",
              "      <td>446</td>\n",
              "      <td>2129</td>\n",
              "      <td>False</td>\n",
              "    </tr>\n",
              "    <tr>\n",
              "      <th>4</th>\n",
              "      <td>1337854064604966912</td>\n",
              "      <td>Citizen News Channel</td>\n",
              "      <td>NaN</td>\n",
              "      <td>Citizen News Channel bringing you an alternati...</td>\n",
              "      <td>2020-04-23 17:58:42</td>\n",
              "      <td>152</td>\n",
              "      <td>580</td>\n",
              "      <td>1473</td>\n",
              "      <td>False</td>\n",
              "      <td>2020-12-12 20:17:19</td>\n",
              "      <td>Explain to me again why we need a vaccine @Bor...</td>\n",
              "      <td>['whereareallthesickpeople', 'PfizerBioNTech']</td>\n",
              "      <td>Twitter for iPhone</td>\n",
              "      <td>0</td>\n",
              "      <td>0</td>\n",
              "      <td>False</td>\n",
              "    </tr>\n",
              "  </tbody>\n",
              "</table>\n",
              "</div>"
            ],
            "text/plain": [
              "                    id             user_name  ... favorites is_retweet\n",
              "0  1340539111971516416            Rachel Roh  ...         0      False\n",
              "1  1338158543359250433           Albert Fong  ...         1      False\n",
              "2  1337858199140118533              eli🇱🇹🇪🇺👌  ...         0      False\n",
              "3  1337855739918835717         Charles Adler  ...      2129      False\n",
              "4  1337854064604966912  Citizen News Channel  ...         0      False\n",
              "\n",
              "[5 rows x 16 columns]"
            ]
          },
          "metadata": {
            "tags": []
          },
          "execution_count": 4
        }
      ]
    },
    {
      "cell_type": "code",
      "metadata": {
        "colab": {
          "base_uri": "https://localhost:8080/"
        },
        "id": "U14b-GjYm1AD",
        "outputId": "dfb98a5d-2a78-4361-d2db-46a6821bb889"
      },
      "source": [
        "type(df)"
      ],
      "execution_count": null,
      "outputs": [
        {
          "output_type": "execute_result",
          "data": {
            "text/plain": [
              "pandas.core.frame.DataFrame"
            ]
          },
          "metadata": {
            "tags": []
          },
          "execution_count": 5
        }
      ]
    },
    {
      "cell_type": "code",
      "metadata": {
        "colab": {
          "base_uri": "https://localhost:8080/"
        },
        "id": "outxUHLZm2FC",
        "outputId": "13956835-bb1a-4c5b-cc30-9164ac330366"
      },
      "source": [
        "df.shape"
      ],
      "execution_count": null,
      "outputs": [
        {
          "output_type": "execute_result",
          "data": {
            "text/plain": [
              "(8082, 16)"
            ]
          },
          "metadata": {
            "tags": []
          },
          "execution_count": 6
        }
      ]
    },
    {
      "cell_type": "code",
      "metadata": {
        "colab": {
          "base_uri": "https://localhost:8080/"
        },
        "id": "J-ckN-96nVlL",
        "outputId": "55a5c493-8a8e-42da-bd21-c862ed7a34f6"
      },
      "source": [
        "df.info()"
      ],
      "execution_count": null,
      "outputs": [
        {
          "output_type": "stream",
          "text": [
            "<class 'pandas.core.frame.DataFrame'>\n",
            "RangeIndex: 8082 entries, 0 to 8081\n",
            "Data columns (total 16 columns):\n",
            " #   Column            Non-Null Count  Dtype \n",
            "---  ------            --------------  ----- \n",
            " 0   id                8082 non-null   int64 \n",
            " 1   user_name         8082 non-null   object\n",
            " 2   user_location     6452 non-null   object\n",
            " 3   user_description  7576 non-null   object\n",
            " 4   user_created      8082 non-null   object\n",
            " 5   user_followers    8082 non-null   int64 \n",
            " 6   user_friends      8082 non-null   int64 \n",
            " 7   user_favourites   8082 non-null   int64 \n",
            " 8   user_verified     8082 non-null   bool  \n",
            " 9   date              8082 non-null   object\n",
            " 10  text              8082 non-null   object\n",
            " 11  hashtags          6133 non-null   object\n",
            " 12  source            8081 non-null   object\n",
            " 13  retweets          8082 non-null   int64 \n",
            " 14  favorites         8082 non-null   int64 \n",
            " 15  is_retweet        8082 non-null   bool  \n",
            "dtypes: bool(2), int64(6), object(8)\n",
            "memory usage: 899.9+ KB\n"
          ],
          "name": "stdout"
        }
      ]
    },
    {
      "cell_type": "code",
      "metadata": {
        "colab": {
          "base_uri": "https://localhost:8080/",
          "height": 277
        },
        "id": "Dnb5c-V0noop",
        "outputId": "02c76377-ec20-41ca-d1b7-e1f0872bf4bf"
      },
      "source": [
        "df.describe()"
      ],
      "execution_count": null,
      "outputs": [
        {
          "output_type": "execute_result",
          "data": {
            "text/html": [
              "<div>\n",
              "<style scoped>\n",
              "    .dataframe tbody tr th:only-of-type {\n",
              "        vertical-align: middle;\n",
              "    }\n",
              "\n",
              "    .dataframe tbody tr th {\n",
              "        vertical-align: top;\n",
              "    }\n",
              "\n",
              "    .dataframe thead th {\n",
              "        text-align: right;\n",
              "    }\n",
              "</style>\n",
              "<table border=\"1\" class=\"dataframe\">\n",
              "  <thead>\n",
              "    <tr style=\"text-align: right;\">\n",
              "      <th></th>\n",
              "      <th>id</th>\n",
              "      <th>user_followers</th>\n",
              "      <th>user_friends</th>\n",
              "      <th>user_favourites</th>\n",
              "      <th>retweets</th>\n",
              "      <th>favorites</th>\n",
              "    </tr>\n",
              "  </thead>\n",
              "  <tbody>\n",
              "    <tr>\n",
              "      <th>count</th>\n",
              "      <td>8.082000e+03</td>\n",
              "      <td>8.082000e+03</td>\n",
              "      <td>8082.000000</td>\n",
              "      <td>8.082000e+03</td>\n",
              "      <td>8082.000000</td>\n",
              "      <td>8082.000000</td>\n",
              "    </tr>\n",
              "    <tr>\n",
              "      <th>mean</th>\n",
              "      <td>1.354990e+18</td>\n",
              "      <td>3.550042e+04</td>\n",
              "      <td>1192.207127</td>\n",
              "      <td>1.513661e+04</td>\n",
              "      <td>1.472037</td>\n",
              "      <td>8.690671</td>\n",
              "    </tr>\n",
              "    <tr>\n",
              "      <th>std</th>\n",
              "      <td>1.265681e+16</td>\n",
              "      <td>2.914947e+05</td>\n",
              "      <td>2982.597309</td>\n",
              "      <td>4.882913e+04</td>\n",
              "      <td>12.922145</td>\n",
              "      <td>59.121769</td>\n",
              "    </tr>\n",
              "    <tr>\n",
              "      <th>min</th>\n",
              "      <td>1.337728e+18</td>\n",
              "      <td>0.000000e+00</td>\n",
              "      <td>0.000000</td>\n",
              "      <td>0.000000e+00</td>\n",
              "      <td>0.000000</td>\n",
              "      <td>0.000000</td>\n",
              "    </tr>\n",
              "    <tr>\n",
              "      <th>25%</th>\n",
              "      <td>1.344901e+18</td>\n",
              "      <td>1.100000e+02</td>\n",
              "      <td>165.000000</td>\n",
              "      <td>4.172500e+02</td>\n",
              "      <td>0.000000</td>\n",
              "      <td>0.000000</td>\n",
              "    </tr>\n",
              "    <tr>\n",
              "      <th>50%</th>\n",
              "      <td>1.351682e+18</td>\n",
              "      <td>4.805000e+02</td>\n",
              "      <td>465.000000</td>\n",
              "      <td>2.329000e+03</td>\n",
              "      <td>0.000000</td>\n",
              "      <td>1.000000</td>\n",
              "    </tr>\n",
              "    <tr>\n",
              "      <th>75%</th>\n",
              "      <td>1.364592e+18</td>\n",
              "      <td>2.089750e+03</td>\n",
              "      <td>1249.500000</td>\n",
              "      <td>1.124975e+04</td>\n",
              "      <td>1.000000</td>\n",
              "      <td>4.000000</td>\n",
              "    </tr>\n",
              "    <tr>\n",
              "      <th>max</th>\n",
              "      <td>1.384788e+18</td>\n",
              "      <td>1.371493e+07</td>\n",
              "      <td>103226.000000</td>\n",
              "      <td>1.166459e+06</td>\n",
              "      <td>678.000000</td>\n",
              "      <td>2315.000000</td>\n",
              "    </tr>\n",
              "  </tbody>\n",
              "</table>\n",
              "</div>"
            ],
            "text/plain": [
              "                 id  user_followers  ...     retweets    favorites\n",
              "count  8.082000e+03    8.082000e+03  ...  8082.000000  8082.000000\n",
              "mean   1.354990e+18    3.550042e+04  ...     1.472037     8.690671\n",
              "std    1.265681e+16    2.914947e+05  ...    12.922145    59.121769\n",
              "min    1.337728e+18    0.000000e+00  ...     0.000000     0.000000\n",
              "25%    1.344901e+18    1.100000e+02  ...     0.000000     0.000000\n",
              "50%    1.351682e+18    4.805000e+02  ...     0.000000     1.000000\n",
              "75%    1.364592e+18    2.089750e+03  ...     1.000000     4.000000\n",
              "max    1.384788e+18    1.371493e+07  ...   678.000000  2315.000000\n",
              "\n",
              "[8 rows x 6 columns]"
            ]
          },
          "metadata": {
            "tags": []
          },
          "execution_count": 8
        }
      ]
    },
    {
      "cell_type": "code",
      "metadata": {
        "colab": {
          "base_uri": "https://localhost:8080/",
          "height": 178
        },
        "id": "pGGccCfhogXX",
        "outputId": "9e6c22f0-7d52-4988-df08-ec26054a25e7"
      },
      "source": [
        "df.describe(include = \"O\")"
      ],
      "execution_count": null,
      "outputs": [
        {
          "output_type": "execute_result",
          "data": {
            "text/html": [
              "<div>\n",
              "<style scoped>\n",
              "    .dataframe tbody tr th:only-of-type {\n",
              "        vertical-align: middle;\n",
              "    }\n",
              "\n",
              "    .dataframe tbody tr th {\n",
              "        vertical-align: top;\n",
              "    }\n",
              "\n",
              "    .dataframe thead th {\n",
              "        text-align: right;\n",
              "    }\n",
              "</style>\n",
              "<table border=\"1\" class=\"dataframe\">\n",
              "  <thead>\n",
              "    <tr style=\"text-align: right;\">\n",
              "      <th></th>\n",
              "      <th>user_name</th>\n",
              "      <th>user_location</th>\n",
              "      <th>user_description</th>\n",
              "      <th>user_created</th>\n",
              "      <th>date</th>\n",
              "      <th>text</th>\n",
              "      <th>hashtags</th>\n",
              "      <th>source</th>\n",
              "    </tr>\n",
              "  </thead>\n",
              "  <tbody>\n",
              "    <tr>\n",
              "      <th>count</th>\n",
              "      <td>8082</td>\n",
              "      <td>6452</td>\n",
              "      <td>7576</td>\n",
              "      <td>8082</td>\n",
              "      <td>8082</td>\n",
              "      <td>8082</td>\n",
              "      <td>6133</td>\n",
              "      <td>8081</td>\n",
              "    </tr>\n",
              "    <tr>\n",
              "      <th>unique</th>\n",
              "      <td>5350</td>\n",
              "      <td>2380</td>\n",
              "      <td>5097</td>\n",
              "      <td>5335</td>\n",
              "      <td>8073</td>\n",
              "      <td>8075</td>\n",
              "      <td>3413</td>\n",
              "      <td>50</td>\n",
              "    </tr>\n",
              "    <tr>\n",
              "      <th>top</th>\n",
              "      <td>New Straits Times</td>\n",
              "      <td>London, England</td>\n",
              "      <td>News, views and up-to-date reports from Malays...</td>\n",
              "      <td>2009-07-09 09:04:01</td>\n",
              "      <td>2020-12-24 17:09:01</td>\n",
              "      <td>#Covid19 Vaccine Rollout Needs Spark Even More...</td>\n",
              "      <td>['PfizerBioNTech']</td>\n",
              "      <td>Twitter for iPhone</td>\n",
              "    </tr>\n",
              "    <tr>\n",
              "      <th>freq</th>\n",
              "      <td>78</td>\n",
              "      <td>124</td>\n",
              "      <td>78</td>\n",
              "      <td>78</td>\n",
              "      <td>2</td>\n",
              "      <td>5</td>\n",
              "      <td>886</td>\n",
              "      <td>2864</td>\n",
              "    </tr>\n",
              "  </tbody>\n",
              "</table>\n",
              "</div>"
            ],
            "text/plain": [
              "                user_name  ...              source\n",
              "count                8082  ...                8081\n",
              "unique               5350  ...                  50\n",
              "top     New Straits Times  ...  Twitter for iPhone\n",
              "freq                   78  ...                2864\n",
              "\n",
              "[4 rows x 8 columns]"
            ]
          },
          "metadata": {
            "tags": []
          },
          "execution_count": 9
        }
      ]
    },
    {
      "cell_type": "markdown",
      "metadata": {
        "id": "aVndX7dQp_62"
      },
      "source": [
        "## Avaliar dados faltantes"
      ]
    },
    {
      "cell_type": "code",
      "metadata": {
        "colab": {
          "base_uri": "https://localhost:8080/"
        },
        "id": "vG2RNnRQo7LD",
        "outputId": "e1797c2e-77ef-415e-eaf0-562ed0d102a4"
      },
      "source": [
        "df.isnull().any()"
      ],
      "execution_count": null,
      "outputs": [
        {
          "output_type": "execute_result",
          "data": {
            "text/plain": [
              "id                  False\n",
              "user_name           False\n",
              "user_location        True\n",
              "user_description     True\n",
              "user_created        False\n",
              "user_followers      False\n",
              "user_friends        False\n",
              "user_favourites     False\n",
              "user_verified       False\n",
              "date                False\n",
              "text                False\n",
              "hashtags             True\n",
              "source               True\n",
              "retweets            False\n",
              "favorites           False\n",
              "is_retweet          False\n",
              "dtype: bool"
            ]
          },
          "metadata": {
            "tags": []
          },
          "execution_count": 10
        }
      ]
    },
    {
      "cell_type": "code",
      "metadata": {
        "colab": {
          "base_uri": "https://localhost:8080/"
        },
        "id": "ihvf_ZEmqQBu",
        "outputId": "c306d71f-e647-4b50-fd86-c667361700cb"
      },
      "source": [
        "df.isnull().sum()"
      ],
      "execution_count": null,
      "outputs": [
        {
          "output_type": "execute_result",
          "data": {
            "text/plain": [
              "id                     0\n",
              "user_name              0\n",
              "user_location       1630\n",
              "user_description     506\n",
              "user_created           0\n",
              "user_followers         0\n",
              "user_friends           0\n",
              "user_favourites        0\n",
              "user_verified          0\n",
              "date                   0\n",
              "text                   0\n",
              "hashtags            1949\n",
              "source                 1\n",
              "retweets               0\n",
              "favorites              0\n",
              "is_retweet             0\n",
              "dtype: int64"
            ]
          },
          "metadata": {
            "tags": []
          },
          "execution_count": 11
        }
      ]
    },
    {
      "cell_type": "code",
      "metadata": {
        "colab": {
          "base_uri": "https://localhost:8080/"
        },
        "id": "QCRt87yJqxIR",
        "outputId": "ba9990de-a17d-4940-dbc6-51744035ec18"
      },
      "source": [
        "df.isnull().sum().sort_values(ascending=False)"
      ],
      "execution_count": null,
      "outputs": [
        {
          "output_type": "execute_result",
          "data": {
            "text/plain": [
              "hashtags            1949\n",
              "user_location       1630\n",
              "user_description     506\n",
              "source                 1\n",
              "is_retweet             0\n",
              "favorites              0\n",
              "retweets               0\n",
              "text                   0\n",
              "date                   0\n",
              "user_verified          0\n",
              "user_favourites        0\n",
              "user_friends           0\n",
              "user_followers         0\n",
              "user_created           0\n",
              "user_name              0\n",
              "id                     0\n",
              "dtype: int64"
            ]
          },
          "metadata": {
            "tags": []
          },
          "execution_count": 12
        }
      ]
    },
    {
      "cell_type": "code",
      "metadata": {
        "colab": {
          "base_uri": "https://localhost:8080/",
          "height": 467
        },
        "id": "ZOBYaAuKrGXH",
        "outputId": "f99b20f5-592d-4bc2-b249-81de170310ef"
      },
      "source": [
        "missingno.matrix(df, figsize = (40,10))"
      ],
      "execution_count": null,
      "outputs": [
        {
          "output_type": "execute_result",
          "data": {
            "text/plain": [
              "<matplotlib.axes._subplots.AxesSubplot at 0x7f14ef599bd0>"
            ]
          },
          "metadata": {
            "tags": []
          },
          "execution_count": 13
        },
        {
          "output_type": "display_data",
          "data": {
            "image/png": "[encoded data removed]",
            "text/plain": [
              "<Figure size 2880x720 with 2 Axes>"
            ]
          },
          "metadata": {
            "tags": [],
            "needs_background": "light"
          }
        }
      ]
    },
    {
      "cell_type": "code",
      "metadata": {
        "colab": {
          "base_uri": "https://localhost:8080/",
          "height": 842
        },
        "id": "EmHfWLKLrt4x",
        "outputId": "67a801c0-2f9a-4fe4-f057-78a9bf6eebad"
      },
      "source": [
        "df[df.isnull().any(axis=1)].head(10)"
      ],
      "execution_count": null,
      "outputs": [
        {
          "output_type": "execute_result",
          "data": {
            "text/html": [
              "<div>\n",
              "<style scoped>\n",
              "    .dataframe tbody tr th:only-of-type {\n",
              "        vertical-align: middle;\n",
              "    }\n",
              "\n",
              "    .dataframe tbody tr th {\n",
              "        vertical-align: top;\n",
              "    }\n",
              "\n",
              "    .dataframe thead th {\n",
              "        text-align: right;\n",
              "    }\n",
              "</style>\n",
              "<table border=\"1\" class=\"dataframe\">\n",
              "  <thead>\n",
              "    <tr style=\"text-align: right;\">\n",
              "      <th></th>\n",
              "      <th>id</th>\n",
              "      <th>user_name</th>\n",
              "      <th>user_location</th>\n",
              "      <th>user_description</th>\n",
              "      <th>user_created</th>\n",
              "      <th>user_followers</th>\n",
              "      <th>user_friends</th>\n",
              "      <th>user_favourites</th>\n",
              "      <th>user_verified</th>\n",
              "      <th>date</th>\n",
              "      <th>text</th>\n",
              "      <th>hashtags</th>\n",
              "      <th>source</th>\n",
              "      <th>retweets</th>\n",
              "      <th>favorites</th>\n",
              "      <th>is_retweet</th>\n",
              "    </tr>\n",
              "  </thead>\n",
              "  <tbody>\n",
              "    <tr>\n",
              "      <th>1</th>\n",
              "      <td>1338158543359250433</td>\n",
              "      <td>Albert Fong</td>\n",
              "      <td>San Francisco, CA</td>\n",
              "      <td>Marketing dude, tech geek, heavy metal &amp; '80s ...</td>\n",
              "      <td>2009-09-21 15:27:30</td>\n",
              "      <td>834</td>\n",
              "      <td>666</td>\n",
              "      <td>178</td>\n",
              "      <td>False</td>\n",
              "      <td>2020-12-13 16:27:13</td>\n",
              "      <td>While the world has been on the wrong side of ...</td>\n",
              "      <td>NaN</td>\n",
              "      <td>Twitter Web App</td>\n",
              "      <td>1</td>\n",
              "      <td>1</td>\n",
              "      <td>False</td>\n",
              "    </tr>\n",
              "    <tr>\n",
              "      <th>3</th>\n",
              "      <td>1337855739918835717</td>\n",
              "      <td>Charles Adler</td>\n",
              "      <td>Vancouver, BC - Canada</td>\n",
              "      <td>Hosting \"CharlesAdlerTonight\" Global News Radi...</td>\n",
              "      <td>2008-09-10 11:28:53</td>\n",
              "      <td>49165</td>\n",
              "      <td>3933</td>\n",
              "      <td>21853</td>\n",
              "      <td>True</td>\n",
              "      <td>2020-12-12 20:23:59</td>\n",
              "      <td>Facts are immutable, Senator, even when you're...</td>\n",
              "      <td>NaN</td>\n",
              "      <td>Twitter Web App</td>\n",
              "      <td>446</td>\n",
              "      <td>2129</td>\n",
              "      <td>False</td>\n",
              "    </tr>\n",
              "    <tr>\n",
              "      <th>4</th>\n",
              "      <td>1337854064604966912</td>\n",
              "      <td>Citizen News Channel</td>\n",
              "      <td>NaN</td>\n",
              "      <td>Citizen News Channel bringing you an alternati...</td>\n",
              "      <td>2020-04-23 17:58:42</td>\n",
              "      <td>152</td>\n",
              "      <td>580</td>\n",
              "      <td>1473</td>\n",
              "      <td>False</td>\n",
              "      <td>2020-12-12 20:17:19</td>\n",
              "      <td>Explain to me again why we need a vaccine @Bor...</td>\n",
              "      <td>['whereareallthesickpeople', 'PfizerBioNTech']</td>\n",
              "      <td>Twitter for iPhone</td>\n",
              "      <td>0</td>\n",
              "      <td>0</td>\n",
              "      <td>False</td>\n",
              "    </tr>\n",
              "    <tr>\n",
              "      <th>5</th>\n",
              "      <td>1337852648389832708</td>\n",
              "      <td>Dee</td>\n",
              "      <td>Birmingham, England</td>\n",
              "      <td>Gastroenterology trainee, Clinical Research Fe...</td>\n",
              "      <td>2020-01-26 21:43:12</td>\n",
              "      <td>105</td>\n",
              "      <td>108</td>\n",
              "      <td>106</td>\n",
              "      <td>False</td>\n",
              "      <td>2020-12-12 20:11:42</td>\n",
              "      <td>Does anyone have any useful advice/guidance fo...</td>\n",
              "      <td>NaN</td>\n",
              "      <td>Twitter for iPhone</td>\n",
              "      <td>0</td>\n",
              "      <td>0</td>\n",
              "      <td>False</td>\n",
              "    </tr>\n",
              "    <tr>\n",
              "      <th>7</th>\n",
              "      <td>1337850832256176136</td>\n",
              "      <td>Dr.Krutika Kuppalli</td>\n",
              "      <td>NaN</td>\n",
              "      <td>ID, Global Health, VHF, Pandemic Prep, Emergin...</td>\n",
              "      <td>2019-03-25 04:14:29</td>\n",
              "      <td>21924</td>\n",
              "      <td>593</td>\n",
              "      <td>7815</td>\n",
              "      <td>True</td>\n",
              "      <td>2020-12-12 20:04:29</td>\n",
              "      <td>There have not been many bright days in 2020 b...</td>\n",
              "      <td>['BidenHarris', 'Election2020']</td>\n",
              "      <td>Twitter for iPhone</td>\n",
              "      <td>2</td>\n",
              "      <td>22</td>\n",
              "      <td>False</td>\n",
              "    </tr>\n",
              "    <tr>\n",
              "      <th>8</th>\n",
              "      <td>1337850023531347969</td>\n",
              "      <td>Erin Despas</td>\n",
              "      <td>NaN</td>\n",
              "      <td>Designing&amp;selling on Teespring. Like 90s Disne...</td>\n",
              "      <td>2009-10-30 17:53:54</td>\n",
              "      <td>887</td>\n",
              "      <td>1515</td>\n",
              "      <td>9639</td>\n",
              "      <td>False</td>\n",
              "      <td>2020-12-12 20:01:16</td>\n",
              "      <td>Covid vaccine; You getting it?\\n\\n #CovidVacci...</td>\n",
              "      <td>['CovidVaccine', 'covid19', 'PfizerBioNTech', ...</td>\n",
              "      <td>Twitter Web App</td>\n",
              "      <td>2</td>\n",
              "      <td>1</td>\n",
              "      <td>False</td>\n",
              "    </tr>\n",
              "    <tr>\n",
              "      <th>11</th>\n",
              "      <td>1337840331522453507</td>\n",
              "      <td>VoiceM</td>\n",
              "      <td>NaN</td>\n",
              "      <td>campaigner &amp; optimistic realist</td>\n",
              "      <td>2020-08-31 10:38:21</td>\n",
              "      <td>2</td>\n",
              "      <td>25</td>\n",
              "      <td>20</td>\n",
              "      <td>False</td>\n",
              "      <td>2020-12-12 19:22:45</td>\n",
              "      <td>@cnnbrk #COVID19 #CovidVaccine #vaccine #Coron...</td>\n",
              "      <td>['COVID19', 'CovidVaccine', 'vaccine', 'Corona...</td>\n",
              "      <td>Twitter Web App</td>\n",
              "      <td>0</td>\n",
              "      <td>0</td>\n",
              "      <td>False</td>\n",
              "    </tr>\n",
              "    <tr>\n",
              "      <th>12</th>\n",
              "      <td>1337815730486702087</td>\n",
              "      <td>WION</td>\n",
              "      <td>India</td>\n",
              "      <td>#WION: World Is One | Welcome to India’s first...</td>\n",
              "      <td>2016-03-21 03:44:54</td>\n",
              "      <td>292510</td>\n",
              "      <td>91</td>\n",
              "      <td>7531</td>\n",
              "      <td>True</td>\n",
              "      <td>2020-12-12 17:45:00</td>\n",
              "      <td>The agency also released new information for h...</td>\n",
              "      <td>NaN</td>\n",
              "      <td>TweetDeck</td>\n",
              "      <td>0</td>\n",
              "      <td>18</td>\n",
              "      <td>False</td>\n",
              "    </tr>\n",
              "    <tr>\n",
              "      <th>13</th>\n",
              "      <td>1337809196453081088</td>\n",
              "      <td>Dr.Krutika Kuppalli</td>\n",
              "      <td>NaN</td>\n",
              "      <td>ID, Global Health, VHF, Pandemic Prep, Emergin...</td>\n",
              "      <td>2019-03-25 04:14:29</td>\n",
              "      <td>21924</td>\n",
              "      <td>593</td>\n",
              "      <td>7815</td>\n",
              "      <td>True</td>\n",
              "      <td>2020-12-12 17:19:02</td>\n",
              "      <td>For all the women and healthcare providers who...</td>\n",
              "      <td>['PfizerBioNTech']</td>\n",
              "      <td>Twitter for iPhone</td>\n",
              "      <td>48</td>\n",
              "      <td>82</td>\n",
              "      <td>False</td>\n",
              "    </tr>\n",
              "    <tr>\n",
              "      <th>14</th>\n",
              "      <td>1337807109010780162</td>\n",
              "      <td>Opoyi</td>\n",
              "      <td>NaN</td>\n",
              "      <td>High-quality trusted conversations around news...</td>\n",
              "      <td>2019-01-13 18:33:22</td>\n",
              "      <td>10332</td>\n",
              "      <td>49</td>\n",
              "      <td>16</td>\n",
              "      <td>False</td>\n",
              "      <td>2020-12-12 17:10:44</td>\n",
              "      <td>\"Expect 145 sites across all the states to rec...</td>\n",
              "      <td>NaN</td>\n",
              "      <td>TweetDeck</td>\n",
              "      <td>0</td>\n",
              "      <td>0</td>\n",
              "      <td>False</td>\n",
              "    </tr>\n",
              "  </tbody>\n",
              "</table>\n",
              "</div>"
            ],
            "text/plain": [
              "                     id             user_name  ... favorites is_retweet\n",
              "1   1338158543359250433           Albert Fong  ...         1      False\n",
              "3   1337855739918835717         Charles Adler  ...      2129      False\n",
              "4   1337854064604966912  Citizen News Channel  ...         0      False\n",
              "5   1337852648389832708                   Dee  ...         0      False\n",
              "7   1337850832256176136   Dr.Krutika Kuppalli  ...        22      False\n",
              "8   1337850023531347969           Erin Despas  ...         1      False\n",
              "11  1337840331522453507                VoiceM  ...         0      False\n",
              "12  1337815730486702087                  WION  ...        18      False\n",
              "13  1337809196453081088   Dr.Krutika Kuppalli  ...        82      False\n",
              "14  1337807109010780162                 Opoyi  ...         0      False\n",
              "\n",
              "[10 rows x 16 columns]"
            ]
          },
          "metadata": {
            "tags": []
          },
          "execution_count": 14
        }
      ]
    },
    {
      "cell_type": "code",
      "metadata": {
        "colab": {
          "base_uri": "https://localhost:8080/"
        },
        "id": "igV5ZAvqsSoH",
        "outputId": "64c57412-fe10-4f88-96bf-d3fd1050ec7d"
      },
      "source": [
        "df.shape"
      ],
      "execution_count": null,
      "outputs": [
        {
          "output_type": "execute_result",
          "data": {
            "text/plain": [
              "(8082, 16)"
            ]
          },
          "metadata": {
            "tags": []
          },
          "execution_count": 15
        }
      ]
    },
    {
      "cell_type": "code",
      "metadata": {
        "id": "lvhYyxzAtGcs"
      },
      "source": [
        "linhas, colunas = df.shape"
      ],
      "execution_count": null,
      "outputs": []
    },
    {
      "cell_type": "code",
      "metadata": {
        "colab": {
          "base_uri": "https://localhost:8080/"
        },
        "id": "JrK89Tv0tVsM",
        "outputId": "31f25fae-0661-40c2-f706-1c057b5e5cfc"
      },
      "source": [
        "print(linhas)"
      ],
      "execution_count": null,
      "outputs": [
        {
          "output_type": "stream",
          "text": [
            "8082\n"
          ],
          "name": "stdout"
        }
      ]
    },
    {
      "cell_type": "code",
      "metadata": {
        "colab": {
          "base_uri": "https://localhost:8080/"
        },
        "id": "9xEzqHxutXOF",
        "outputId": "e41bb859-0adb-40d8-9406-18276e63fc12"
      },
      "source": [
        "print(colunas)"
      ],
      "execution_count": null,
      "outputs": [
        {
          "output_type": "stream",
          "text": [
            "16\n"
          ],
          "name": "stdout"
        }
      ]
    },
    {
      "cell_type": "code",
      "metadata": {
        "id": "bUkjOIGVtYxc"
      },
      "source": [
        "percentual_faltantes = (df.isnull().sum()/linhas) * 100"
      ],
      "execution_count": null,
      "outputs": []
    },
    {
      "cell_type": "code",
      "metadata": {
        "colab": {
          "base_uri": "https://localhost:8080/"
        },
        "id": "oqOvmU3Utmcw",
        "outputId": "1d9bd44e-5646-4c04-8673-f3c4f1ea25b4"
      },
      "source": [
        "print(percentual_faltantes)"
      ],
      "execution_count": null,
      "outputs": [
        {
          "output_type": "stream",
          "text": [
            "id                   0.000000\n",
            "user_name            0.000000\n",
            "user_location       20.168275\n",
            "user_description     6.260827\n",
            "user_created         0.000000\n",
            "user_followers       0.000000\n",
            "user_friends         0.000000\n",
            "user_favourites      0.000000\n",
            "user_verified        0.000000\n",
            "date                 0.000000\n",
            "text                 0.000000\n",
            "hashtags            24.115318\n",
            "source               0.012373\n",
            "retweets             0.000000\n",
            "favorites            0.000000\n",
            "is_retweet           0.000000\n",
            "dtype: float64\n"
          ],
          "name": "stdout"
        }
      ]
    },
    {
      "cell_type": "code",
      "metadata": {
        "id": "18eHNqNntojf"
      },
      "source": [
        "df = df.dropna()"
      ],
      "execution_count": null,
      "outputs": []
    },
    {
      "cell_type": "code",
      "metadata": {
        "colab": {
          "base_uri": "https://localhost:8080/"
        },
        "id": "GAmKsJFvuDi2",
        "outputId": "a16aa4ae-49d6-41d8-d5fb-0d88bcebe587"
      },
      "source": [
        "df.shape"
      ],
      "execution_count": null,
      "outputs": [
        {
          "output_type": "execute_result",
          "data": {
            "text/plain": [
              "(4749, 16)"
            ]
          },
          "metadata": {
            "tags": []
          },
          "execution_count": 22
        }
      ]
    },
    {
      "cell_type": "code",
      "metadata": {
        "colab": {
          "base_uri": "https://localhost:8080/"
        },
        "id": "W6JkuE0suFbE",
        "outputId": "6a45c584-0106-4226-dbfa-4ad0e9c770d7"
      },
      "source": [
        "df.info()"
      ],
      "execution_count": null,
      "outputs": [
        {
          "output_type": "stream",
          "text": [
            "<class 'pandas.core.frame.DataFrame'>\n",
            "Int64Index: 4749 entries, 0 to 8081\n",
            "Data columns (total 16 columns):\n",
            " #   Column            Non-Null Count  Dtype \n",
            "---  ------            --------------  ----- \n",
            " 0   id                4749 non-null   int64 \n",
            " 1   user_name         4749 non-null   object\n",
            " 2   user_location     4749 non-null   object\n",
            " 3   user_description  4749 non-null   object\n",
            " 4   user_created      4749 non-null   object\n",
            " 5   user_followers    4749 non-null   int64 \n",
            " 6   user_friends      4749 non-null   int64 \n",
            " 7   user_favourites   4749 non-null   int64 \n",
            " 8   user_verified     4749 non-null   bool  \n",
            " 9   date              4749 non-null   object\n",
            " 10  text              4749 non-null   object\n",
            " 11  hashtags          4749 non-null   object\n",
            " 12  source            4749 non-null   object\n",
            " 13  retweets          4749 non-null   int64 \n",
            " 14  favorites         4749 non-null   int64 \n",
            " 15  is_retweet        4749 non-null   bool  \n",
            "dtypes: bool(2), int64(6), object(8)\n",
            "memory usage: 565.8+ KB\n"
          ],
          "name": "stdout"
        }
      ]
    },
    {
      "cell_type": "code",
      "metadata": {
        "id": "7PoT0IIDuLw9"
      },
      "source": [
        "df[\"user_created\"] = pd.to_datetime(df[\"user_created\"], format = '%Y-%m-%d %H:%M:%S' )\n",
        "df[\"date\"] = pd.to_datetime(df[\"date\"], format = '%Y-%m-%d %H:%M:%S' )"
      ],
      "execution_count": null,
      "outputs": []
    },
    {
      "cell_type": "code",
      "metadata": {
        "colab": {
          "base_uri": "https://localhost:8080/"
        },
        "id": "op6mFtswuxo5",
        "outputId": "33a180b1-c0e2-485f-f985-9613e05544ff"
      },
      "source": [
        "df.info()"
      ],
      "execution_count": null,
      "outputs": [
        {
          "output_type": "stream",
          "text": [
            "<class 'pandas.core.frame.DataFrame'>\n",
            "Int64Index: 4749 entries, 0 to 8081\n",
            "Data columns (total 16 columns):\n",
            " #   Column            Non-Null Count  Dtype         \n",
            "---  ------            --------------  -----         \n",
            " 0   id                4749 non-null   int64         \n",
            " 1   user_name         4749 non-null   object        \n",
            " 2   user_location     4749 non-null   object        \n",
            " 3   user_description  4749 non-null   object        \n",
            " 4   user_created      4749 non-null   datetime64[ns]\n",
            " 5   user_followers    4749 non-null   int64         \n",
            " 6   user_friends      4749 non-null   int64         \n",
            " 7   user_favourites   4749 non-null   int64         \n",
            " 8   user_verified     4749 non-null   bool          \n",
            " 9   date              4749 non-null   datetime64[ns]\n",
            " 10  text              4749 non-null   object        \n",
            " 11  hashtags          4749 non-null   object        \n",
            " 12  source            4749 non-null   object        \n",
            " 13  retweets          4749 non-null   int64         \n",
            " 14  favorites         4749 non-null   int64         \n",
            " 15  is_retweet        4749 non-null   bool          \n",
            "dtypes: bool(2), datetime64[ns](2), int64(6), object(6)\n",
            "memory usage: 565.8+ KB\n"
          ],
          "name": "stdout"
        }
      ]
    },
    {
      "cell_type": "code",
      "metadata": {
        "colab": {
          "base_uri": "https://localhost:8080/",
          "height": 736
        },
        "id": "niGSyhTRwoyg",
        "outputId": "6508aef6-991e-4396-f753-3cb702af63c2"
      },
      "source": [
        "plt.figure(figsize=(10,12))\n",
        "sns.barplot(df[\"user_location\"].value_counts().values[0:5], df[\"user_location\"].value_counts().index[0:5]);\n",
        "plt.title(\"Top 5 Países\", fontsize = 14)\n",
        "plt.xlabel(\"Numero de tweets\", fontsize = 14)\n",
        "plt.ylabel(\"País\", fontsize = 14)\n",
        "plt.show()"
      ],
      "execution_count": null,
      "outputs": [
        {
          "output_type": "display_data",
          "data": {
            "image/png": "[encoded data removed]",
            "text/plain": [
              "<Figure size 720x864 with 1 Axes>"
            ]
          },
          "metadata": {
            "tags": [],
            "needs_background": "light"
          }
        }
      ]
    },
    {
      "cell_type": "code",
      "metadata": {
        "colab": {
          "base_uri": "https://localhost:8080/",
          "height": 591
        },
        "id": "iK6xLnn6zyB8",
        "outputId": "5361c343-be83-4f9f-b6c4-2b23b476be1e"
      },
      "source": [
        "graf_pizza = df[\"source\"][df[\"user_location\"] == \"India\"].value_counts().sort_values(ascending=False)\n",
        "plt.figure(figsize=(10,10))\n",
        "graf_pizza[0:5].plot(kind= \"pie\", title = \"Source - India\", autopct = '%.3f')\n",
        "plt.show()"
      ],
      "execution_count": null,
      "outputs": [
        {
          "output_type": "display_data",
          "data": {
            "image/png": "[encoded data removed]",
            "text/plain": [
              "<Figure size 720x720 with 1 Axes>"
            ]
          },
          "metadata": {
            "tags": []
          }
        }
      ]
    },
    {
      "cell_type": "code",
      "metadata": {
        "id": "UEZ3PVYZ3QVH"
      },
      "source": [
        "L = [\"year\", 'month', 'day', 'dayofweek', 'dayofyear', 'weekofyear', 'quarter']\n",
        "df = df.join(pd.concat((getattr(df[\"date\"].dt, i).rename(i) for i in L), axis = 1))"
      ],
      "execution_count": null,
      "outputs": []
    },
    {
      "cell_type": "code",
      "metadata": {
        "colab": {
          "base_uri": "https://localhost:8080/",
          "height": 438
        },
        "id": "1tNYjQhi7G5y",
        "outputId": "a5aec4ca-7ae3-41df-baa3-9375a88f4467"
      },
      "source": [
        "df.head()"
      ],
      "execution_count": null,
      "outputs": [
        {
          "output_type": "execute_result",
          "data": {
            "text/html": [
              "<div>\n",
              "<style scoped>\n",
              "    .dataframe tbody tr th:only-of-type {\n",
              "        vertical-align: middle;\n",
              "    }\n",
              "\n",
              "    .dataframe tbody tr th {\n",
              "        vertical-align: top;\n",
              "    }\n",
              "\n",
              "    .dataframe thead th {\n",
              "        text-align: right;\n",
              "    }\n",
              "</style>\n",
              "<table border=\"1\" class=\"dataframe\">\n",
              "  <thead>\n",
              "    <tr style=\"text-align: right;\">\n",
              "      <th></th>\n",
              "      <th>id</th>\n",
              "      <th>user_name</th>\n",
              "      <th>user_location</th>\n",
              "      <th>user_description</th>\n",
              "      <th>user_created</th>\n",
              "      <th>user_followers</th>\n",
              "      <th>user_friends</th>\n",
              "      <th>user_favourites</th>\n",
              "      <th>user_verified</th>\n",
              "      <th>date</th>\n",
              "      <th>text</th>\n",
              "      <th>hashtags</th>\n",
              "      <th>source</th>\n",
              "      <th>retweets</th>\n",
              "      <th>favorites</th>\n",
              "      <th>is_retweet</th>\n",
              "      <th>year</th>\n",
              "      <th>month</th>\n",
              "      <th>day</th>\n",
              "      <th>dayofweek</th>\n",
              "      <th>dayofyear</th>\n",
              "      <th>weekofyear</th>\n",
              "      <th>quarter</th>\n",
              "    </tr>\n",
              "  </thead>\n",
              "  <tbody>\n",
              "    <tr>\n",
              "      <th>0</th>\n",
              "      <td>1340539111971516416</td>\n",
              "      <td>Rachel Roh</td>\n",
              "      <td>La Crescenta-Montrose, CA</td>\n",
              "      <td>Aggregator of Asian American news; scanning di...</td>\n",
              "      <td>2009-04-08 17:52:46</td>\n",
              "      <td>405</td>\n",
              "      <td>1692</td>\n",
              "      <td>3247</td>\n",
              "      <td>False</td>\n",
              "      <td>2020-12-20 06:06:44</td>\n",
              "      <td>Same folks said daikon paste could treat a cyt...</td>\n",
              "      <td>['PfizerBioNTech']</td>\n",
              "      <td>Twitter for Android</td>\n",
              "      <td>0</td>\n",
              "      <td>0</td>\n",
              "      <td>False</td>\n",
              "      <td>2020</td>\n",
              "      <td>12</td>\n",
              "      <td>20</td>\n",
              "      <td>6</td>\n",
              "      <td>355</td>\n",
              "      <td>51</td>\n",
              "      <td>4</td>\n",
              "    </tr>\n",
              "    <tr>\n",
              "      <th>2</th>\n",
              "      <td>1337858199140118533</td>\n",
              "      <td>eli🇱🇹🇪🇺👌</td>\n",
              "      <td>Your Bed</td>\n",
              "      <td>heil, hydra 🖐☺</td>\n",
              "      <td>2020-06-25 23:30:28</td>\n",
              "      <td>10</td>\n",
              "      <td>88</td>\n",
              "      <td>155</td>\n",
              "      <td>False</td>\n",
              "      <td>2020-12-12 20:33:45</td>\n",
              "      <td>#coronavirus #SputnikV #AstraZeneca #PfizerBio...</td>\n",
              "      <td>['coronavirus', 'SputnikV', 'AstraZeneca', 'Pf...</td>\n",
              "      <td>Twitter for Android</td>\n",
              "      <td>0</td>\n",
              "      <td>0</td>\n",
              "      <td>False</td>\n",
              "      <td>2020</td>\n",
              "      <td>12</td>\n",
              "      <td>12</td>\n",
              "      <td>5</td>\n",
              "      <td>347</td>\n",
              "      <td>50</td>\n",
              "      <td>4</td>\n",
              "    </tr>\n",
              "    <tr>\n",
              "      <th>6</th>\n",
              "      <td>1337851215875608579</td>\n",
              "      <td>Gunther Fehlinger</td>\n",
              "      <td>Austria, Ukraine and Kosovo</td>\n",
              "      <td>End North Stream 2 now - the pipeline of corru...</td>\n",
              "      <td>2013-06-10 17:49:22</td>\n",
              "      <td>2731</td>\n",
              "      <td>5001</td>\n",
              "      <td>69344</td>\n",
              "      <td>False</td>\n",
              "      <td>2020-12-12 20:06:00</td>\n",
              "      <td>it is a bit sad to claim the fame for success ...</td>\n",
              "      <td>['vaccination']</td>\n",
              "      <td>Twitter Web App</td>\n",
              "      <td>0</td>\n",
              "      <td>4</td>\n",
              "      <td>False</td>\n",
              "      <td>2020</td>\n",
              "      <td>12</td>\n",
              "      <td>12</td>\n",
              "      <td>5</td>\n",
              "      <td>347</td>\n",
              "      <td>50</td>\n",
              "      <td>4</td>\n",
              "    </tr>\n",
              "    <tr>\n",
              "      <th>9</th>\n",
              "      <td>1337842295857623042</td>\n",
              "      <td>Ch.Amjad Ali</td>\n",
              "      <td>Islamabad</td>\n",
              "      <td>#ProudPakistani #LovePakArmy #PMIK @insafiansp...</td>\n",
              "      <td>2012-11-12 04:18:12</td>\n",
              "      <td>671</td>\n",
              "      <td>2368</td>\n",
              "      <td>20469</td>\n",
              "      <td>False</td>\n",
              "      <td>2020-12-12 19:30:33</td>\n",
              "      <td>#CovidVaccine \\n\\nStates will start getting #C...</td>\n",
              "      <td>['CovidVaccine', 'COVID19Vaccine', 'US', 'paku...</td>\n",
              "      <td>Twitter Web App</td>\n",
              "      <td>0</td>\n",
              "      <td>0</td>\n",
              "      <td>False</td>\n",
              "      <td>2020</td>\n",
              "      <td>12</td>\n",
              "      <td>12</td>\n",
              "      <td>5</td>\n",
              "      <td>347</td>\n",
              "      <td>50</td>\n",
              "      <td>4</td>\n",
              "    </tr>\n",
              "    <tr>\n",
              "      <th>10</th>\n",
              "      <td>1337841934170255365</td>\n",
              "      <td>Tamer Yazar</td>\n",
              "      <td>Turkey-Israel</td>\n",
              "      <td>Im Market Analyst, also Editor... working (fre...</td>\n",
              "      <td>2009-09-17 16:45:16</td>\n",
              "      <td>1302</td>\n",
              "      <td>78</td>\n",
              "      <td>339</td>\n",
              "      <td>False</td>\n",
              "      <td>2020-12-12 19:29:07</td>\n",
              "      <td>while deaths are closing in on the 300,000 mar...</td>\n",
              "      <td>['PfizerBioNTech', 'Vaccine']</td>\n",
              "      <td>Twitter Web App</td>\n",
              "      <td>0</td>\n",
              "      <td>0</td>\n",
              "      <td>False</td>\n",
              "      <td>2020</td>\n",
              "      <td>12</td>\n",
              "      <td>12</td>\n",
              "      <td>5</td>\n",
              "      <td>347</td>\n",
              "      <td>50</td>\n",
              "      <td>4</td>\n",
              "    </tr>\n",
              "  </tbody>\n",
              "</table>\n",
              "</div>"
            ],
            "text/plain": [
              "                     id          user_name  ... weekofyear quarter\n",
              "0   1340539111971516416         Rachel Roh  ...         51       4\n",
              "2   1337858199140118533           eli🇱🇹🇪🇺👌  ...         50       4\n",
              "6   1337851215875608579  Gunther Fehlinger  ...         50       4\n",
              "9   1337842295857623042       Ch.Amjad Ali  ...         50       4\n",
              "10  1337841934170255365        Tamer Yazar  ...         50       4\n",
              "\n",
              "[5 rows x 23 columns]"
            ]
          },
          "metadata": {
            "tags": []
          },
          "execution_count": 29
        }
      ]
    },
    {
      "cell_type": "code",
      "metadata": {
        "colab": {
          "base_uri": "https://localhost:8080/"
        },
        "id": "4G3Tgy5s7J-R",
        "outputId": "c449b9ae-28cf-4da6-9642-b644ea98a98d"
      },
      "source": [
        "df[\"text\"]"
      ],
      "execution_count": null,
      "outputs": [
        {
          "output_type": "execute_result",
          "data": {
            "text/plain": [
              "0       Same folks said daikon paste could treat a cyt...\n",
              "2       #coronavirus #SputnikV #AstraZeneca #PfizerBio...\n",
              "6       it is a bit sad to claim the fame for success ...\n",
              "9       #CovidVaccine \\n\\nStates will start getting #C...\n",
              "10      while deaths are closing in on the 300,000 mar...\n",
              "                              ...                        \n",
              "8073    @narendramodi\\n#5Qs 1146th set\\nSir\\nWud #fore...\n",
              "8074    @CNBCTV18News @ShereenBhan WTF is this? Is he ...\n",
              "8079    Second #PfizerBioNTech vaccine shot done! Than...\n",
              "8080    Second #PfizerBioNTech vaccine is officially i...\n",
              "8081    @mid_day #DGCI why not allow other proven Vacc...\n",
              "Name: text, Length: 4749, dtype: object"
            ]
          },
          "metadata": {
            "tags": []
          },
          "execution_count": 30
        }
      ]
    },
    {
      "cell_type": "code",
      "metadata": {
        "id": "Bgkt9ktO7i4R"
      },
      "source": [
        "def limpeza_do_texto(text):\n",
        "  text = re.sub('\\n', '', text)\n",
        "  text = re.sub('@[^\\s]+', '', text)\n",
        "  text = re.sub('\\B#\\S+', '', text)\n",
        "  return text"
      ],
      "execution_count": null,
      "outputs": []
    },
    {
      "cell_type": "code",
      "metadata": {
        "id": "7bOlq0FY98Dh"
      },
      "source": [
        "df[\"text\"] = df['text'].apply(lambda x:limpeza_do_texto(x))"
      ],
      "execution_count": null,
      "outputs": []
    },
    {
      "cell_type": "code",
      "metadata": {
        "colab": {
          "base_uri": "https://localhost:8080/"
        },
        "id": "RcLjTE-B-HwB",
        "outputId": "d94489ac-2fb1-4d69-f3dd-fe7ecff84890"
      },
      "source": [
        "df[\"text\"]"
      ],
      "execution_count": null,
      "outputs": [
        {
          "output_type": "execute_result",
          "data": {
            "text/plain": [
              "0       Same folks said daikon paste could treat a cyt...\n",
              "2             Russian vaccine is created to last 2-4 y...\n",
              "6       it is a bit sad to claim the fame for success ...\n",
              "9        States will start getting  Monday,  says     ...\n",
              "10      while deaths are closing in on the 300,000 mar...\n",
              "                              ...                        \n",
              "8073     1146th setSirWud   entry enrich  Wud it help ...\n",
              "8074      WTF is this? Is he playing a Ping Pong Game?...\n",
              "8079    Second  vaccine shot done! Thanks  💉  https://...\n",
              "8080    Second  vaccine is officially in! 💉Thank you  ...\n",
              "8081          why not allow other proven Vaccines like   \n",
              "Name: text, Length: 4749, dtype: object"
            ]
          },
          "metadata": {
            "tags": []
          },
          "execution_count": 33
        }
      ]
    },
    {
      "cell_type": "code",
      "metadata": {
        "id": "lKLtBpdX-9Z7",
        "colab": {
          "base_uri": "https://localhost:8080/",
          "height": 682
        },
        "outputId": "b318913e-c061-4693-a9ef-c44be4c86801"
      },
      "source": [
        "df.head()"
      ],
      "execution_count": null,
      "outputs": [
        {
          "output_type": "execute_result",
          "data": {
            "text/html": [
              "<div>\n",
              "<style scoped>\n",
              "    .dataframe tbody tr th:only-of-type {\n",
              "        vertical-align: middle;\n",
              "    }\n",
              "\n",
              "    .dataframe tbody tr th {\n",
              "        vertical-align: top;\n",
              "    }\n",
              "\n",
              "    .dataframe thead th {\n",
              "        text-align: right;\n",
              "    }\n",
              "</style>\n",
              "<table border=\"1\" class=\"dataframe\">\n",
              "  <thead>\n",
              "    <tr style=\"text-align: right;\">\n",
              "      <th></th>\n",
              "      <th>id</th>\n",
              "      <th>user_name</th>\n",
              "      <th>user_location</th>\n",
              "      <th>user_description</th>\n",
              "      <th>user_created</th>\n",
              "      <th>user_followers</th>\n",
              "      <th>user_friends</th>\n",
              "      <th>user_favourites</th>\n",
              "      <th>user_verified</th>\n",
              "      <th>date</th>\n",
              "      <th>text</th>\n",
              "      <th>hashtags</th>\n",
              "      <th>source</th>\n",
              "      <th>retweets</th>\n",
              "      <th>favorites</th>\n",
              "      <th>is_retweet</th>\n",
              "      <th>year</th>\n",
              "      <th>month</th>\n",
              "      <th>day</th>\n",
              "      <th>dayofweek</th>\n",
              "      <th>dayofyear</th>\n",
              "      <th>weekofyear</th>\n",
              "      <th>quarter</th>\n",
              "    </tr>\n",
              "  </thead>\n",
              "  <tbody>\n",
              "    <tr>\n",
              "      <th>0</th>\n",
              "      <td>1340539111971516416</td>\n",
              "      <td>Rachel Roh</td>\n",
              "      <td>La Crescenta-Montrose, CA</td>\n",
              "      <td>Aggregator of Asian American news; scanning di...</td>\n",
              "      <td>2009-04-08 17:52:46</td>\n",
              "      <td>405</td>\n",
              "      <td>1692</td>\n",
              "      <td>3247</td>\n",
              "      <td>False</td>\n",
              "      <td>2020-12-20 06:06:44</td>\n",
              "      <td>Same folks said daikon paste could treat a cyt...</td>\n",
              "      <td>['PfizerBioNTech']</td>\n",
              "      <td>Twitter for Android</td>\n",
              "      <td>0</td>\n",
              "      <td>0</td>\n",
              "      <td>False</td>\n",
              "      <td>2020</td>\n",
              "      <td>12</td>\n",
              "      <td>20</td>\n",
              "      <td>6</td>\n",
              "      <td>355</td>\n",
              "      <td>51</td>\n",
              "      <td>4</td>\n",
              "    </tr>\n",
              "    <tr>\n",
              "      <th>2</th>\n",
              "      <td>1337858199140118533</td>\n",
              "      <td>eli🇱🇹🇪🇺👌</td>\n",
              "      <td>Your Bed</td>\n",
              "      <td>heil, hydra 🖐☺</td>\n",
              "      <td>2020-06-25 23:30:28</td>\n",
              "      <td>10</td>\n",
              "      <td>88</td>\n",
              "      <td>155</td>\n",
              "      <td>False</td>\n",
              "      <td>2020-12-12 20:33:45</td>\n",
              "      <td>Russian vaccine is created to last 2-4 y...</td>\n",
              "      <td>['coronavirus', 'SputnikV', 'AstraZeneca', 'Pf...</td>\n",
              "      <td>Twitter for Android</td>\n",
              "      <td>0</td>\n",
              "      <td>0</td>\n",
              "      <td>False</td>\n",
              "      <td>2020</td>\n",
              "      <td>12</td>\n",
              "      <td>12</td>\n",
              "      <td>5</td>\n",
              "      <td>347</td>\n",
              "      <td>50</td>\n",
              "      <td>4</td>\n",
              "    </tr>\n",
              "    <tr>\n",
              "      <th>6</th>\n",
              "      <td>1337851215875608579</td>\n",
              "      <td>Gunther Fehlinger</td>\n",
              "      <td>Austria, Ukraine and Kosovo</td>\n",
              "      <td>End North Stream 2 now - the pipeline of corru...</td>\n",
              "      <td>2013-06-10 17:49:22</td>\n",
              "      <td>2731</td>\n",
              "      <td>5001</td>\n",
              "      <td>69344</td>\n",
              "      <td>False</td>\n",
              "      <td>2020-12-12 20:06:00</td>\n",
              "      <td>it is a bit sad to claim the fame for success ...</td>\n",
              "      <td>['vaccination']</td>\n",
              "      <td>Twitter Web App</td>\n",
              "      <td>0</td>\n",
              "      <td>4</td>\n",
              "      <td>False</td>\n",
              "      <td>2020</td>\n",
              "      <td>12</td>\n",
              "      <td>12</td>\n",
              "      <td>5</td>\n",
              "      <td>347</td>\n",
              "      <td>50</td>\n",
              "      <td>4</td>\n",
              "    </tr>\n",
              "    <tr>\n",
              "      <th>9</th>\n",
              "      <td>1337842295857623042</td>\n",
              "      <td>Ch.Amjad Ali</td>\n",
              "      <td>Islamabad</td>\n",
              "      <td>#ProudPakistani #LovePakArmy #PMIK @insafiansp...</td>\n",
              "      <td>2012-11-12 04:18:12</td>\n",
              "      <td>671</td>\n",
              "      <td>2368</td>\n",
              "      <td>20469</td>\n",
              "      <td>False</td>\n",
              "      <td>2020-12-12 19:30:33</td>\n",
              "      <td>States will start getting  Monday,  says     ...</td>\n",
              "      <td>['CovidVaccine', 'COVID19Vaccine', 'US', 'paku...</td>\n",
              "      <td>Twitter Web App</td>\n",
              "      <td>0</td>\n",
              "      <td>0</td>\n",
              "      <td>False</td>\n",
              "      <td>2020</td>\n",
              "      <td>12</td>\n",
              "      <td>12</td>\n",
              "      <td>5</td>\n",
              "      <td>347</td>\n",
              "      <td>50</td>\n",
              "      <td>4</td>\n",
              "    </tr>\n",
              "    <tr>\n",
              "      <th>10</th>\n",
              "      <td>1337841934170255365</td>\n",
              "      <td>Tamer Yazar</td>\n",
              "      <td>Turkey-Israel</td>\n",
              "      <td>Im Market Analyst, also Editor... working (fre...</td>\n",
              "      <td>2009-09-17 16:45:16</td>\n",
              "      <td>1302</td>\n",
              "      <td>78</td>\n",
              "      <td>339</td>\n",
              "      <td>False</td>\n",
              "      <td>2020-12-12 19:29:07</td>\n",
              "      <td>while deaths are closing in on the 300,000 mar...</td>\n",
              "      <td>['PfizerBioNTech', 'Vaccine']</td>\n",
              "      <td>Twitter Web App</td>\n",
              "      <td>0</td>\n",
              "      <td>0</td>\n",
              "      <td>False</td>\n",
              "      <td>2020</td>\n",
              "      <td>12</td>\n",
              "      <td>12</td>\n",
              "      <td>5</td>\n",
              "      <td>347</td>\n",
              "      <td>50</td>\n",
              "      <td>4</td>\n",
              "    </tr>\n",
              "  </tbody>\n",
              "</table>\n",
              "</div>"
            ],
            "text/plain": [
              "                     id          user_name  ... weekofyear quarter\n",
              "0   1340539111971516416         Rachel Roh  ...         51       4\n",
              "2   1337858199140118533           eli🇱🇹🇪🇺👌  ...         50       4\n",
              "6   1337851215875608579  Gunther Fehlinger  ...         50       4\n",
              "9   1337842295857623042       Ch.Amjad Ali  ...         50       4\n",
              "10  1337841934170255365        Tamer Yazar  ...         50       4\n",
              "\n",
              "[5 rows x 23 columns]"
            ]
          },
          "metadata": {
            "tags": []
          },
          "execution_count": 34
        }
      ]
    },
    {
      "cell_type": "code",
      "metadata": {
        "id": "J6wRT7t-ncAm"
      },
      "source": [
        "analisador_de_texto = SentimentIntensityAnalyzer()"
      ],
      "execution_count": null,
      "outputs": []
    },
    {
      "cell_type": "code",
      "metadata": {
        "id": "iIJ5IuG-o5-e"
      },
      "source": [
        "quantidade_tweets = (len(df[\"text\"]))"
      ],
      "execution_count": null,
      "outputs": []
    },
    {
      "cell_type": "code",
      "metadata": {
        "colab": {
          "base_uri": "https://localhost:8080/"
        },
        "id": "t43X5_iqr4BS",
        "outputId": "f1fc2cbd-568a-41d5-c50d-93e12134b68b"
      },
      "source": [
        "print(quantidade_tweets)"
      ],
      "execution_count": null,
      "outputs": [
        {
          "output_type": "stream",
          "text": [
            "4749\n"
          ],
          "name": "stdout"
        }
      ]
    },
    {
      "cell_type": "code",
      "metadata": {
        "id": "AlaIwq62r6Gk"
      },
      "source": [
        "sid = SIA()"
      ],
      "execution_count": null,
      "outputs": []
    },
    {
      "cell_type": "code",
      "metadata": {
        "colab": {
          "base_uri": "https://localhost:8080/"
        },
        "id": "orne0cl7sMnL",
        "outputId": "49f64564-baaf-4ec3-bc8f-45840ddb165b"
      },
      "source": [
        "sid"
      ],
      "execution_count": null,
      "outputs": [
        {
          "output_type": "execute_result",
          "data": {
            "text/plain": [
              "<nltk.sentiment.vader.SentimentIntensityAnalyzer at 0x7f14e6ce7e10>"
            ]
          },
          "metadata": {
            "tags": []
          },
          "execution_count": 39
        }
      ]
    },
    {
      "cell_type": "code",
      "metadata": {
        "id": "G95feUCXsODF"
      },
      "source": [
        "df['sentiments'] = df['text'].apply(lambda x: sid.polarity_scores(' '.join(re.findall(r'\\w+', x.lower()))))\n",
        "#df['sentiments'] = df['text'].apply(lambda x: sid.polarity_scores)"
      ],
      "execution_count": null,
      "outputs": []
    },
    {
      "cell_type": "code",
      "metadata": {
        "colab": {
          "base_uri": "https://localhost:8080/"
        },
        "id": "idFP_fa2tIrW",
        "outputId": "3bd6b832-5afb-4901-a601-a5f781fe8c12"
      },
      "source": [
        "df['sentiments']"
      ],
      "execution_count": null,
      "outputs": [
        {
          "output_type": "execute_result",
          "data": {
            "text/plain": [
              "0       {'neg': 0.0, 'neu': 0.803, 'pos': 0.197, 'comp...\n",
              "2       {'neg': 0.0, 'neu': 0.818, 'pos': 0.182, 'comp...\n",
              "6       {'neg': 0.108, 'neu': 0.662, 'pos': 0.23, 'com...\n",
              "9       {'neg': 0.0, 'neu': 1.0, 'pos': 0.0, 'compound...\n",
              "10      {'neg': 0.0, 'neu': 1.0, 'pos': 0.0, 'compound...\n",
              "                              ...                        \n",
              "8073    {'neg': 0.0, 'neu': 0.787, 'pos': 0.213, 'comp...\n",
              "8074    {'neg': 0.176, 'neu': 0.741, 'pos': 0.083, 'co...\n",
              "8079    {'neg': 0.0, 'neu': 0.707, 'pos': 0.293, 'comp...\n",
              "8080    {'neg': 0.0, 'neu': 0.857, 'pos': 0.143, 'comp...\n",
              "8081    {'neg': 0.182, 'neu': 0.545, 'pos': 0.273, 'co...\n",
              "Name: sentiments, Length: 4749, dtype: object"
            ]
          },
          "metadata": {
            "tags": []
          },
          "execution_count": 41
        }
      ]
    },
    {
      "cell_type": "code",
      "metadata": {
        "colab": {
          "base_uri": "https://localhost:8080/",
          "height": 682
        },
        "id": "eWoXBTLQtKnM",
        "outputId": "4473ed5b-0820-486c-d00f-55dfbb9c8975"
      },
      "source": [
        "df.head()"
      ],
      "execution_count": null,
      "outputs": [
        {
          "output_type": "execute_result",
          "data": {
            "text/html": [
              "<div>\n",
              "<style scoped>\n",
              "    .dataframe tbody tr th:only-of-type {\n",
              "        vertical-align: middle;\n",
              "    }\n",
              "\n",
              "    .dataframe tbody tr th {\n",
              "        vertical-align: top;\n",
              "    }\n",
              "\n",
              "    .dataframe thead th {\n",
              "        text-align: right;\n",
              "    }\n",
              "</style>\n",
              "<table border=\"1\" class=\"dataframe\">\n",
              "  <thead>\n",
              "    <tr style=\"text-align: right;\">\n",
              "      <th></th>\n",
              "      <th>id</th>\n",
              "      <th>user_name</th>\n",
              "      <th>user_location</th>\n",
              "      <th>user_description</th>\n",
              "      <th>user_created</th>\n",
              "      <th>user_followers</th>\n",
              "      <th>user_friends</th>\n",
              "      <th>user_favourites</th>\n",
              "      <th>user_verified</th>\n",
              "      <th>date</th>\n",
              "      <th>text</th>\n",
              "      <th>hashtags</th>\n",
              "      <th>source</th>\n",
              "      <th>retweets</th>\n",
              "      <th>favorites</th>\n",
              "      <th>is_retweet</th>\n",
              "      <th>year</th>\n",
              "      <th>month</th>\n",
              "      <th>day</th>\n",
              "      <th>dayofweek</th>\n",
              "      <th>dayofyear</th>\n",
              "      <th>weekofyear</th>\n",
              "      <th>quarter</th>\n",
              "      <th>sentiments</th>\n",
              "    </tr>\n",
              "  </thead>\n",
              "  <tbody>\n",
              "    <tr>\n",
              "      <th>0</th>\n",
              "      <td>1340539111971516416</td>\n",
              "      <td>Rachel Roh</td>\n",
              "      <td>La Crescenta-Montrose, CA</td>\n",
              "      <td>Aggregator of Asian American news; scanning di...</td>\n",
              "      <td>2009-04-08 17:52:46</td>\n",
              "      <td>405</td>\n",
              "      <td>1692</td>\n",
              "      <td>3247</td>\n",
              "      <td>False</td>\n",
              "      <td>2020-12-20 06:06:44</td>\n",
              "      <td>Same folks said daikon paste could treat a cyt...</td>\n",
              "      <td>['PfizerBioNTech']</td>\n",
              "      <td>Twitter for Android</td>\n",
              "      <td>0</td>\n",
              "      <td>0</td>\n",
              "      <td>False</td>\n",
              "      <td>2020</td>\n",
              "      <td>12</td>\n",
              "      <td>20</td>\n",
              "      <td>6</td>\n",
              "      <td>355</td>\n",
              "      <td>51</td>\n",
              "      <td>4</td>\n",
              "      <td>{'neg': 0.0, 'neu': 0.803, 'pos': 0.197, 'comp...</td>\n",
              "    </tr>\n",
              "    <tr>\n",
              "      <th>2</th>\n",
              "      <td>1337858199140118533</td>\n",
              "      <td>eli🇱🇹🇪🇺👌</td>\n",
              "      <td>Your Bed</td>\n",
              "      <td>heil, hydra 🖐☺</td>\n",
              "      <td>2020-06-25 23:30:28</td>\n",
              "      <td>10</td>\n",
              "      <td>88</td>\n",
              "      <td>155</td>\n",
              "      <td>False</td>\n",
              "      <td>2020-12-12 20:33:45</td>\n",
              "      <td>Russian vaccine is created to last 2-4 y...</td>\n",
              "      <td>['coronavirus', 'SputnikV', 'AstraZeneca', 'Pf...</td>\n",
              "      <td>Twitter for Android</td>\n",
              "      <td>0</td>\n",
              "      <td>0</td>\n",
              "      <td>False</td>\n",
              "      <td>2020</td>\n",
              "      <td>12</td>\n",
              "      <td>12</td>\n",
              "      <td>5</td>\n",
              "      <td>347</td>\n",
              "      <td>50</td>\n",
              "      <td>4</td>\n",
              "      <td>{'neg': 0.0, 'neu': 0.818, 'pos': 0.182, 'comp...</td>\n",
              "    </tr>\n",
              "    <tr>\n",
              "      <th>6</th>\n",
              "      <td>1337851215875608579</td>\n",
              "      <td>Gunther Fehlinger</td>\n",
              "      <td>Austria, Ukraine and Kosovo</td>\n",
              "      <td>End North Stream 2 now - the pipeline of corru...</td>\n",
              "      <td>2013-06-10 17:49:22</td>\n",
              "      <td>2731</td>\n",
              "      <td>5001</td>\n",
              "      <td>69344</td>\n",
              "      <td>False</td>\n",
              "      <td>2020-12-12 20:06:00</td>\n",
              "      <td>it is a bit sad to claim the fame for success ...</td>\n",
              "      <td>['vaccination']</td>\n",
              "      <td>Twitter Web App</td>\n",
              "      <td>0</td>\n",
              "      <td>4</td>\n",
              "      <td>False</td>\n",
              "      <td>2020</td>\n",
              "      <td>12</td>\n",
              "      <td>12</td>\n",
              "      <td>5</td>\n",
              "      <td>347</td>\n",
              "      <td>50</td>\n",
              "      <td>4</td>\n",
              "      <td>{'neg': 0.108, 'neu': 0.662, 'pos': 0.23, 'com...</td>\n",
              "    </tr>\n",
              "    <tr>\n",
              "      <th>9</th>\n",
              "      <td>1337842295857623042</td>\n",
              "      <td>Ch.Amjad Ali</td>\n",
              "      <td>Islamabad</td>\n",
              "      <td>#ProudPakistani #LovePakArmy #PMIK @insafiansp...</td>\n",
              "      <td>2012-11-12 04:18:12</td>\n",
              "      <td>671</td>\n",
              "      <td>2368</td>\n",
              "      <td>20469</td>\n",
              "      <td>False</td>\n",
              "      <td>2020-12-12 19:30:33</td>\n",
              "      <td>States will start getting  Monday,  says     ...</td>\n",
              "      <td>['CovidVaccine', 'COVID19Vaccine', 'US', 'paku...</td>\n",
              "      <td>Twitter Web App</td>\n",
              "      <td>0</td>\n",
              "      <td>0</td>\n",
              "      <td>False</td>\n",
              "      <td>2020</td>\n",
              "      <td>12</td>\n",
              "      <td>12</td>\n",
              "      <td>5</td>\n",
              "      <td>347</td>\n",
              "      <td>50</td>\n",
              "      <td>4</td>\n",
              "      <td>{'neg': 0.0, 'neu': 1.0, 'pos': 0.0, 'compound...</td>\n",
              "    </tr>\n",
              "    <tr>\n",
              "      <th>10</th>\n",
              "      <td>1337841934170255365</td>\n",
              "      <td>Tamer Yazar</td>\n",
              "      <td>Turkey-Israel</td>\n",
              "      <td>Im Market Analyst, also Editor... working (fre...</td>\n",
              "      <td>2009-09-17 16:45:16</td>\n",
              "      <td>1302</td>\n",
              "      <td>78</td>\n",
              "      <td>339</td>\n",
              "      <td>False</td>\n",
              "      <td>2020-12-12 19:29:07</td>\n",
              "      <td>while deaths are closing in on the 300,000 mar...</td>\n",
              "      <td>['PfizerBioNTech', 'Vaccine']</td>\n",
              "      <td>Twitter Web App</td>\n",
              "      <td>0</td>\n",
              "      <td>0</td>\n",
              "      <td>False</td>\n",
              "      <td>2020</td>\n",
              "      <td>12</td>\n",
              "      <td>12</td>\n",
              "      <td>5</td>\n",
              "      <td>347</td>\n",
              "      <td>50</td>\n",
              "      <td>4</td>\n",
              "      <td>{'neg': 0.0, 'neu': 1.0, 'pos': 0.0, 'compound...</td>\n",
              "    </tr>\n",
              "  </tbody>\n",
              "</table>\n",
              "</div>"
            ],
            "text/plain": [
              "                     id  ...                                         sentiments\n",
              "0   1340539111971516416  ...  {'neg': 0.0, 'neu': 0.803, 'pos': 0.197, 'comp...\n",
              "2   1337858199140118533  ...  {'neg': 0.0, 'neu': 0.818, 'pos': 0.182, 'comp...\n",
              "6   1337851215875608579  ...  {'neg': 0.108, 'neu': 0.662, 'pos': 0.23, 'com...\n",
              "9   1337842295857623042  ...  {'neg': 0.0, 'neu': 1.0, 'pos': 0.0, 'compound...\n",
              "10  1337841934170255365  ...  {'neg': 0.0, 'neu': 1.0, 'pos': 0.0, 'compound...\n",
              "\n",
              "[5 rows x 24 columns]"
            ]
          },
          "metadata": {
            "tags": []
          },
          "execution_count": 42
        }
      ]
    },
    {
      "cell_type": "code",
      "metadata": {
        "id": "33Eg2WQVwKyF"
      },
      "source": [
        "df['positive_sentiment'] = df['sentiments'].apply(lambda x: x['pos'])"
      ],
      "execution_count": null,
      "outputs": []
    },
    {
      "cell_type": "code",
      "metadata": {
        "id": "2C7TgG_VxT4x"
      },
      "source": [
        "df['neutral_sentimet'] = df['sentiments'].apply(lambda x: x['neu'])"
      ],
      "execution_count": null,
      "outputs": []
    },
    {
      "cell_type": "code",
      "metadata": {
        "id": "l3ixJkl5xlhD"
      },
      "source": [
        "df['negative_sentiment'] = df['sentiments'].apply(lambda x: x['neg'])"
      ],
      "execution_count": null,
      "outputs": []
    },
    {
      "cell_type": "code",
      "metadata": {
        "id": "Y1kwtFIkxpfm"
      },
      "source": [
        "df['compound'] = df['sentiments'].apply(lambda x: x[\"compound\"])"
      ],
      "execution_count": null,
      "outputs": []
    },
    {
      "cell_type": "code",
      "metadata": {
        "colab": {
          "base_uri": "https://localhost:8080/",
          "height": 682
        },
        "id": "raFNpk0cxwQ0",
        "outputId": "3a919766-bd84-4ec8-db2c-9f9dfed60e8c"
      },
      "source": [
        "df.head()"
      ],
      "execution_count": null,
      "outputs": [
        {
          "output_type": "execute_result",
          "data": {
            "text/html": [
              "<div>\n",
              "<style scoped>\n",
              "    .dataframe tbody tr th:only-of-type {\n",
              "        vertical-align: middle;\n",
              "    }\n",
              "\n",
              "    .dataframe tbody tr th {\n",
              "        vertical-align: top;\n",
              "    }\n",
              "\n",
              "    .dataframe thead th {\n",
              "        text-align: right;\n",
              "    }\n",
              "</style>\n",
              "<table border=\"1\" class=\"dataframe\">\n",
              "  <thead>\n",
              "    <tr style=\"text-align: right;\">\n",
              "      <th></th>\n",
              "      <th>id</th>\n",
              "      <th>user_name</th>\n",
              "      <th>user_location</th>\n",
              "      <th>user_description</th>\n",
              "      <th>user_created</th>\n",
              "      <th>user_followers</th>\n",
              "      <th>user_friends</th>\n",
              "      <th>user_favourites</th>\n",
              "      <th>user_verified</th>\n",
              "      <th>date</th>\n",
              "      <th>text</th>\n",
              "      <th>hashtags</th>\n",
              "      <th>source</th>\n",
              "      <th>retweets</th>\n",
              "      <th>favorites</th>\n",
              "      <th>is_retweet</th>\n",
              "      <th>year</th>\n",
              "      <th>month</th>\n",
              "      <th>day</th>\n",
              "      <th>dayofweek</th>\n",
              "      <th>dayofyear</th>\n",
              "      <th>weekofyear</th>\n",
              "      <th>quarter</th>\n",
              "      <th>sentiments</th>\n",
              "      <th>positive_sentiment</th>\n",
              "      <th>neutral_sentimet</th>\n",
              "      <th>negative_sentiment</th>\n",
              "      <th>compound</th>\n",
              "    </tr>\n",
              "  </thead>\n",
              "  <tbody>\n",
              "    <tr>\n",
              "      <th>0</th>\n",
              "      <td>1340539111971516416</td>\n",
              "      <td>Rachel Roh</td>\n",
              "      <td>La Crescenta-Montrose, CA</td>\n",
              "      <td>Aggregator of Asian American news; scanning di...</td>\n",
              "      <td>2009-04-08 17:52:46</td>\n",
              "      <td>405</td>\n",
              "      <td>1692</td>\n",
              "      <td>3247</td>\n",
              "      <td>False</td>\n",
              "      <td>2020-12-20 06:06:44</td>\n",
              "      <td>Same folks said daikon paste could treat a cyt...</td>\n",
              "      <td>['PfizerBioNTech']</td>\n",
              "      <td>Twitter for Android</td>\n",
              "      <td>0</td>\n",
              "      <td>0</td>\n",
              "      <td>False</td>\n",
              "      <td>2020</td>\n",
              "      <td>12</td>\n",
              "      <td>20</td>\n",
              "      <td>6</td>\n",
              "      <td>355</td>\n",
              "      <td>51</td>\n",
              "      <td>4</td>\n",
              "      <td>{'neg': 0.0, 'neu': 0.803, 'pos': 0.197, 'comp...</td>\n",
              "      <td>0.197</td>\n",
              "      <td>0.803</td>\n",
              "      <td>0.000</td>\n",
              "      <td>0.4019</td>\n",
              "    </tr>\n",
              "    <tr>\n",
              "      <th>2</th>\n",
              "      <td>1337858199140118533</td>\n",
              "      <td>eli🇱🇹🇪🇺👌</td>\n",
              "      <td>Your Bed</td>\n",
              "      <td>heil, hydra 🖐☺</td>\n",
              "      <td>2020-06-25 23:30:28</td>\n",
              "      <td>10</td>\n",
              "      <td>88</td>\n",
              "      <td>155</td>\n",
              "      <td>False</td>\n",
              "      <td>2020-12-12 20:33:45</td>\n",
              "      <td>Russian vaccine is created to last 2-4 y...</td>\n",
              "      <td>['coronavirus', 'SputnikV', 'AstraZeneca', 'Pf...</td>\n",
              "      <td>Twitter for Android</td>\n",
              "      <td>0</td>\n",
              "      <td>0</td>\n",
              "      <td>False</td>\n",
              "      <td>2020</td>\n",
              "      <td>12</td>\n",
              "      <td>12</td>\n",
              "      <td>5</td>\n",
              "      <td>347</td>\n",
              "      <td>50</td>\n",
              "      <td>4</td>\n",
              "      <td>{'neg': 0.0, 'neu': 0.818, 'pos': 0.182, 'comp...</td>\n",
              "      <td>0.182</td>\n",
              "      <td>0.818</td>\n",
              "      <td>0.000</td>\n",
              "      <td>0.2500</td>\n",
              "    </tr>\n",
              "    <tr>\n",
              "      <th>6</th>\n",
              "      <td>1337851215875608579</td>\n",
              "      <td>Gunther Fehlinger</td>\n",
              "      <td>Austria, Ukraine and Kosovo</td>\n",
              "      <td>End North Stream 2 now - the pipeline of corru...</td>\n",
              "      <td>2013-06-10 17:49:22</td>\n",
              "      <td>2731</td>\n",
              "      <td>5001</td>\n",
              "      <td>69344</td>\n",
              "      <td>False</td>\n",
              "      <td>2020-12-12 20:06:00</td>\n",
              "      <td>it is a bit sad to claim the fame for success ...</td>\n",
              "      <td>['vaccination']</td>\n",
              "      <td>Twitter Web App</td>\n",
              "      <td>0</td>\n",
              "      <td>4</td>\n",
              "      <td>False</td>\n",
              "      <td>2020</td>\n",
              "      <td>12</td>\n",
              "      <td>12</td>\n",
              "      <td>5</td>\n",
              "      <td>347</td>\n",
              "      <td>50</td>\n",
              "      <td>4</td>\n",
              "      <td>{'neg': 0.108, 'neu': 0.662, 'pos': 0.23, 'com...</td>\n",
              "      <td>0.230</td>\n",
              "      <td>0.662</td>\n",
              "      <td>0.108</td>\n",
              "      <td>0.5423</td>\n",
              "    </tr>\n",
              "    <tr>\n",
              "      <th>9</th>\n",
              "      <td>1337842295857623042</td>\n",
              "      <td>Ch.Amjad Ali</td>\n",
              "      <td>Islamabad</td>\n",
              "      <td>#ProudPakistani #LovePakArmy #PMIK @insafiansp...</td>\n",
              "      <td>2012-11-12 04:18:12</td>\n",
              "      <td>671</td>\n",
              "      <td>2368</td>\n",
              "      <td>20469</td>\n",
              "      <td>False</td>\n",
              "      <td>2020-12-12 19:30:33</td>\n",
              "      <td>States will start getting  Monday,  says     ...</td>\n",
              "      <td>['CovidVaccine', 'COVID19Vaccine', 'US', 'paku...</td>\n",
              "      <td>Twitter Web App</td>\n",
              "      <td>0</td>\n",
              "      <td>0</td>\n",
              "      <td>False</td>\n",
              "      <td>2020</td>\n",
              "      <td>12</td>\n",
              "      <td>12</td>\n",
              "      <td>5</td>\n",
              "      <td>347</td>\n",
              "      <td>50</td>\n",
              "      <td>4</td>\n",
              "      <td>{'neg': 0.0, 'neu': 1.0, 'pos': 0.0, 'compound...</td>\n",
              "      <td>0.000</td>\n",
              "      <td>1.000</td>\n",
              "      <td>0.000</td>\n",
              "      <td>0.0000</td>\n",
              "    </tr>\n",
              "    <tr>\n",
              "      <th>10</th>\n",
              "      <td>1337841934170255365</td>\n",
              "      <td>Tamer Yazar</td>\n",
              "      <td>Turkey-Israel</td>\n",
              "      <td>Im Market Analyst, also Editor... working (fre...</td>\n",
              "      <td>2009-09-17 16:45:16</td>\n",
              "      <td>1302</td>\n",
              "      <td>78</td>\n",
              "      <td>339</td>\n",
              "      <td>False</td>\n",
              "      <td>2020-12-12 19:29:07</td>\n",
              "      <td>while deaths are closing in on the 300,000 mar...</td>\n",
              "      <td>['PfizerBioNTech', 'Vaccine']</td>\n",
              "      <td>Twitter Web App</td>\n",
              "      <td>0</td>\n",
              "      <td>0</td>\n",
              "      <td>False</td>\n",
              "      <td>2020</td>\n",
              "      <td>12</td>\n",
              "      <td>12</td>\n",
              "      <td>5</td>\n",
              "      <td>347</td>\n",
              "      <td>50</td>\n",
              "      <td>4</td>\n",
              "      <td>{'neg': 0.0, 'neu': 1.0, 'pos': 0.0, 'compound...</td>\n",
              "      <td>0.000</td>\n",
              "      <td>1.000</td>\n",
              "      <td>0.000</td>\n",
              "      <td>0.0000</td>\n",
              "    </tr>\n",
              "  </tbody>\n",
              "</table>\n",
              "</div>"
            ],
            "text/plain": [
              "                     id          user_name  ... negative_sentiment compound\n",
              "0   1340539111971516416         Rachel Roh  ...              0.000   0.4019\n",
              "2   1337858199140118533           eli🇱🇹🇪🇺👌  ...              0.000   0.2500\n",
              "6   1337851215875608579  Gunther Fehlinger  ...              0.108   0.5423\n",
              "9   1337842295857623042       Ch.Amjad Ali  ...              0.000   0.0000\n",
              "10  1337841934170255365        Tamer Yazar  ...              0.000   0.0000\n",
              "\n",
              "[5 rows x 28 columns]"
            ]
          },
          "metadata": {
            "tags": []
          },
          "execution_count": 47
        }
      ]
    },
    {
      "cell_type": "code",
      "metadata": {
        "id": "dEmwykM_xyHB"
      },
      "source": [
        "sentimento = []"
      ],
      "execution_count": null,
      "outputs": []
    },
    {
      "cell_type": "code",
      "metadata": {
        "colab": {
          "base_uri": "https://localhost:8080/"
        },
        "id": "zjwQ7Q5Cy0IH",
        "outputId": "b34d9ec0-7510-4f14-918d-f289e1371a33"
      },
      "source": [
        "type(sentimento)"
      ],
      "execution_count": null,
      "outputs": [
        {
          "output_type": "execute_result",
          "data": {
            "text/plain": [
              "list"
            ]
          },
          "metadata": {
            "tags": []
          },
          "execution_count": 49
        }
      ]
    },
    {
      "cell_type": "code",
      "metadata": {
        "id": "Op_f3e_Ay1Xs"
      },
      "source": [
        "for i in df.compound:\n",
        "  if i >= 0.05:\n",
        "    sentimento.append(\"Positive\")\n",
        "  elif i <= (-0.05):\n",
        "    sentimento.append(\"Negative\")\n",
        "  else:\n",
        "    sentimento.append(\"Neutral\")"
      ],
      "execution_count": null,
      "outputs": []
    },
    {
      "cell_type": "code",
      "metadata": {
        "colab": {
          "base_uri": "https://localhost:8080/"
        },
        "id": "56bC_TM20cTA",
        "outputId": "1ca217fe-cfb8-4187-d51e-2dec10fecf31"
      },
      "source": [
        "print(sentimento)"
      ],
      "execution_count": null,
      "outputs": [
        {
          "output_type": "stream",
          "text": [
            "['Positive', 'Positive', 'Positive', 'Neutral', 'Neutral', 'Neutral', 'Neutral', 'Neutral', 'Negative', 'Negative', 'Positive', 'Neutral', 'Negative', 'Neutral', 'Positive', 'Positive', 'Neutral', 'Negative', 'Positive', 'Neutral', 'Neutral', 'Neutral', 'Neutral', 'Neutral', 'Neutral', 'Neutral', 'Negative', 'Negative', 'Neutral', 'Positive', 'Neutral', 'Neutral', 'Neutral', 'Neutral', 'Neutral', 'Negative', 'Negative', 'Neutral', 'Positive', 'Negative', 'Negative', 'Neutral', 'Neutral', 'Neutral', 'Neutral', 'Positive', 'Positive', 'Neutral', 'Neutral', 'Neutral', 'Neutral', 'Neutral', 'Positive', 'Positive', 'Neutral', 'Neutral', 'Neutral', 'Positive', 'Neutral', 'Neutral', 'Neutral', 'Positive', 'Positive', 'Neutral', 'Positive', 'Neutral', 'Neutral', 'Positive', 'Neutral', 'Neutral', 'Neutral', 'Positive', 'Neutral', 'Positive', 'Neutral', 'Positive', 'Neutral', 'Neutral', 'Positive', 'Neutral', 'Neutral', 'Neutral', 'Positive', 'Positive', 'Neutral', 'Neutral', 'Positive', 'Neutral', 'Positive', 'Positive', 'Positive', 'Positive', 'Neutral', 'Neutral', 'Neutral', 'Positive', 'Neutral', 'Neutral', 'Neutral', 'Positive', 'Positive', 'Positive', 'Neutral', 'Neutral', 'Positive', 'Negative', 'Positive', 'Neutral', 'Positive', 'Positive', 'Negative', 'Positive', 'Positive', 'Neutral', 'Positive', 'Negative', 'Neutral', 'Negative', 'Neutral', 'Positive', 'Neutral', 'Negative', 'Positive', 'Positive', 'Positive', 'Neutral', 'Neutral', 'Positive', 'Positive', 'Neutral', 'Neutral', 'Neutral', 'Neutral', 'Positive', 'Positive', 'Neutral', 'Neutral', 'Neutral', 'Positive', 'Negative', 'Neutral', 'Negative', 'Negative', 'Positive', 'Neutral', 'Positive', 'Neutral', 'Neutral', 'Positive', 'Neutral', 'Neutral', 'Negative', 'Neutral', 'Neutral', 'Neutral', 'Neutral', 'Positive', 'Neutral', 'Negative', 'Neutral', 'Positive', 'Neutral', 'Positive', 'Neutral', 'Negative', 'Positive', 'Neutral', 'Neutral', 'Positive', 'Positive', 'Positive', 'Neutral', 'Positive', 'Positive', 'Neutral', 'Positive', 'Neutral', 'Positive', 'Positive', 'Positive', 'Neutral', 'Neutral', 'Positive', 'Positive', 'Neutral', 'Negative', 'Positive', 'Neutral', 'Neutral', 'Positive', 'Positive', 'Negative', 'Neutral', 'Positive', 'Positive', 'Neutral', 'Neutral', 'Positive', 'Positive', 'Positive', 'Neutral', 'Neutral', 'Neutral', 'Neutral', 'Neutral', 'Positive', 'Positive', 'Neutral', 'Neutral', 'Positive', 'Positive', 'Negative', 'Neutral', 'Neutral', 'Positive', 'Negative', 'Neutral', 'Neutral', 'Neutral', 'Neutral', 'Negative', 'Positive', 'Neutral', 'Positive', 'Neutral', 'Positive', 'Neutral', 'Neutral', 'Positive', 'Neutral', 'Negative', 'Positive', 'Positive', 'Positive', 'Positive', 'Neutral', 'Neutral', 'Positive', 'Positive', 'Neutral', 'Positive', 'Neutral', 'Neutral', 'Negative', 'Neutral', 'Neutral', 'Positive', 'Positive', 'Positive', 'Neutral', 'Neutral', 'Neutral', 'Negative', 'Neutral', 'Positive', 'Neutral', 'Neutral', 'Neutral', 'Neutral', 'Neutral', 'Negative', 'Positive', 'Positive', 'Neutral', 'Positive', 'Negative', 'Negative', 'Negative', 'Positive', 'Positive', 'Neutral', 'Positive', 'Negative', 'Positive', 'Neutral', 'Negative', 'Negative', 'Positive', 'Negative', 'Negative', 'Neutral', 'Neutral', 'Negative', 'Positive', 'Negative', 'Positive', 'Neutral', 'Neutral', 'Positive', 'Neutral', 'Positive', 'Neutral', 'Positive', 'Neutral', 'Positive', 'Neutral', 'Neutral', 'Positive', 'Neutral', 'Neutral', 'Negative', 'Neutral', 'Neutral', 'Neutral', 'Neutral', 'Positive', 'Negative', 'Negative', 'Positive', 'Negative', 'Neutral', 'Negative', 'Neutral', 'Neutral', 'Neutral', 'Positive', 'Neutral', 'Positive', 'Neutral', 'Neutral', 'Negative', 'Negative', 'Neutral', 'Negative', 'Negative', 'Neutral', 'Positive', 'Positive', 'Neutral', 'Neutral', 'Positive', 'Positive', 'Positive', 'Neutral', 'Positive', 'Negative', 'Positive', 'Neutral', 'Negative', 'Neutral', 'Neutral', 'Neutral', 'Positive', 'Positive', 'Neutral', 'Negative', 'Neutral', 'Neutral', 'Negative', 'Positive', 'Neutral', 'Neutral', 'Positive', 'Neutral', 'Positive', 'Positive', 'Negative', 'Negative', 'Neutral', 'Neutral', 'Positive', 'Negative', 'Neutral', 'Positive', 'Positive', 'Negative', 'Neutral', 'Positive', 'Neutral', 'Negative', 'Neutral', 'Neutral', 'Positive', 'Negative', 'Positive', 'Neutral', 'Positive', 'Positive', 'Neutral', 'Neutral', 'Neutral', 'Negative', 'Positive', 'Neutral', 'Neutral', 'Positive', 'Negative', 'Neutral', 'Positive', 'Neutral', 'Neutral', 'Positive', 'Negative', 'Neutral', 'Neutral', 'Neutral', 'Neutral', 'Neutral', 'Positive', 'Neutral', 'Positive', 'Negative', 'Positive', 'Neutral', 'Neutral', 'Positive', 'Neutral', 'Neutral', 'Negative', 'Neutral', 'Neutral', 'Positive', 'Neutral', 'Positive', 'Neutral', 'Neutral', 'Positive', 'Positive', 'Positive', 'Neutral', 'Positive', 'Positive', 'Neutral', 'Positive', 'Neutral', 'Positive', 'Neutral', 'Neutral', 'Neutral', 'Neutral', 'Neutral', 'Positive', 'Neutral', 'Neutral', 'Neutral', 'Negative', 'Positive', 'Positive', 'Negative', 'Negative', 'Neutral', 'Negative', 'Negative', 'Positive', 'Neutral', 'Neutral', 'Neutral', 'Neutral', 'Neutral', 'Positive', 'Positive', 'Positive', 'Neutral', 'Negative', 'Positive', 'Neutral', 'Negative', 'Positive', 'Neutral', 'Positive', 'Positive', 'Positive', 'Negative', 'Negative', 'Negative', 'Neutral', 'Positive', 'Positive', 'Neutral', 'Positive', 'Positive', 'Neutral', 'Positive', 'Neutral', 'Neutral', 'Positive', 'Neutral', 'Neutral', 'Neutral', 'Positive', 'Neutral', 'Positive', 'Neutral', 'Positive', 'Negative', 'Positive', 'Negative', 'Neutral', 'Positive', 'Positive', 'Neutral', 'Neutral', 'Neutral', 'Neutral', 'Positive', 'Positive', 'Positive', 'Positive', 'Positive', 'Neutral', 'Neutral', 'Neutral', 'Neutral', 'Positive', 'Neutral', 'Negative', 'Positive', 'Neutral', 'Neutral', 'Positive', 'Neutral', 'Positive', 'Negative', 'Neutral', 'Neutral', 'Positive', 'Positive', 'Positive', 'Positive', 'Positive', 'Neutral', 'Positive', 'Neutral', 'Neutral', 'Neutral', 'Positive', 'Neutral', 'Positive', 'Neutral', 'Neutral', 'Negative', 'Neutral', 'Neutral', 'Negative', 'Positive', 'Negative', 'Neutral', 'Positive', 'Positive', 'Positive', 'Positive', 'Neutral', 'Positive', 'Neutral', 'Positive', 'Neutral', 'Neutral', 'Negative', 'Positive', 'Neutral', 'Positive', 'Positive', 'Neutral', 'Positive', 'Positive', 'Positive', 'Neutral', 'Positive', 'Neutral', 'Positive', 'Positive', 'Neutral', 'Positive', 'Negative', 'Positive', 'Neutral', 'Neutral', 'Neutral', 'Neutral', 'Negative', 'Positive', 'Positive', 'Neutral', 'Positive', 'Positive', 'Neutral', 'Neutral', 'Negative', 'Positive', 'Neutral', 'Positive', 'Neutral', 'Positive', 'Positive', 'Negative', 'Neutral', 'Neutral', 'Neutral', 'Positive', 'Positive', 'Positive', 'Neutral', 'Positive', 'Negative', 'Positive', 'Neutral', 'Positive', 'Neutral', 'Neutral', 'Positive', 'Neutral', 'Neutral', 'Negative', 'Positive', 'Positive', 'Negative', 'Neutral', 'Neutral', 'Neutral', 'Neutral', 'Neutral', 'Negative', 'Neutral', 'Neutral', 'Positive', 'Neutral', 'Neutral', 'Neutral', 'Positive', 'Neutral', 'Neutral', 'Positive', 'Negative', 'Neutral', 'Neutral', 'Neutral', 'Neutral', 'Neutral', 'Neutral', 'Positive', 'Neutral', 'Neutral', 'Neutral', 'Negative', 'Neutral', 'Negative', 'Positive', 'Neutral', 'Positive', 'Positive', 'Neutral', 'Neutral', 'Neutral', 'Neutral', 'Positive', 'Neutral', 'Neutral', 'Positive', 'Negative', 'Neutral', 'Neutral', 'Neutral', 'Neutral', 'Neutral', 'Neutral', 'Positive', 'Positive', 'Positive', 'Neutral', 'Neutral', 'Neutral', 'Neutral', 'Neutral', 'Positive', 'Positive', 'Neutral', 'Neutral', 'Neutral', 'Negative', 'Neutral', 'Positive', 'Neutral', 'Neutral', 'Positive', 'Negative', 'Neutral', 'Neutral', 'Neutral', 'Neutral', 'Neutral', 'Neutral', 'Neutral', 'Positive', 'Neutral', 'Negative', 'Neutral', 'Positive', 'Negative', 'Neutral', 'Neutral', 'Positive', 'Neutral', 'Positive', 'Neutral', 'Neutral', 'Neutral', 'Neutral', 'Neutral', 'Negative', 'Neutral', 'Neutral', 'Negative', 'Positive', 'Positive', 'Positive', 'Neutral', 'Neutral', 'Positive', 'Positive', 'Neutral', 'Negative', 'Negative', 'Neutral', 'Neutral', 'Neutral', 'Neutral', 'Neutral', 'Neutral', 'Neutral', 'Positive', 'Neutral', 'Positive', 'Positive', 'Positive', 'Negative', 'Neutral', 'Neutral', 'Neutral', 'Neutral', 'Positive', 'Positive', 'Positive', 'Neutral', 'Positive', 'Negative', 'Negative', 'Positive', 'Neutral', 'Neutral', 'Positive', 'Positive', 'Positive', 'Neutral', 'Neutral', 'Positive', 'Neutral', 'Neutral', 'Positive', 'Positive', 'Neutral', 'Positive', 'Neutral', 'Neutral', 'Positive', 'Negative', 'Negative', 'Positive', 'Neutral', 'Positive', 'Positive', 'Negative', 'Positive', 'Negative', 'Neutral', 'Neutral', 'Neutral', 'Neutral', 'Positive', 'Positive', 'Neutral', 'Positive', 'Positive', 'Negative', 'Neutral', 'Positive', 'Positive', 'Positive', 'Neutral', 'Neutral', 'Neutral', 'Negative', 'Neutral', 'Positive', 'Positive', 'Neutral', 'Negative', 'Positive', 'Positive', 'Positive', 'Positive', 'Positive', 'Positive', 'Neutral', 'Neutral', 'Negative', 'Positive', 'Positive', 'Neutral', 'Neutral', 'Positive', 'Neutral', 'Positive', 'Positive', 'Neutral', 'Positive', 'Positive', 'Neutral', 'Negative', 'Positive', 'Neutral', 'Negative', 'Negative', 'Positive', 'Positive', 'Neutral', 'Neutral', 'Neutral', 'Neutral', 'Neutral', 'Positive', 'Negative', 'Positive', 'Neutral', 'Neutral', 'Neutral', 'Positive', 'Neutral', 'Positive', 'Neutral', 'Positive', 'Positive', 'Positive', 'Neutral', 'Positive', 'Neutral', 'Positive', 'Positive', 'Neutral', 'Positive', 'Positive', 'Neutral', 'Positive', 'Negative', 'Positive', 'Negative', 'Positive', 'Neutral', 'Positive', 'Positive', 'Positive', 'Neutral', 'Negative', 'Neutral', 'Neutral', 'Neutral', 'Positive', 'Positive', 'Neutral', 'Neutral', 'Negative', 'Positive', 'Positive', 'Neutral', 'Positive', 'Negative', 'Neutral', 'Positive', 'Neutral', 'Positive', 'Neutral', 'Neutral', 'Positive', 'Neutral', 'Neutral', 'Negative', 'Positive', 'Neutral', 'Positive', 'Neutral', 'Negative', 'Positive', 'Neutral', 'Positive', 'Neutral', 'Positive', 'Neutral', 'Neutral', 'Neutral', 'Negative', 'Positive', 'Neutral', 'Positive', 'Positive', 'Positive', 'Neutral', 'Neutral', 'Neutral', 'Neutral', 'Neutral', 'Negative', 'Positive', 'Neutral', 'Positive', 'Negative', 'Positive', 'Neutral', 'Neutral', 'Positive', 'Positive', 'Positive', 'Neutral', 'Neutral', 'Neutral', 'Positive', 'Positive', 'Neutral', 'Positive', 'Neutral', 'Positive', 'Positive', 'Positive', 'Positive', 'Positive', 'Negative', 'Positive', 'Neutral', 'Positive', 'Positive', 'Positive', 'Neutral', 'Negative', 'Neutral', 'Negative', 'Negative', 'Neutral', 'Neutral', 'Neutral', 'Neutral', 'Positive', 'Positive', 'Neutral', 'Positive', 'Neutral', 'Neutral', 'Neutral', 'Positive', 'Neutral', 'Positive', 'Neutral', 'Neutral', 'Positive', 'Positive', 'Neutral', 'Neutral', 'Positive', 'Positive', 'Positive', 'Neutral', 'Neutral', 'Positive', 'Neutral', 'Positive', 'Neutral', 'Neutral', 'Neutral', 'Neutral', 'Positive', 'Neutral', 'Positive', 'Positive', 'Neutral', 'Positive', 'Neutral', 'Negative', 'Positive', 'Negative', 'Neutral', 'Positive', 'Negative', 'Neutral', 'Positive', 'Positive', 'Neutral', 'Negative', 'Negative', 'Neutral', 'Neutral', 'Neutral', 'Neutral', 'Neutral', 'Positive', 'Negative', 'Positive', 'Positive', 'Neutral', 'Negative', 'Positive', 'Neutral', 'Neutral', 'Neutral', 'Positive', 'Neutral', 'Positive', 'Neutral', 'Neutral', 'Positive', 'Neutral', 'Neutral', 'Positive', 'Neutral', 'Negative', 'Neutral', 'Positive', 'Neutral', 'Neutral', 'Positive', 'Positive', 'Positive', 'Positive', 'Positive', 'Negative', 'Neutral', 'Neutral', 'Neutral', 'Positive', 'Neutral', 'Positive', 'Neutral', 'Neutral', 'Neutral', 'Neutral', 'Neutral', 'Neutral', 'Neutral', 'Neutral', 'Negative', 'Positive', 'Neutral', 'Neutral', 'Neutral', 'Neutral', 'Neutral', 'Negative', 'Neutral', 'Neutral', 'Neutral', 'Negative', 'Neutral', 'Negative', 'Positive', 'Positive', 'Positive', 'Positive', 'Positive', 'Negative', 'Positive', 'Positive', 'Positive', 'Positive', 'Positive', 'Negative', 'Neutral', 'Neutral', 'Negative', 'Neutral', 'Positive', 'Neutral', 'Neutral', 'Positive', 'Neutral', 'Positive', 'Neutral', 'Positive', 'Positive', 'Neutral', 'Neutral', 'Negative', 'Neutral', 'Positive', 'Negative', 'Negative', 'Negative', 'Positive', 'Neutral', 'Neutral', 'Positive', 'Positive', 'Neutral', 'Neutral', 'Positive', 'Neutral', 'Positive', 'Neutral', 'Positive', 'Positive', 'Negative', 'Positive', 'Negative', 'Positive', 'Positive', 'Neutral', 'Neutral', 'Negative', 'Positive', 'Positive', 'Neutral', 'Positive', 'Neutral', 'Neutral', 'Neutral', 'Positive', 'Positive', 'Neutral', 'Neutral', 'Negative', 'Negative', 'Neutral', 'Neutral', 'Positive', 'Neutral', 'Neutral', 'Negative', 'Negative', 'Negative', 'Neutral', 'Neutral', 'Positive', 'Neutral', 'Positive', 'Neutral', 'Negative', 'Neutral', 'Positive', 'Neutral', 'Negative', 'Positive', 'Positive', 'Neutral', 'Positive', 'Positive', 'Negative', 'Negative', 'Neutral', 'Neutral', 'Positive', 'Negative', 'Positive', 'Positive', 'Neutral', 'Positive', 'Positive', 'Positive', 'Positive', 'Neutral', 'Positive', 'Positive', 'Neutral', 'Positive', 'Positive', 'Neutral', 'Neutral', 'Neutral', 'Positive', 'Neutral', 'Negative', 'Positive', 'Positive', 'Neutral', 'Positive', 'Neutral', 'Positive', 'Neutral', 'Neutral', 'Negative', 'Negative', 'Neutral', 'Neutral', 'Neutral', 'Positive', 'Positive', 'Positive', 'Negative', 'Neutral', 'Neutral', 'Negative', 'Positive', 'Positive', 'Negative', 'Positive', 'Positive', 'Neutral', 'Neutral', 'Neutral', 'Positive', 'Neutral', 'Positive', 'Neutral', 'Positive', 'Negative', 'Negative', 'Negative', 'Neutral', 'Neutral', 'Negative', 'Positive', 'Positive', 'Positive', 'Neutral', 'Neutral', 'Positive', 'Positive', 'Neutral', 'Neutral', 'Positive', 'Negative', 'Negative', 'Positive', 'Neutral', 'Negative', 'Neutral', 'Neutral', 'Negative', 'Neutral', 'Negative', 'Negative', 'Negative', 'Negative', 'Positive', 'Negative', 'Neutral', 'Negative', 'Negative', 'Positive', 'Negative', 'Neutral', 'Positive', 'Negative', 'Neutral', 'Negative', 'Negative', 'Negative', 'Negative', 'Negative', 'Negative', 'Neutral', 'Neutral', 'Neutral', 'Positive', 'Positive', 'Positive', 'Negative', 'Neutral', 'Positive', 'Neutral', 'Neutral', 'Neutral', 'Positive', 'Neutral', 'Neutral', 'Positive', 'Positive', 'Positive', 'Neutral', 'Neutral', 'Neutral', 'Negative', 'Positive', 'Negative', 'Positive', 'Positive', 'Negative', 'Neutral', 'Positive', 'Neutral', 'Neutral', 'Positive', 'Positive', 'Positive', 'Positive', 'Neutral', 'Negative', 'Neutral', 'Negative', 'Positive', 'Neutral', 'Positive', 'Negative', 'Neutral', 'Positive', 'Neutral', 'Positive', 'Neutral', 'Negative', 'Negative', 'Neutral', 'Negative', 'Positive', 'Neutral', 'Neutral', 'Neutral', 'Positive', 'Negative', 'Neutral', 'Positive', 'Negative', 'Positive', 'Negative', 'Positive', 'Negative', 'Neutral', 'Neutral', 'Neutral', 'Positive', 'Positive', 'Positive', 'Neutral', 'Positive', 'Neutral', 'Positive', 'Positive', 'Negative', 'Positive', 'Neutral', 'Positive', 'Negative', 'Neutral', 'Negative', 'Neutral', 'Neutral', 'Positive', 'Neutral', 'Positive', 'Neutral', 'Neutral', 'Neutral', 'Neutral', 'Neutral', 'Neutral', 'Neutral', 'Positive', 'Positive', 'Neutral', 'Neutral', 'Positive', 'Neutral', 'Neutral', 'Neutral', 'Neutral', 'Neutral', 'Neutral', 'Neutral', 'Neutral', 'Neutral', 'Negative', 'Positive', 'Neutral', 'Negative', 'Positive', 'Positive', 'Neutral', 'Neutral', 'Positive', 'Positive', 'Negative', 'Neutral', 'Negative', 'Positive', 'Negative', 'Neutral', 'Neutral', 'Neutral', 'Neutral', 'Positive', 'Positive', 'Negative', 'Positive', 'Negative', 'Neutral', 'Positive', 'Neutral', 'Neutral', 'Neutral', 'Positive', 'Neutral', 'Neutral', 'Positive', 'Positive', 'Positive', 'Positive', 'Positive', 'Neutral', 'Neutral', 'Positive', 'Neutral', 'Positive', 'Positive', 'Negative', 'Positive', 'Negative', 'Neutral', 'Positive', 'Positive', 'Positive', 'Neutral', 'Neutral', 'Negative', 'Positive', 'Neutral', 'Positive', 'Negative', 'Positive', 'Neutral', 'Positive', 'Negative', 'Neutral', 'Neutral', 'Negative', 'Negative', 'Positive', 'Positive', 'Positive', 'Neutral', 'Positive', 'Neutral', 'Neutral', 'Neutral', 'Positive', 'Positive', 'Neutral', 'Positive', 'Positive', 'Positive', 'Negative', 'Positive', 'Positive', 'Negative', 'Neutral', 'Positive', 'Positive', 'Negative', 'Positive', 'Neutral', 'Positive', 'Positive', 'Positive', 'Positive', 'Neutral', 'Positive', 'Positive', 'Positive', 'Positive', 'Positive', 'Positive', 'Neutral', 'Positive', 'Negative', 'Neutral', 'Neutral', 'Neutral', 'Neutral', 'Negative', 'Neutral', 'Neutral', 'Neutral', 'Neutral', 'Neutral', 'Negative', 'Neutral', 'Positive', 'Neutral', 'Neutral', 'Negative', 'Neutral', 'Positive', 'Neutral', 'Neutral', 'Negative', 'Neutral', 'Positive', 'Neutral', 'Positive', 'Positive', 'Neutral', 'Neutral', 'Neutral', 'Neutral', 'Positive', 'Positive', 'Negative', 'Positive', 'Neutral', 'Neutral', 'Neutral', 'Neutral', 'Neutral', 'Positive', 'Neutral', 'Positive', 'Positive', 'Neutral', 'Positive', 'Positive', 'Positive', 'Neutral', 'Neutral', 'Positive', 'Negative', 'Positive', 'Neutral', 'Positive', 'Positive', 'Positive', 'Positive', 'Positive', 'Negative', 'Neutral', 'Positive', 'Neutral', 'Positive', 'Neutral', 'Neutral', 'Positive', 'Positive', 'Positive', 'Negative', 'Positive', 'Positive', 'Positive', 'Positive', 'Positive', 'Positive', 'Positive', 'Neutral', 'Neutral', 'Positive', 'Negative', 'Neutral', 'Positive', 'Positive', 'Positive', 'Neutral', 'Positive', 'Negative', 'Negative', 'Positive', 'Neutral', 'Positive', 'Positive', 'Negative', 'Positive', 'Positive', 'Positive', 'Positive', 'Neutral', 'Neutral', 'Neutral', 'Positive', 'Neutral', 'Negative', 'Neutral', 'Neutral', 'Negative', 'Positive', 'Negative', 'Neutral', 'Positive', 'Positive', 'Neutral', 'Positive', 'Positive', 'Positive', 'Positive', 'Positive', 'Neutral', 'Positive', 'Neutral', 'Positive', 'Negative', 'Neutral', 'Positive', 'Positive', 'Negative', 'Positive', 'Positive', 'Neutral', 'Neutral', 'Neutral', 'Neutral', 'Negative', 'Neutral', 'Positive', 'Neutral', 'Positive', 'Positive', 'Positive', 'Negative', 'Neutral', 'Positive', 'Positive', 'Positive', 'Neutral', 'Positive', 'Neutral', 'Neutral', 'Neutral', 'Neutral', 'Positive', 'Positive', 'Neutral', 'Positive', 'Neutral', 'Neutral', 'Positive', 'Positive', 'Neutral', 'Positive', 'Positive', 'Neutral', 'Neutral', 'Positive', 'Neutral', 'Positive', 'Positive', 'Negative', 'Positive', 'Neutral', 'Neutral', 'Positive', 'Neutral', 'Positive', 'Positive', 'Positive', 'Neutral', 'Negative', 'Negative', 'Negative', 'Positive', 'Positive', 'Positive', 'Positive', 'Neutral', 'Neutral', 'Positive', 'Positive', 'Neutral', 'Neutral', 'Positive', 'Negative', 'Negative', 'Negative', 'Positive', 'Neutral', 'Positive', 'Neutral', 'Neutral', 'Neutral', 'Neutral', 'Neutral', 'Negative', 'Neutral', 'Negative', 'Positive', 'Positive', 'Neutral', 'Neutral', 'Positive', 'Neutral', 'Neutral', 'Positive', 'Negative', 'Neutral', 'Positive', 'Positive', 'Positive', 'Negative', 'Positive', 'Neutral', 'Positive', 'Positive', 'Negative', 'Neutral', 'Positive', 'Positive', 'Negative', 'Positive', 'Neutral', 'Negative', 'Positive', 'Neutral', 'Neutral', 'Neutral', 'Neutral', 'Neutral', 'Neutral', 'Neutral', 'Neutral', 'Positive', 'Positive', 'Neutral', 'Negative', 'Negative', 'Neutral', 'Neutral', 'Negative', 'Negative', 'Positive', 'Negative', 'Negative', 'Neutral', 'Positive', 'Positive', 'Positive', 'Neutral', 'Positive', 'Negative', 'Positive', 'Neutral', 'Neutral', 'Positive', 'Neutral', 'Neutral', 'Positive', 'Neutral', 'Positive', 'Negative', 'Neutral', 'Positive', 'Positive', 'Negative', 'Positive', 'Positive', 'Neutral', 'Negative', 'Positive', 'Positive', 'Positive', 'Positive', 'Positive', 'Positive', 'Neutral', 'Negative', 'Neutral', 'Neutral', 'Negative', 'Negative', 'Neutral', 'Neutral', 'Positive', 'Positive', 'Negative', 'Neutral', 'Positive', 'Positive', 'Neutral', 'Positive', 'Neutral', 'Positive', 'Positive', 'Positive', 'Positive', 'Positive', 'Neutral', 'Neutral', 'Neutral', 'Positive', 'Negative', 'Negative', 'Positive', 'Neutral', 'Neutral', 'Neutral', 'Neutral', 'Positive', 'Neutral', 'Neutral', 'Neutral', 'Negative', 'Negative', 'Positive', 'Neutral', 'Negative', 'Neutral', 'Positive', 'Positive', 'Neutral', 'Positive', 'Positive', 'Neutral', 'Neutral', 'Positive', 'Neutral', 'Negative', 'Neutral', 'Negative', 'Positive', 'Positive', 'Neutral', 'Negative', 'Negative', 'Negative', 'Positive', 'Positive', 'Negative', 'Positive', 'Positive', 'Positive', 'Negative', 'Neutral', 'Positive', 'Negative', 'Positive', 'Positive', 'Positive', 'Positive', 'Positive', 'Neutral', 'Neutral', 'Negative', 'Positive', 'Neutral', 'Neutral', 'Neutral', 'Positive', 'Positive', 'Negative', 'Positive', 'Positive', 'Positive', 'Positive', 'Neutral', 'Positive', 'Negative', 'Positive', 'Neutral', 'Negative', 'Neutral', 'Neutral', 'Positive', 'Positive', 'Positive', 'Negative', 'Neutral', 'Positive', 'Neutral', 'Neutral', 'Neutral', 'Neutral', 'Neutral', 'Neutral', 'Neutral', 'Neutral', 'Positive', 'Positive', 'Neutral', 'Positive', 'Positive', 'Neutral', 'Neutral', 'Neutral', 'Neutral', 'Positive', 'Neutral', 'Positive', 'Neutral', 'Positive', 'Positive', 'Neutral', 'Neutral', 'Positive', 'Neutral', 'Positive', 'Positive', 'Neutral', 'Positive', 'Neutral', 'Positive', 'Positive', 'Neutral', 'Positive', 'Positive', 'Neutral', 'Neutral', 'Neutral', 'Neutral', 'Positive', 'Negative', 'Neutral', 'Positive', 'Positive', 'Negative', 'Negative', 'Neutral', 'Positive', 'Positive', 'Positive', 'Neutral', 'Positive', 'Neutral', 'Negative', 'Neutral', 'Positive', 'Negative', 'Positive', 'Neutral', 'Negative', 'Neutral', 'Positive', 'Positive', 'Neutral', 'Positive', 'Neutral', 'Positive', 'Positive', 'Positive', 'Neutral', 'Positive', 'Neutral', 'Neutral', 'Neutral', 'Positive', 'Positive', 'Neutral', 'Negative', 'Neutral', 'Negative', 'Positive', 'Negative', 'Positive', 'Neutral', 'Neutral', 'Neutral', 'Neutral', 'Negative', 'Positive', 'Positive', 'Positive', 'Positive', 'Negative', 'Negative', 'Positive', 'Positive', 'Positive', 'Negative', 'Positive', 'Positive', 'Negative', 'Neutral', 'Negative', 'Negative', 'Neutral', 'Neutral', 'Neutral', 'Positive', 'Negative', 'Positive', 'Neutral', 'Positive', 'Positive', 'Neutral', 'Negative', 'Negative', 'Positive', 'Negative', 'Neutral', 'Neutral', 'Negative', 'Neutral', 'Neutral', 'Neutral', 'Negative', 'Neutral', 'Positive', 'Negative', 'Positive', 'Neutral', 'Positive', 'Negative', 'Neutral', 'Neutral', 'Positive', 'Negative', 'Positive', 'Positive', 'Neutral', 'Positive', 'Positive', 'Positive', 'Positive', 'Neutral', 'Neutral', 'Positive', 'Neutral', 'Positive', 'Neutral', 'Neutral', 'Neutral', 'Neutral', 'Negative', 'Positive', 'Neutral', 'Neutral', 'Neutral', 'Positive', 'Positive', 'Positive', 'Positive', 'Neutral', 'Neutral', 'Neutral', 'Positive', 'Neutral', 'Negative', 'Positive', 'Neutral', 'Neutral', 'Neutral', 'Negative', 'Neutral', 'Positive', 'Positive', 'Negative', 'Positive', 'Neutral', 'Positive', 'Neutral', 'Positive', 'Positive', 'Negative', 'Neutral', 'Negative', 'Neutral', 'Positive', 'Positive', 'Negative', 'Negative', 'Neutral', 'Positive', 'Negative', 'Positive', 'Neutral', 'Negative', 'Positive', 'Positive', 'Neutral', 'Positive', 'Positive', 'Positive', 'Neutral', 'Negative', 'Positive', 'Positive', 'Positive', 'Positive', 'Negative', 'Neutral', 'Positive', 'Neutral', 'Neutral', 'Neutral', 'Positive', 'Negative', 'Neutral', 'Neutral', 'Negative', 'Neutral', 'Positive', 'Neutral', 'Neutral', 'Negative', 'Neutral', 'Positive', 'Positive', 'Negative', 'Neutral', 'Positive', 'Positive', 'Positive', 'Positive', 'Positive', 'Neutral', 'Positive', 'Positive', 'Positive', 'Neutral', 'Negative', 'Positive', 'Neutral', 'Neutral', 'Negative', 'Negative', 'Negative', 'Neutral', 'Neutral', 'Neutral', 'Neutral', 'Positive', 'Positive', 'Positive', 'Neutral', 'Neutral', 'Neutral', 'Positive', 'Negative', 'Negative', 'Negative', 'Neutral', 'Neutral', 'Neutral', 'Neutral', 'Neutral', 'Positive', 'Neutral', 'Neutral', 'Neutral', 'Neutral', 'Neutral', 'Neutral', 'Positive', 'Neutral', 'Negative', 'Neutral', 'Positive', 'Neutral', 'Positive', 'Positive', 'Positive', 'Negative', 'Neutral', 'Negative', 'Neutral', 'Negative', 'Negative', 'Positive', 'Neutral', 'Neutral', 'Negative', 'Neutral', 'Negative', 'Positive', 'Positive', 'Negative', 'Negative', 'Negative', 'Neutral', 'Positive', 'Neutral', 'Neutral', 'Positive', 'Neutral', 'Positive', 'Neutral', 'Positive', 'Neutral', 'Positive', 'Neutral', 'Negative', 'Neutral', 'Neutral', 'Positive', 'Positive', 'Negative', 'Neutral', 'Negative', 'Positive', 'Negative', 'Neutral', 'Neutral', 'Neutral', 'Neutral', 'Neutral', 'Positive', 'Negative', 'Negative', 'Neutral', 'Neutral', 'Neutral', 'Neutral', 'Neutral', 'Neutral', 'Positive', 'Neutral', 'Negative', 'Negative', 'Neutral', 'Negative', 'Negative', 'Negative', 'Neutral', 'Positive', 'Negative', 'Positive', 'Neutral', 'Positive', 'Positive', 'Neutral', 'Negative', 'Negative', 'Neutral', 'Neutral', 'Neutral', 'Negative', 'Neutral', 'Neutral', 'Neutral', 'Positive', 'Positive', 'Positive', 'Positive', 'Positive', 'Neutral', 'Positive', 'Negative', 'Negative', 'Positive', 'Positive', 'Negative', 'Neutral', 'Neutral', 'Positive', 'Positive', 'Neutral', 'Neutral', 'Neutral', 'Negative', 'Positive', 'Neutral', 'Neutral', 'Neutral', 'Neutral', 'Negative', 'Neutral', 'Positive', 'Negative', 'Positive', 'Negative', 'Positive', 'Neutral', 'Positive', 'Positive', 'Negative', 'Neutral', 'Negative', 'Neutral', 'Negative', 'Negative', 'Positive', 'Negative', 'Positive', 'Negative', 'Positive', 'Positive', 'Neutral', 'Positive', 'Negative', 'Negative', 'Neutral', 'Neutral', 'Positive', 'Neutral', 'Neutral', 'Neutral', 'Positive', 'Neutral', 'Neutral', 'Positive', 'Negative', 'Negative', 'Negative', 'Neutral', 'Neutral', 'Positive', 'Negative', 'Neutral', 'Negative', 'Neutral', 'Negative', 'Positive', 'Negative', 'Positive', 'Neutral', 'Positive', 'Neutral', 'Negative', 'Positive', 'Neutral', 'Negative', 'Neutral', 'Positive', 'Positive', 'Positive', 'Negative', 'Positive', 'Positive', 'Neutral', 'Positive', 'Neutral', 'Negative', 'Neutral', 'Neutral', 'Neutral', 'Neutral', 'Neutral', 'Neutral', 'Positive', 'Negative', 'Positive', 'Negative', 'Negative', 'Neutral', 'Neutral', 'Neutral', 'Neutral', 'Negative', 'Negative', 'Neutral', 'Positive', 'Positive', 'Positive', 'Neutral', 'Neutral', 'Positive', 'Positive', 'Positive', 'Negative', 'Positive', 'Positive', 'Positive', 'Neutral', 'Positive', 'Neutral', 'Positive', 'Neutral', 'Neutral', 'Negative', 'Positive', 'Neutral', 'Positive', 'Neutral', 'Neutral', 'Positive', 'Positive', 'Positive', 'Negative', 'Positive', 'Positive', 'Neutral', 'Positive', 'Neutral', 'Neutral', 'Neutral', 'Positive', 'Neutral', 'Neutral', 'Positive', 'Neutral', 'Neutral', 'Positive', 'Positive', 'Positive', 'Positive', 'Positive', 'Neutral', 'Positive', 'Positive', 'Positive', 'Positive', 'Positive', 'Positive', 'Positive', 'Neutral', 'Positive', 'Neutral', 'Positive', 'Negative', 'Positive', 'Neutral', 'Neutral', 'Neutral', 'Positive', 'Positive', 'Neutral', 'Neutral', 'Negative', 'Negative', 'Positive', 'Neutral', 'Positive', 'Negative', 'Positive', 'Positive', 'Negative', 'Neutral', 'Positive', 'Negative', 'Neutral', 'Positive', 'Negative', 'Positive', 'Neutral', 'Positive', 'Positive', 'Positive', 'Positive', 'Positive', 'Neutral', 'Positive', 'Positive', 'Neutral', 'Neutral', 'Negative', 'Positive', 'Positive', 'Neutral', 'Neutral', 'Positive', 'Neutral', 'Neutral', 'Neutral', 'Neutral', 'Positive', 'Neutral', 'Positive', 'Neutral', 'Positive', 'Neutral', 'Positive', 'Negative', 'Negative', 'Neutral', 'Negative', 'Positive', 'Neutral', 'Positive', 'Negative', 'Neutral', 'Positive', 'Positive', 'Positive', 'Neutral', 'Neutral', 'Negative', 'Neutral', 'Neutral', 'Positive', 'Neutral', 'Neutral', 'Neutral', 'Neutral', 'Neutral', 'Neutral', 'Positive', 'Negative', 'Negative', 'Positive', 'Negative', 'Neutral', 'Neutral', 'Positive', 'Positive', 'Neutral', 'Neutral', 'Positive', 'Neutral', 'Positive', 'Neutral', 'Positive', 'Neutral', 'Positive', 'Negative', 'Neutral', 'Negative', 'Negative', 'Positive', 'Positive', 'Neutral', 'Neutral', 'Positive', 'Positive', 'Positive', 'Positive', 'Neutral', 'Neutral', 'Neutral', 'Neutral', 'Negative', 'Neutral', 'Negative', 'Positive', 'Positive', 'Positive', 'Neutral', 'Positive', 'Negative', 'Negative', 'Neutral', 'Neutral', 'Positive', 'Neutral', 'Neutral', 'Neutral', 'Negative', 'Positive', 'Neutral', 'Neutral', 'Positive', 'Neutral', 'Positive', 'Positive', 'Positive', 'Positive', 'Positive', 'Neutral', 'Positive', 'Neutral', 'Positive', 'Positive', 'Neutral', 'Neutral', 'Positive', 'Positive', 'Negative', 'Positive', 'Negative', 'Positive', 'Negative', 'Positive', 'Neutral', 'Positive', 'Negative', 'Neutral', 'Negative', 'Neutral', 'Neutral', 'Positive', 'Neutral', 'Neutral', 'Positive', 'Neutral', 'Neutral', 'Neutral', 'Positive', 'Positive', 'Positive', 'Negative', 'Positive', 'Positive', 'Neutral', 'Neutral', 'Neutral', 'Positive', 'Positive', 'Neutral', 'Negative', 'Positive', 'Neutral', 'Negative', 'Positive', 'Negative', 'Neutral', 'Neutral', 'Negative', 'Negative', 'Positive', 'Positive', 'Negative', 'Positive', 'Neutral', 'Neutral', 'Positive', 'Neutral', 'Negative', 'Neutral', 'Neutral', 'Neutral', 'Neutral', 'Positive', 'Negative', 'Neutral', 'Negative', 'Positive', 'Positive', 'Positive', 'Positive', 'Positive', 'Neutral', 'Neutral', 'Neutral', 'Neutral', 'Neutral', 'Neutral', 'Neutral', 'Neutral', 'Positive', 'Positive', 'Neutral', 'Positive', 'Neutral', 'Neutral', 'Negative', 'Positive', 'Positive', 'Negative', 'Positive', 'Negative', 'Neutral', 'Positive', 'Neutral', 'Neutral', 'Negative', 'Neutral', 'Neutral', 'Positive', 'Neutral', 'Neutral', 'Neutral', 'Positive', 'Neutral', 'Neutral', 'Positive', 'Neutral', 'Positive', 'Neutral', 'Positive', 'Negative', 'Neutral', 'Negative', 'Negative', 'Neutral', 'Neutral', 'Positive', 'Positive', 'Positive', 'Neutral', 'Neutral', 'Negative', 'Positive', 'Positive', 'Neutral', 'Positive', 'Negative', 'Negative', 'Neutral', 'Neutral', 'Positive', 'Negative', 'Positive', 'Neutral', 'Neutral', 'Neutral', 'Neutral', 'Positive', 'Neutral', 'Positive', 'Positive', 'Positive', 'Positive', 'Positive', 'Neutral', 'Negative', 'Positive', 'Positive', 'Negative', 'Neutral', 'Positive', 'Positive', 'Negative', 'Negative', 'Neutral', 'Positive', 'Positive', 'Positive', 'Neutral', 'Neutral', 'Neutral', 'Positive', 'Positive', 'Neutral', 'Positive', 'Neutral', 'Neutral', 'Negative', 'Positive', 'Neutral', 'Neutral', 'Neutral', 'Negative', 'Positive', 'Negative', 'Positive', 'Neutral', 'Neutral', 'Positive', 'Positive', 'Negative', 'Positive', 'Negative', 'Positive', 'Neutral', 'Positive', 'Neutral', 'Neutral', 'Positive', 'Neutral', 'Positive', 'Neutral', 'Positive', 'Neutral', 'Positive', 'Neutral', 'Positive', 'Positive', 'Positive', 'Neutral', 'Neutral', 'Negative', 'Positive', 'Neutral', 'Negative', 'Positive', 'Positive', 'Positive', 'Neutral', 'Neutral', 'Neutral', 'Neutral', 'Neutral', 'Positive', 'Neutral', 'Positive', 'Positive', 'Positive', 'Neutral', 'Positive', 'Positive', 'Neutral', 'Positive', 'Neutral', 'Neutral', 'Negative', 'Positive', 'Neutral', 'Positive', 'Positive', 'Neutral', 'Neutral', 'Neutral', 'Neutral', 'Neutral', 'Negative', 'Positive', 'Negative', 'Positive', 'Neutral', 'Positive', 'Positive', 'Neutral', 'Neutral', 'Positive', 'Negative', 'Positive', 'Positive', 'Negative', 'Negative', 'Negative', 'Neutral', 'Neutral', 'Positive', 'Neutral', 'Neutral', 'Neutral', 'Positive', 'Negative', 'Negative', 'Neutral', 'Neutral', 'Negative', 'Positive', 'Positive', 'Neutral', 'Negative', 'Neutral', 'Negative', 'Negative', 'Neutral', 'Positive', 'Negative', 'Positive', 'Positive', 'Negative', 'Positive', 'Neutral', 'Positive', 'Positive', 'Negative', 'Positive', 'Positive', 'Positive', 'Neutral', 'Positive', 'Neutral', 'Positive', 'Neutral', 'Negative', 'Positive', 'Positive', 'Negative', 'Positive', 'Neutral', 'Positive', 'Negative', 'Positive', 'Positive', 'Negative', 'Negative', 'Positive', 'Positive', 'Negative', 'Neutral', 'Positive', 'Positive', 'Negative', 'Negative', 'Positive', 'Negative', 'Positive', 'Neutral', 'Positive', 'Positive', 'Neutral', 'Neutral', 'Neutral', 'Neutral', 'Positive', 'Positive', 'Positive', 'Positive', 'Positive', 'Negative', 'Negative', 'Negative', 'Neutral', 'Positive', 'Neutral', 'Positive', 'Neutral', 'Neutral', 'Positive', 'Negative', 'Positive', 'Neutral', 'Neutral', 'Neutral', 'Neutral', 'Neutral', 'Neutral', 'Neutral', 'Neutral', 'Neutral', 'Positive', 'Neutral', 'Neutral', 'Neutral', 'Neutral', 'Neutral', 'Neutral', 'Positive', 'Neutral', 'Neutral', 'Neutral', 'Negative', 'Neutral', 'Negative', 'Positive', 'Neutral', 'Positive', 'Neutral', 'Neutral', 'Positive', 'Neutral', 'Neutral', 'Neutral', 'Neutral', 'Neutral', 'Positive', 'Positive', 'Positive', 'Positive', 'Negative', 'Positive', 'Positive', 'Positive', 'Neutral', 'Neutral', 'Neutral', 'Positive', 'Positive', 'Positive', 'Neutral', 'Neutral', 'Neutral', 'Positive', 'Neutral', 'Neutral', 'Neutral', 'Negative', 'Positive', 'Positive', 'Negative', 'Neutral', 'Positive', 'Positive', 'Neutral', 'Neutral', 'Neutral', 'Negative', 'Neutral', 'Neutral', 'Positive', 'Neutral', 'Positive', 'Positive', 'Neutral', 'Negative', 'Positive', 'Neutral', 'Neutral', 'Positive', 'Neutral', 'Positive', 'Neutral', 'Neutral', 'Positive', 'Negative', 'Negative', 'Neutral', 'Negative', 'Neutral', 'Neutral', 'Positive', 'Neutral', 'Positive', 'Positive', 'Positive', 'Positive', 'Positive', 'Positive', 'Neutral', 'Neutral', 'Negative', 'Positive', 'Positive', 'Positive', 'Positive', 'Negative', 'Neutral', 'Neutral', 'Positive', 'Positive', 'Neutral', 'Neutral', 'Positive', 'Negative', 'Neutral', 'Positive', 'Neutral', 'Neutral', 'Neutral', 'Neutral', 'Neutral', 'Negative', 'Negative', 'Neutral', 'Negative', 'Neutral', 'Neutral', 'Positive', 'Positive', 'Positive', 'Positive', 'Neutral', 'Positive', 'Positive', 'Positive', 'Neutral', 'Neutral', 'Positive', 'Negative', 'Neutral', 'Neutral', 'Neutral', 'Positive', 'Negative', 'Positive', 'Positive', 'Positive', 'Negative', 'Positive', 'Neutral', 'Neutral', 'Positive', 'Negative', 'Positive', 'Negative', 'Neutral', 'Neutral', 'Negative', 'Neutral', 'Positive', 'Neutral', 'Neutral', 'Negative', 'Positive', 'Positive', 'Neutral', 'Positive', 'Neutral', 'Positive', 'Negative', 'Neutral', 'Positive', 'Positive', 'Neutral', 'Positive', 'Negative', 'Positive', 'Negative', 'Negative', 'Positive', 'Negative', 'Positive', 'Neutral', 'Neutral', 'Neutral', 'Negative', 'Negative', 'Neutral', 'Neutral', 'Neutral', 'Positive', 'Neutral', 'Negative', 'Neutral', 'Positive', 'Neutral', 'Neutral', 'Positive', 'Neutral', 'Neutral', 'Neutral', 'Positive', 'Neutral', 'Negative', 'Positive', 'Neutral', 'Positive', 'Positive', 'Positive', 'Positive', 'Neutral', 'Neutral', 'Neutral', 'Neutral', 'Positive', 'Positive', 'Neutral', 'Neutral', 'Positive', 'Neutral', 'Neutral', 'Positive', 'Positive', 'Negative', 'Neutral', 'Neutral', 'Negative', 'Neutral', 'Neutral', 'Neutral', 'Neutral', 'Positive', 'Negative', 'Neutral', 'Neutral', 'Neutral', 'Neutral', 'Negative', 'Negative', 'Negative', 'Neutral', 'Negative', 'Positive', 'Positive', 'Neutral', 'Neutral', 'Neutral', 'Neutral', 'Neutral', 'Positive', 'Negative', 'Neutral', 'Neutral', 'Neutral', 'Positive', 'Neutral', 'Neutral', 'Neutral', 'Negative', 'Positive', 'Negative', 'Neutral', 'Neutral', 'Positive', 'Neutral', 'Positive', 'Positive', 'Neutral', 'Positive', 'Positive', 'Positive', 'Neutral', 'Positive', 'Positive', 'Positive', 'Negative', 'Positive', 'Neutral', 'Neutral', 'Neutral', 'Positive', 'Positive', 'Neutral', 'Neutral', 'Positive', 'Neutral', 'Positive', 'Neutral', 'Neutral', 'Positive', 'Negative', 'Negative', 'Positive', 'Neutral', 'Neutral', 'Neutral', 'Neutral', 'Negative', 'Positive', 'Positive', 'Negative', 'Positive', 'Positive', 'Negative', 'Positive', 'Negative', 'Neutral', 'Positive', 'Positive', 'Neutral', 'Neutral', 'Positive', 'Positive', 'Positive', 'Neutral', 'Positive', 'Positive', 'Positive', 'Neutral', 'Positive', 'Neutral', 'Negative', 'Neutral', 'Negative', 'Positive', 'Neutral', 'Neutral', 'Positive', 'Negative', 'Positive', 'Negative', 'Positive', 'Negative', 'Neutral', 'Positive', 'Positive', 'Neutral', 'Negative', 'Neutral', 'Negative', 'Positive', 'Neutral', 'Neutral', 'Positive', 'Neutral', 'Positive', 'Positive', 'Neutral', 'Neutral', 'Positive', 'Positive', 'Negative', 'Neutral', 'Positive', 'Positive', 'Neutral', 'Neutral', 'Negative', 'Negative', 'Positive', 'Positive', 'Negative', 'Neutral', 'Negative', 'Positive', 'Neutral', 'Neutral', 'Neutral', 'Positive', 'Negative', 'Positive', 'Neutral', 'Negative', 'Positive', 'Neutral', 'Negative', 'Neutral', 'Neutral', 'Neutral', 'Negative', 'Neutral', 'Neutral', 'Neutral', 'Neutral', 'Neutral', 'Neutral', 'Neutral', 'Positive', 'Neutral', 'Neutral', 'Neutral', 'Positive', 'Neutral', 'Negative', 'Positive', 'Neutral', 'Neutral', 'Neutral', 'Neutral', 'Positive', 'Neutral', 'Positive', 'Neutral', 'Positive', 'Negative', 'Negative', 'Neutral', 'Neutral', 'Neutral', 'Negative', 'Positive', 'Positive', 'Negative', 'Negative', 'Negative', 'Neutral', 'Positive', 'Neutral', 'Neutral', 'Positive', 'Positive', 'Positive', 'Neutral', 'Neutral', 'Neutral', 'Neutral', 'Neutral', 'Negative', 'Positive', 'Neutral', 'Negative', 'Negative', 'Positive', 'Neutral', 'Neutral', 'Positive', 'Positive', 'Neutral', 'Neutral', 'Positive', 'Neutral', 'Positive', 'Neutral', 'Neutral', 'Positive', 'Neutral', 'Positive', 'Neutral', 'Neutral', 'Negative', 'Negative', 'Positive', 'Negative', 'Neutral', 'Neutral', 'Negative', 'Neutral', 'Negative', 'Neutral', 'Positive', 'Positive', 'Negative', 'Positive', 'Positive', 'Neutral', 'Neutral', 'Neutral', 'Neutral', 'Positive', 'Neutral', 'Positive', 'Positive', 'Positive', 'Positive', 'Negative', 'Neutral', 'Positive', 'Neutral', 'Neutral', 'Negative', 'Neutral', 'Positive', 'Positive', 'Positive', 'Neutral', 'Positive', 'Positive', 'Positive', 'Neutral', 'Neutral', 'Positive', 'Neutral', 'Negative', 'Positive', 'Neutral', 'Positive', 'Neutral', 'Positive', 'Neutral', 'Neutral', 'Neutral', 'Positive', 'Neutral', 'Neutral', 'Neutral', 'Neutral', 'Neutral', 'Neutral', 'Negative', 'Negative', 'Negative', 'Positive', 'Positive', 'Positive', 'Neutral', 'Neutral', 'Neutral', 'Neutral', 'Positive', 'Positive', 'Negative', 'Positive', 'Positive', 'Positive', 'Positive', 'Neutral', 'Positive', 'Neutral', 'Positive', 'Positive', 'Negative', 'Neutral', 'Neutral', 'Positive', 'Positive', 'Negative', 'Neutral', 'Positive', 'Positive', 'Positive', 'Positive', 'Positive', 'Positive', 'Positive', 'Neutral', 'Positive', 'Negative', 'Positive', 'Positive', 'Neutral', 'Positive', 'Neutral', 'Positive', 'Positive', 'Neutral', 'Neutral', 'Positive', 'Neutral', 'Positive', 'Positive', 'Positive', 'Neutral', 'Neutral', 'Neutral', 'Neutral', 'Neutral', 'Negative', 'Neutral', 'Negative', 'Negative', 'Positive', 'Positive', 'Neutral', 'Positive', 'Neutral', 'Neutral', 'Negative', 'Neutral', 'Positive', 'Neutral', 'Positive', 'Neutral', 'Positive', 'Negative', 'Negative', 'Positive', 'Positive', 'Neutral', 'Neutral', 'Negative', 'Negative', 'Negative', 'Neutral', 'Positive', 'Positive', 'Positive', 'Neutral', 'Positive', 'Positive', 'Neutral', 'Neutral', 'Neutral', 'Negative', 'Positive', 'Positive', 'Neutral', 'Negative', 'Positive', 'Positive', 'Negative', 'Positive', 'Negative', 'Negative', 'Neutral', 'Positive', 'Neutral', 'Neutral', 'Negative', 'Neutral', 'Positive', 'Negative', 'Neutral', 'Positive', 'Neutral', 'Positive', 'Negative', 'Positive', 'Positive', 'Neutral', 'Positive', 'Negative', 'Positive', 'Neutral', 'Positive', 'Neutral', 'Positive', 'Neutral', 'Neutral', 'Positive', 'Neutral', 'Neutral', 'Positive', 'Neutral', 'Neutral', 'Neutral', 'Neutral', 'Positive', 'Neutral', 'Neutral', 'Neutral', 'Negative', 'Neutral', 'Positive', 'Positive', 'Positive', 'Positive', 'Negative', 'Negative', 'Neutral', 'Positive', 'Negative', 'Positive', 'Neutral', 'Neutral', 'Positive', 'Positive', 'Negative', 'Positive', 'Neutral', 'Positive', 'Neutral', 'Neutral', 'Neutral', 'Neutral', 'Positive', 'Positive', 'Neutral', 'Positive', 'Neutral', 'Positive', 'Positive', 'Neutral', 'Positive', 'Positive', 'Neutral', 'Positive', 'Neutral', 'Neutral', 'Negative', 'Positive', 'Positive', 'Positive', 'Positive', 'Neutral', 'Positive', 'Positive', 'Neutral', 'Positive', 'Negative', 'Neutral', 'Neutral', 'Positive', 'Neutral', 'Neutral', 'Positive', 'Positive', 'Positive', 'Neutral', 'Positive', 'Positive', 'Neutral', 'Neutral', 'Neutral', 'Positive', 'Negative', 'Positive', 'Positive', 'Positive', 'Neutral', 'Positive', 'Neutral', 'Positive', 'Positive', 'Positive', 'Positive', 'Negative', 'Positive', 'Neutral', 'Neutral', 'Negative', 'Negative', 'Neutral', 'Negative', 'Neutral', 'Negative', 'Negative', 'Positive', 'Neutral', 'Neutral', 'Positive', 'Neutral', 'Positive', 'Positive', 'Neutral', 'Positive', 'Neutral', 'Neutral', 'Neutral', 'Neutral', 'Negative', 'Neutral', 'Neutral', 'Neutral', 'Neutral', 'Negative', 'Negative', 'Positive', 'Neutral', 'Neutral', 'Positive', 'Negative', 'Positive', 'Neutral', 'Neutral', 'Neutral', 'Neutral', 'Positive', 'Positive', 'Neutral', 'Neutral', 'Neutral', 'Positive', 'Positive', 'Positive', 'Positive', 'Positive', 'Neutral', 'Negative', 'Positive', 'Neutral', 'Neutral', 'Negative', 'Neutral', 'Neutral', 'Neutral', 'Positive', 'Neutral', 'Positive', 'Neutral', 'Neutral', 'Neutral', 'Positive', 'Positive', 'Neutral', 'Negative', 'Neutral', 'Negative', 'Negative', 'Positive', 'Positive', 'Positive', 'Positive', 'Negative', 'Neutral', 'Positive', 'Positive', 'Neutral', 'Neutral', 'Positive', 'Negative', 'Neutral', 'Positive', 'Positive', 'Positive', 'Positive', 'Negative', 'Negative', 'Negative', 'Positive', 'Neutral', 'Neutral', 'Neutral', 'Neutral', 'Neutral', 'Positive', 'Positive', 'Negative', 'Positive', 'Positive', 'Neutral', 'Positive', 'Positive', 'Neutral', 'Neutral', 'Neutral', 'Negative', 'Positive', 'Neutral', 'Positive', 'Neutral', 'Positive', 'Positive', 'Neutral', 'Neutral', 'Neutral', 'Neutral', 'Neutral', 'Neutral', 'Positive', 'Neutral', 'Neutral', 'Positive', 'Neutral', 'Negative', 'Neutral', 'Positive', 'Positive', 'Positive', 'Positive', 'Neutral', 'Positive', 'Positive', 'Negative', 'Neutral', 'Neutral', 'Neutral', 'Neutral', 'Negative', 'Neutral', 'Positive', 'Positive', 'Positive', 'Positive', 'Neutral', 'Neutral', 'Positive', 'Positive', 'Neutral', 'Neutral', 'Positive', 'Neutral', 'Neutral', 'Negative', 'Neutral', 'Neutral', 'Neutral', 'Neutral', 'Positive', 'Neutral', 'Neutral', 'Neutral', 'Positive', 'Positive', 'Positive', 'Neutral', 'Neutral', 'Neutral', 'Neutral', 'Neutral', 'Positive', 'Negative', 'Positive', 'Neutral', 'Neutral', 'Neutral', 'Neutral', 'Positive', 'Neutral', 'Neutral', 'Positive', 'Positive', 'Neutral', 'Negative', 'Neutral', 'Neutral', 'Positive', 'Positive', 'Positive', 'Neutral', 'Positive', 'Positive', 'Positive', 'Positive', 'Positive', 'Neutral', 'Neutral', 'Negative', 'Positive', 'Neutral', 'Positive', 'Neutral', 'Positive', 'Neutral', 'Positive', 'Positive', 'Negative', 'Positive', 'Neutral', 'Neutral', 'Neutral', 'Negative', 'Positive', 'Neutral', 'Negative', 'Neutral', 'Neutral', 'Neutral', 'Neutral', 'Positive', 'Positive', 'Neutral', 'Neutral', 'Positive', 'Positive', 'Positive', 'Positive', 'Neutral', 'Positive', 'Positive', 'Positive', 'Negative', 'Neutral', 'Neutral', 'Positive', 'Negative', 'Positive', 'Positive', 'Neutral', 'Negative', 'Neutral', 'Negative', 'Neutral', 'Neutral', 'Positive', 'Neutral', 'Neutral', 'Neutral', 'Positive', 'Neutral', 'Neutral', 'Neutral', 'Positive', 'Neutral', 'Neutral', 'Negative', 'Neutral', 'Positive', 'Neutral', 'Neutral', 'Neutral', 'Positive', 'Positive', 'Positive', 'Positive', 'Positive', 'Neutral', 'Positive', 'Positive', 'Positive', 'Neutral', 'Neutral', 'Positive', 'Positive', 'Neutral', 'Positive', 'Neutral', 'Positive', 'Neutral', 'Neutral', 'Negative', 'Positive', 'Positive', 'Negative', 'Neutral', 'Positive', 'Neutral', 'Negative', 'Neutral', 'Positive', 'Positive', 'Positive', 'Neutral', 'Neutral', 'Neutral', 'Neutral', 'Neutral', 'Neutral', 'Positive', 'Positive', 'Positive', 'Positive', 'Negative', 'Neutral', 'Neutral', 'Neutral', 'Positive', 'Neutral', 'Neutral', 'Positive', 'Neutral', 'Neutral', 'Neutral', 'Neutral', 'Neutral', 'Neutral', 'Positive', 'Positive', 'Positive', 'Neutral', 'Positive', 'Positive', 'Neutral', 'Positive', 'Positive', 'Positive', 'Positive', 'Neutral', 'Neutral', 'Positive', 'Positive', 'Neutral', 'Neutral', 'Positive', 'Neutral', 'Neutral', 'Positive', 'Negative', 'Positive', 'Neutral', 'Neutral', 'Neutral', 'Neutral', 'Neutral', 'Positive', 'Positive', 'Neutral', 'Negative', 'Neutral', 'Negative', 'Positive', 'Neutral', 'Neutral', 'Neutral', 'Positive', 'Positive', 'Positive', 'Positive', 'Positive', 'Neutral', 'Neutral', 'Neutral', 'Positive', 'Neutral', 'Negative', 'Neutral', 'Positive', 'Neutral', 'Neutral', 'Positive', 'Neutral', 'Negative', 'Positive', 'Positive', 'Neutral', 'Neutral', 'Neutral', 'Neutral', 'Neutral', 'Neutral', 'Neutral', 'Neutral', 'Neutral', 'Neutral', 'Neutral', 'Negative', 'Positive', 'Neutral', 'Neutral', 'Neutral', 'Positive', 'Neutral', 'Neutral', 'Positive', 'Positive', 'Positive', 'Positive', 'Neutral', 'Neutral', 'Neutral', 'Positive', 'Negative', 'Negative', 'Neutral', 'Neutral', 'Neutral', 'Neutral', 'Positive', 'Neutral', 'Neutral', 'Neutral', 'Positive', 'Positive', 'Positive', 'Neutral', 'Neutral', 'Positive', 'Positive', 'Positive', 'Neutral', 'Positive', 'Neutral', 'Neutral', 'Neutral', 'Neutral', 'Neutral', 'Positive', 'Positive', 'Positive', 'Neutral', 'Neutral', 'Neutral', 'Positive', 'Neutral', 'Positive', 'Neutral', 'Neutral', 'Positive', 'Negative', 'Negative', 'Positive', 'Neutral', 'Neutral', 'Positive', 'Positive', 'Negative', 'Neutral', 'Neutral', 'Neutral', 'Neutral', 'Neutral', 'Positive', 'Positive', 'Neutral', 'Positive', 'Neutral', 'Positive', 'Positive', 'Negative', 'Positive', 'Neutral', 'Neutral', 'Positive', 'Positive', 'Neutral', 'Neutral', 'Positive', 'Positive', 'Neutral', 'Neutral', 'Neutral', 'Neutral', 'Negative', 'Positive', 'Neutral', 'Negative', 'Negative', 'Positive', 'Positive', 'Neutral', 'Neutral', 'Positive', 'Positive', 'Negative', 'Neutral', 'Neutral', 'Positive', 'Positive', 'Positive', 'Negative', 'Neutral', 'Neutral', 'Neutral', 'Neutral', 'Neutral', 'Neutral', 'Negative', 'Neutral', 'Neutral', 'Negative', 'Negative', 'Positive', 'Neutral', 'Negative', 'Positive', 'Neutral', 'Positive', 'Positive', 'Negative', 'Positive', 'Neutral', 'Neutral', 'Neutral', 'Positive', 'Neutral', 'Positive', 'Neutral', 'Neutral', 'Neutral', 'Positive', 'Positive', 'Neutral', 'Positive', 'Positive', 'Neutral', 'Neutral', 'Positive', 'Positive', 'Neutral', 'Negative', 'Neutral', 'Positive', 'Neutral', 'Neutral', 'Positive', 'Neutral', 'Positive', 'Neutral', 'Neutral', 'Negative', 'Positive', 'Neutral', 'Positive', 'Neutral', 'Positive', 'Neutral', 'Negative', 'Positive', 'Neutral', 'Neutral', 'Positive', 'Negative', 'Neutral', 'Positive', 'Positive', 'Negative', 'Positive', 'Neutral', 'Positive', 'Positive', 'Positive', 'Positive', 'Negative', 'Negative', 'Neutral', 'Neutral', 'Negative', 'Negative', 'Neutral', 'Neutral', 'Negative', 'Positive', 'Neutral', 'Neutral', 'Positive', 'Positive', 'Neutral', 'Neutral', 'Neutral', 'Neutral', 'Neutral', 'Positive', 'Neutral', 'Positive', 'Negative', 'Neutral', 'Positive', 'Neutral', 'Neutral', 'Negative', 'Positive', 'Positive', 'Neutral', 'Positive', 'Positive', 'Positive', 'Neutral', 'Neutral', 'Neutral', 'Neutral', 'Neutral', 'Positive', 'Neutral', 'Neutral', 'Neutral', 'Positive', 'Positive', 'Positive', 'Positive', 'Positive', 'Positive', 'Positive', 'Positive', 'Neutral', 'Positive', 'Negative', 'Neutral', 'Neutral', 'Neutral', 'Positive', 'Neutral', 'Neutral', 'Positive', 'Neutral', 'Positive', 'Positive', 'Positive', 'Neutral', 'Negative', 'Neutral', 'Positive', 'Neutral', 'Positive', 'Positive', 'Positive', 'Neutral', 'Neutral', 'Neutral', 'Neutral', 'Positive', 'Neutral', 'Negative', 'Neutral', 'Negative', 'Negative', 'Neutral', 'Negative', 'Neutral', 'Negative', 'Negative', 'Neutral', 'Positive', 'Neutral', 'Positive', 'Positive', 'Neutral', 'Positive', 'Positive', 'Positive', 'Neutral', 'Neutral', 'Positive', 'Negative', 'Positive', 'Positive', 'Neutral', 'Positive', 'Positive', 'Positive', 'Negative', 'Positive', 'Positive', 'Positive', 'Neutral', 'Positive', 'Neutral', 'Neutral', 'Neutral', 'Neutral', 'Neutral', 'Neutral', 'Positive', 'Neutral', 'Negative', 'Negative', 'Positive', 'Neutral', 'Neutral', 'Neutral', 'Neutral', 'Positive', 'Positive', 'Neutral', 'Positive', 'Positive', 'Neutral', 'Neutral', 'Negative', 'Negative', 'Positive', 'Neutral', 'Positive', 'Neutral', 'Negative', 'Positive', 'Neutral', 'Neutral', 'Positive', 'Neutral', 'Neutral', 'Positive', 'Positive', 'Neutral', 'Neutral', 'Neutral', 'Positive', 'Positive', 'Negative', 'Positive', 'Neutral', 'Negative', 'Positive', 'Neutral', 'Positive', 'Neutral', 'Positive', 'Positive', 'Neutral', 'Neutral', 'Negative', 'Positive', 'Positive', 'Positive', 'Neutral', 'Positive', 'Positive', 'Neutral', 'Neutral', 'Neutral', 'Neutral', 'Neutral', 'Positive', 'Negative', 'Neutral', 'Neutral', 'Positive', 'Negative', 'Positive', 'Negative', 'Positive', 'Positive', 'Neutral', 'Positive', 'Positive', 'Neutral', 'Positive', 'Neutral', 'Neutral', 'Positive', 'Neutral', 'Positive', 'Neutral', 'Positive', 'Neutral', 'Negative', 'Neutral', 'Positive', 'Neutral', 'Neutral', 'Positive', 'Neutral', 'Positive', 'Neutral', 'Neutral', 'Neutral', 'Neutral', 'Positive', 'Positive', 'Neutral', 'Positive', 'Neutral', 'Neutral', 'Neutral', 'Positive', 'Positive', 'Negative', 'Positive', 'Positive', 'Positive', 'Positive', 'Neutral', 'Negative', 'Neutral', 'Positive', 'Positive', 'Neutral', 'Neutral', 'Negative', 'Neutral', 'Positive', 'Neutral', 'Neutral', 'Positive', 'Neutral', 'Neutral', 'Neutral', 'Neutral', 'Neutral', 'Neutral', 'Neutral', 'Neutral', 'Positive', 'Positive', 'Neutral', 'Positive', 'Positive', 'Neutral', 'Negative', 'Positive', 'Positive', 'Neutral', 'Positive', 'Positive', 'Neutral', 'Positive', 'Positive', 'Positive', 'Neutral', 'Neutral', 'Positive', 'Positive', 'Positive', 'Positive', 'Positive', 'Neutral', 'Neutral', 'Positive', 'Negative', 'Negative', 'Positive', 'Neutral', 'Neutral', 'Positive', 'Negative', 'Negative', 'Positive', 'Neutral', 'Neutral', 'Positive', 'Neutral', 'Positive', 'Neutral', 'Positive', 'Positive', 'Positive', 'Neutral', 'Positive', 'Negative', 'Neutral', 'Neutral', 'Positive', 'Positive', 'Positive', 'Positive', 'Positive', 'Positive', 'Positive', 'Neutral', 'Neutral', 'Positive', 'Negative', 'Neutral', 'Neutral', 'Positive', 'Positive', 'Neutral', 'Positive', 'Positive', 'Neutral', 'Positive', 'Positive', 'Positive', 'Neutral', 'Positive', 'Negative', 'Neutral', 'Positive', 'Positive', 'Negative', 'Neutral', 'Neutral', 'Neutral', 'Neutral', 'Neutral', 'Neutral', 'Neutral', 'Positive', 'Neutral', 'Positive', 'Negative', 'Positive', 'Neutral', 'Positive', 'Negative', 'Positive', 'Neutral', 'Neutral', 'Positive', 'Positive', 'Positive', 'Neutral', 'Neutral', 'Positive', 'Neutral', 'Neutral', 'Negative', 'Positive', 'Neutral', 'Neutral', 'Neutral', 'Neutral', 'Positive', 'Positive', 'Positive', 'Positive', 'Neutral', 'Neutral', 'Neutral', 'Positive', 'Neutral', 'Positive', 'Neutral', 'Positive', 'Positive', 'Positive', 'Neutral', 'Neutral', 'Positive', 'Neutral', 'Neutral', 'Neutral', 'Neutral', 'Positive', 'Positive', 'Negative', 'Negative', 'Neutral', 'Neutral', 'Neutral', 'Neutral', 'Positive', 'Neutral', 'Negative', 'Neutral', 'Negative', 'Neutral', 'Positive', 'Negative', 'Neutral', 'Positive', 'Neutral', 'Neutral', 'Neutral', 'Neutral', 'Positive', 'Negative', 'Neutral', 'Positive', 'Neutral', 'Neutral', 'Positive', 'Neutral', 'Positive', 'Positive', 'Neutral', 'Positive', 'Positive', 'Neutral', 'Neutral', 'Neutral', 'Neutral', 'Positive', 'Neutral', 'Positive', 'Negative', 'Positive', 'Positive', 'Positive', 'Neutral', 'Positive', 'Neutral', 'Neutral', 'Negative', 'Neutral', 'Positive', 'Positive', 'Neutral', 'Positive', 'Neutral', 'Negative', 'Neutral', 'Neutral', 'Negative', 'Positive', 'Positive', 'Positive', 'Neutral', 'Neutral', 'Neutral', 'Neutral', 'Neutral', 'Positive', 'Positive', 'Positive', 'Negative', 'Negative', 'Positive', 'Negative', 'Neutral', 'Neutral', 'Neutral', 'Positive', 'Positive', 'Positive', 'Positive', 'Positive', 'Neutral', 'Positive', 'Neutral', 'Positive', 'Neutral', 'Positive', 'Positive', 'Neutral', 'Neutral', 'Positive', 'Neutral', 'Positive', 'Neutral', 'Positive', 'Neutral', 'Neutral', 'Neutral', 'Neutral', 'Positive', 'Neutral', 'Neutral', 'Positive', 'Neutral', 'Positive', 'Negative', 'Neutral', 'Positive', 'Neutral', 'Neutral', 'Neutral', 'Positive', 'Positive', 'Neutral', 'Negative', 'Positive', 'Positive', 'Negative', 'Neutral', 'Neutral', 'Positive', 'Neutral', 'Neutral', 'Neutral', 'Positive', 'Positive', 'Negative', 'Negative', 'Neutral', 'Positive', 'Neutral', 'Positive', 'Positive', 'Neutral', 'Positive', 'Neutral', 'Neutral', 'Neutral', 'Positive', 'Neutral', 'Neutral', 'Neutral', 'Neutral', 'Neutral', 'Positive', 'Positive', 'Positive', 'Neutral', 'Neutral', 'Positive', 'Neutral', 'Neutral', 'Positive', 'Negative', 'Neutral', 'Negative', 'Positive', 'Neutral', 'Negative', 'Positive', 'Neutral', 'Positive', 'Positive', 'Positive', 'Neutral', 'Neutral', 'Neutral', 'Neutral', 'Negative', 'Positive', 'Negative', 'Negative', 'Positive', 'Neutral', 'Neutral', 'Neutral', 'Negative', 'Neutral', 'Positive', 'Negative', 'Positive', 'Positive', 'Positive', 'Negative', 'Positive', 'Positive', 'Positive', 'Neutral', 'Negative', 'Neutral', 'Neutral', 'Positive', 'Neutral', 'Neutral', 'Neutral', 'Neutral', 'Neutral', 'Positive', 'Negative', 'Neutral', 'Positive', 'Positive', 'Neutral', 'Neutral', 'Negative', 'Negative', 'Neutral', 'Negative', 'Neutral', 'Neutral', 'Positive', 'Neutral', 'Positive', 'Positive', 'Positive', 'Positive', 'Negative', 'Neutral', 'Neutral', 'Neutral', 'Negative', 'Neutral', 'Positive', 'Negative', 'Positive', 'Positive', 'Positive']\n"
          ],
          "name": "stdout"
        }
      ]
    },
    {
      "cell_type": "code",
      "metadata": {
        "id": "iBAqiZ961y-Z"
      },
      "source": [
        "df['sent'] = pd.Series(np.array(sentimento))"
      ],
      "execution_count": null,
      "outputs": []
    },
    {
      "cell_type": "code",
      "metadata": {
        "colab": {
          "base_uri": "https://localhost:8080/",
          "height": 682
        },
        "id": "4SkOepuP2Bvf",
        "outputId": "c6a63a3c-1768-466e-e50b-863183ab2c61"
      },
      "source": [
        "df.head()"
      ],
      "execution_count": null,
      "outputs": [
        {
          "output_type": "execute_result",
          "data": {
            "text/html": [
              "<div>\n",
              "<style scoped>\n",
              "    .dataframe tbody tr th:only-of-type {\n",
              "        vertical-align: middle;\n",
              "    }\n",
              "\n",
              "    .dataframe tbody tr th {\n",
              "        vertical-align: top;\n",
              "    }\n",
              "\n",
              "    .dataframe thead th {\n",
              "        text-align: right;\n",
              "    }\n",
              "</style>\n",
              "<table border=\"1\" class=\"dataframe\">\n",
              "  <thead>\n",
              "    <tr style=\"text-align: right;\">\n",
              "      <th></th>\n",
              "      <th>id</th>\n",
              "      <th>user_name</th>\n",
              "      <th>user_location</th>\n",
              "      <th>user_description</th>\n",
              "      <th>user_created</th>\n",
              "      <th>user_followers</th>\n",
              "      <th>user_friends</th>\n",
              "      <th>user_favourites</th>\n",
              "      <th>user_verified</th>\n",
              "      <th>date</th>\n",
              "      <th>text</th>\n",
              "      <th>hashtags</th>\n",
              "      <th>source</th>\n",
              "      <th>retweets</th>\n",
              "      <th>favorites</th>\n",
              "      <th>is_retweet</th>\n",
              "      <th>year</th>\n",
              "      <th>month</th>\n",
              "      <th>day</th>\n",
              "      <th>dayofweek</th>\n",
              "      <th>dayofyear</th>\n",
              "      <th>weekofyear</th>\n",
              "      <th>quarter</th>\n",
              "      <th>sentiments</th>\n",
              "      <th>positive_sentiment</th>\n",
              "      <th>neutral_sentimet</th>\n",
              "      <th>negative_sentiment</th>\n",
              "      <th>compound</th>\n",
              "      <th>sent</th>\n",
              "    </tr>\n",
              "  </thead>\n",
              "  <tbody>\n",
              "    <tr>\n",
              "      <th>0</th>\n",
              "      <td>1340539111971516416</td>\n",
              "      <td>Rachel Roh</td>\n",
              "      <td>La Crescenta-Montrose, CA</td>\n",
              "      <td>Aggregator of Asian American news; scanning di...</td>\n",
              "      <td>2009-04-08 17:52:46</td>\n",
              "      <td>405</td>\n",
              "      <td>1692</td>\n",
              "      <td>3247</td>\n",
              "      <td>False</td>\n",
              "      <td>2020-12-20 06:06:44</td>\n",
              "      <td>Same folks said daikon paste could treat a cyt...</td>\n",
              "      <td>['PfizerBioNTech']</td>\n",
              "      <td>Twitter for Android</td>\n",
              "      <td>0</td>\n",
              "      <td>0</td>\n",
              "      <td>False</td>\n",
              "      <td>2020</td>\n",
              "      <td>12</td>\n",
              "      <td>20</td>\n",
              "      <td>6</td>\n",
              "      <td>355</td>\n",
              "      <td>51</td>\n",
              "      <td>4</td>\n",
              "      <td>{'neg': 0.0, 'neu': 0.803, 'pos': 0.197, 'comp...</td>\n",
              "      <td>0.197</td>\n",
              "      <td>0.803</td>\n",
              "      <td>0.000</td>\n",
              "      <td>0.4019</td>\n",
              "      <td>Positive</td>\n",
              "    </tr>\n",
              "    <tr>\n",
              "      <th>2</th>\n",
              "      <td>1337858199140118533</td>\n",
              "      <td>eli🇱🇹🇪🇺👌</td>\n",
              "      <td>Your Bed</td>\n",
              "      <td>heil, hydra 🖐☺</td>\n",
              "      <td>2020-06-25 23:30:28</td>\n",
              "      <td>10</td>\n",
              "      <td>88</td>\n",
              "      <td>155</td>\n",
              "      <td>False</td>\n",
              "      <td>2020-12-12 20:33:45</td>\n",
              "      <td>Russian vaccine is created to last 2-4 y...</td>\n",
              "      <td>['coronavirus', 'SputnikV', 'AstraZeneca', 'Pf...</td>\n",
              "      <td>Twitter for Android</td>\n",
              "      <td>0</td>\n",
              "      <td>0</td>\n",
              "      <td>False</td>\n",
              "      <td>2020</td>\n",
              "      <td>12</td>\n",
              "      <td>12</td>\n",
              "      <td>5</td>\n",
              "      <td>347</td>\n",
              "      <td>50</td>\n",
              "      <td>4</td>\n",
              "      <td>{'neg': 0.0, 'neu': 0.818, 'pos': 0.182, 'comp...</td>\n",
              "      <td>0.182</td>\n",
              "      <td>0.818</td>\n",
              "      <td>0.000</td>\n",
              "      <td>0.2500</td>\n",
              "      <td>Positive</td>\n",
              "    </tr>\n",
              "    <tr>\n",
              "      <th>6</th>\n",
              "      <td>1337851215875608579</td>\n",
              "      <td>Gunther Fehlinger</td>\n",
              "      <td>Austria, Ukraine and Kosovo</td>\n",
              "      <td>End North Stream 2 now - the pipeline of corru...</td>\n",
              "      <td>2013-06-10 17:49:22</td>\n",
              "      <td>2731</td>\n",
              "      <td>5001</td>\n",
              "      <td>69344</td>\n",
              "      <td>False</td>\n",
              "      <td>2020-12-12 20:06:00</td>\n",
              "      <td>it is a bit sad to claim the fame for success ...</td>\n",
              "      <td>['vaccination']</td>\n",
              "      <td>Twitter Web App</td>\n",
              "      <td>0</td>\n",
              "      <td>4</td>\n",
              "      <td>False</td>\n",
              "      <td>2020</td>\n",
              "      <td>12</td>\n",
              "      <td>12</td>\n",
              "      <td>5</td>\n",
              "      <td>347</td>\n",
              "      <td>50</td>\n",
              "      <td>4</td>\n",
              "      <td>{'neg': 0.108, 'neu': 0.662, 'pos': 0.23, 'com...</td>\n",
              "      <td>0.230</td>\n",
              "      <td>0.662</td>\n",
              "      <td>0.108</td>\n",
              "      <td>0.5423</td>\n",
              "      <td>Neutral</td>\n",
              "    </tr>\n",
              "    <tr>\n",
              "      <th>9</th>\n",
              "      <td>1337842295857623042</td>\n",
              "      <td>Ch.Amjad Ali</td>\n",
              "      <td>Islamabad</td>\n",
              "      <td>#ProudPakistani #LovePakArmy #PMIK @insafiansp...</td>\n",
              "      <td>2012-11-12 04:18:12</td>\n",
              "      <td>671</td>\n",
              "      <td>2368</td>\n",
              "      <td>20469</td>\n",
              "      <td>False</td>\n",
              "      <td>2020-12-12 19:30:33</td>\n",
              "      <td>States will start getting  Monday,  says     ...</td>\n",
              "      <td>['CovidVaccine', 'COVID19Vaccine', 'US', 'paku...</td>\n",
              "      <td>Twitter Web App</td>\n",
              "      <td>0</td>\n",
              "      <td>0</td>\n",
              "      <td>False</td>\n",
              "      <td>2020</td>\n",
              "      <td>12</td>\n",
              "      <td>12</td>\n",
              "      <td>5</td>\n",
              "      <td>347</td>\n",
              "      <td>50</td>\n",
              "      <td>4</td>\n",
              "      <td>{'neg': 0.0, 'neu': 1.0, 'pos': 0.0, 'compound...</td>\n",
              "      <td>0.000</td>\n",
              "      <td>1.000</td>\n",
              "      <td>0.000</td>\n",
              "      <td>0.0000</td>\n",
              "      <td>Negative</td>\n",
              "    </tr>\n",
              "    <tr>\n",
              "      <th>10</th>\n",
              "      <td>1337841934170255365</td>\n",
              "      <td>Tamer Yazar</td>\n",
              "      <td>Turkey-Israel</td>\n",
              "      <td>Im Market Analyst, also Editor... working (fre...</td>\n",
              "      <td>2009-09-17 16:45:16</td>\n",
              "      <td>1302</td>\n",
              "      <td>78</td>\n",
              "      <td>339</td>\n",
              "      <td>False</td>\n",
              "      <td>2020-12-12 19:29:07</td>\n",
              "      <td>while deaths are closing in on the 300,000 mar...</td>\n",
              "      <td>['PfizerBioNTech', 'Vaccine']</td>\n",
              "      <td>Twitter Web App</td>\n",
              "      <td>0</td>\n",
              "      <td>0</td>\n",
              "      <td>False</td>\n",
              "      <td>2020</td>\n",
              "      <td>12</td>\n",
              "      <td>12</td>\n",
              "      <td>5</td>\n",
              "      <td>347</td>\n",
              "      <td>50</td>\n",
              "      <td>4</td>\n",
              "      <td>{'neg': 0.0, 'neu': 1.0, 'pos': 0.0, 'compound...</td>\n",
              "      <td>0.000</td>\n",
              "      <td>1.000</td>\n",
              "      <td>0.000</td>\n",
              "      <td>0.0000</td>\n",
              "      <td>Positive</td>\n",
              "    </tr>\n",
              "  </tbody>\n",
              "</table>\n",
              "</div>"
            ],
            "text/plain": [
              "                     id          user_name  ... compound      sent\n",
              "0   1340539111971516416         Rachel Roh  ...   0.4019  Positive\n",
              "2   1337858199140118533           eli🇱🇹🇪🇺👌  ...   0.2500  Positive\n",
              "6   1337851215875608579  Gunther Fehlinger  ...   0.5423   Neutral\n",
              "9   1337842295857623042       Ch.Amjad Ali  ...   0.0000  Negative\n",
              "10  1337841934170255365        Tamer Yazar  ...   0.0000  Positive\n",
              "\n",
              "[5 rows x 29 columns]"
            ]
          },
          "metadata": {
            "tags": []
          },
          "execution_count": 53
        }
      ]
    },
    {
      "cell_type": "code",
      "metadata": {
        "id": "b1L6U0aD2ENz"
      },
      "source": [
        "def limpa_texto(text):\n",
        "  text = str(text).lower()\n",
        "  text = re.sub('[%s]' % re.escape(string.punctuation), \"\", text)\n",
        "\n",
        "  return text"
      ],
      "execution_count": null,
      "outputs": []
    },
    {
      "cell_type": "code",
      "metadata": {
        "id": "bH3VX3_03oCe"
      },
      "source": [
        "df['text'] = df['text'].apply(lambda x: limpa_texto(x))"
      ],
      "execution_count": null,
      "outputs": []
    },
    {
      "cell_type": "code",
      "metadata": {
        "colab": {
          "base_uri": "https://localhost:8080/",
          "height": 715
        },
        "id": "vphUjiyr3-ox",
        "outputId": "2ce78552-dcb4-4d5c-bd42-5ca538fb4439"
      },
      "source": [
        "df.head()"
      ],
      "execution_count": null,
      "outputs": [
        {
          "output_type": "execute_result",
          "data": {
            "text/html": [
              "<div>\n",
              "<style scoped>\n",
              "    .dataframe tbody tr th:only-of-type {\n",
              "        vertical-align: middle;\n",
              "    }\n",
              "\n",
              "    .dataframe tbody tr th {\n",
              "        vertical-align: top;\n",
              "    }\n",
              "\n",
              "    .dataframe thead th {\n",
              "        text-align: right;\n",
              "    }\n",
              "</style>\n",
              "<table border=\"1\" class=\"dataframe\">\n",
              "  <thead>\n",
              "    <tr style=\"text-align: right;\">\n",
              "      <th></th>\n",
              "      <th>id</th>\n",
              "      <th>user_name</th>\n",
              "      <th>user_location</th>\n",
              "      <th>user_description</th>\n",
              "      <th>user_created</th>\n",
              "      <th>user_followers</th>\n",
              "      <th>user_friends</th>\n",
              "      <th>user_favourites</th>\n",
              "      <th>user_verified</th>\n",
              "      <th>date</th>\n",
              "      <th>text</th>\n",
              "      <th>hashtags</th>\n",
              "      <th>source</th>\n",
              "      <th>retweets</th>\n",
              "      <th>favorites</th>\n",
              "      <th>is_retweet</th>\n",
              "      <th>year</th>\n",
              "      <th>month</th>\n",
              "      <th>day</th>\n",
              "      <th>dayofweek</th>\n",
              "      <th>dayofyear</th>\n",
              "      <th>weekofyear</th>\n",
              "      <th>quarter</th>\n",
              "      <th>sentiments</th>\n",
              "      <th>positive_sentiment</th>\n",
              "      <th>neutral_sentimet</th>\n",
              "      <th>negative_sentiment</th>\n",
              "      <th>compound</th>\n",
              "      <th>sent</th>\n",
              "    </tr>\n",
              "  </thead>\n",
              "  <tbody>\n",
              "    <tr>\n",
              "      <th>0</th>\n",
              "      <td>1340539111971516416</td>\n",
              "      <td>Rachel Roh</td>\n",
              "      <td>La Crescenta-Montrose, CA</td>\n",
              "      <td>Aggregator of Asian American news; scanning di...</td>\n",
              "      <td>2009-04-08 17:52:46</td>\n",
              "      <td>405</td>\n",
              "      <td>1692</td>\n",
              "      <td>3247</td>\n",
              "      <td>False</td>\n",
              "      <td>2020-12-20 06:06:44</td>\n",
              "      <td>same folks said daikon paste could treat a cyt...</td>\n",
              "      <td>['PfizerBioNTech']</td>\n",
              "      <td>Twitter for Android</td>\n",
              "      <td>0</td>\n",
              "      <td>0</td>\n",
              "      <td>False</td>\n",
              "      <td>2020</td>\n",
              "      <td>12</td>\n",
              "      <td>20</td>\n",
              "      <td>6</td>\n",
              "      <td>355</td>\n",
              "      <td>51</td>\n",
              "      <td>4</td>\n",
              "      <td>{'neg': 0.0, 'neu': 0.803, 'pos': 0.197, 'comp...</td>\n",
              "      <td>0.197</td>\n",
              "      <td>0.803</td>\n",
              "      <td>0.000</td>\n",
              "      <td>0.4019</td>\n",
              "      <td>Positive</td>\n",
              "    </tr>\n",
              "    <tr>\n",
              "      <th>2</th>\n",
              "      <td>1337858199140118533</td>\n",
              "      <td>eli🇱🇹🇪🇺👌</td>\n",
              "      <td>Your Bed</td>\n",
              "      <td>heil, hydra 🖐☺</td>\n",
              "      <td>2020-06-25 23:30:28</td>\n",
              "      <td>10</td>\n",
              "      <td>88</td>\n",
              "      <td>155</td>\n",
              "      <td>False</td>\n",
              "      <td>2020-12-12 20:33:45</td>\n",
              "      <td>russian vaccine is created to last 24 ye...</td>\n",
              "      <td>['coronavirus', 'SputnikV', 'AstraZeneca', 'Pf...</td>\n",
              "      <td>Twitter for Android</td>\n",
              "      <td>0</td>\n",
              "      <td>0</td>\n",
              "      <td>False</td>\n",
              "      <td>2020</td>\n",
              "      <td>12</td>\n",
              "      <td>12</td>\n",
              "      <td>5</td>\n",
              "      <td>347</td>\n",
              "      <td>50</td>\n",
              "      <td>4</td>\n",
              "      <td>{'neg': 0.0, 'neu': 0.818, 'pos': 0.182, 'comp...</td>\n",
              "      <td>0.182</td>\n",
              "      <td>0.818</td>\n",
              "      <td>0.000</td>\n",
              "      <td>0.2500</td>\n",
              "      <td>Positive</td>\n",
              "    </tr>\n",
              "    <tr>\n",
              "      <th>6</th>\n",
              "      <td>1337851215875608579</td>\n",
              "      <td>Gunther Fehlinger</td>\n",
              "      <td>Austria, Ukraine and Kosovo</td>\n",
              "      <td>End North Stream 2 now - the pipeline of corru...</td>\n",
              "      <td>2013-06-10 17:49:22</td>\n",
              "      <td>2731</td>\n",
              "      <td>5001</td>\n",
              "      <td>69344</td>\n",
              "      <td>False</td>\n",
              "      <td>2020-12-12 20:06:00</td>\n",
              "      <td>it is a bit sad to claim the fame for success ...</td>\n",
              "      <td>['vaccination']</td>\n",
              "      <td>Twitter Web App</td>\n",
              "      <td>0</td>\n",
              "      <td>4</td>\n",
              "      <td>False</td>\n",
              "      <td>2020</td>\n",
              "      <td>12</td>\n",
              "      <td>12</td>\n",
              "      <td>5</td>\n",
              "      <td>347</td>\n",
              "      <td>50</td>\n",
              "      <td>4</td>\n",
              "      <td>{'neg': 0.108, 'neu': 0.662, 'pos': 0.23, 'com...</td>\n",
              "      <td>0.230</td>\n",
              "      <td>0.662</td>\n",
              "      <td>0.108</td>\n",
              "      <td>0.5423</td>\n",
              "      <td>Neutral</td>\n",
              "    </tr>\n",
              "    <tr>\n",
              "      <th>9</th>\n",
              "      <td>1337842295857623042</td>\n",
              "      <td>Ch.Amjad Ali</td>\n",
              "      <td>Islamabad</td>\n",
              "      <td>#ProudPakistani #LovePakArmy #PMIK @insafiansp...</td>\n",
              "      <td>2012-11-12 04:18:12</td>\n",
              "      <td>671</td>\n",
              "      <td>2368</td>\n",
              "      <td>20469</td>\n",
              "      <td>False</td>\n",
              "      <td>2020-12-12 19:30:33</td>\n",
              "      <td>states will start getting  monday  says     h...</td>\n",
              "      <td>['CovidVaccine', 'COVID19Vaccine', 'US', 'paku...</td>\n",
              "      <td>Twitter Web App</td>\n",
              "      <td>0</td>\n",
              "      <td>0</td>\n",
              "      <td>False</td>\n",
              "      <td>2020</td>\n",
              "      <td>12</td>\n",
              "      <td>12</td>\n",
              "      <td>5</td>\n",
              "      <td>347</td>\n",
              "      <td>50</td>\n",
              "      <td>4</td>\n",
              "      <td>{'neg': 0.0, 'neu': 1.0, 'pos': 0.0, 'compound...</td>\n",
              "      <td>0.000</td>\n",
              "      <td>1.000</td>\n",
              "      <td>0.000</td>\n",
              "      <td>0.0000</td>\n",
              "      <td>Negative</td>\n",
              "    </tr>\n",
              "    <tr>\n",
              "      <th>10</th>\n",
              "      <td>1337841934170255365</td>\n",
              "      <td>Tamer Yazar</td>\n",
              "      <td>Turkey-Israel</td>\n",
              "      <td>Im Market Analyst, also Editor... working (fre...</td>\n",
              "      <td>2009-09-17 16:45:16</td>\n",
              "      <td>1302</td>\n",
              "      <td>78</td>\n",
              "      <td>339</td>\n",
              "      <td>False</td>\n",
              "      <td>2020-12-12 19:29:07</td>\n",
              "      <td>while deaths are closing in on the 300000 mark...</td>\n",
              "      <td>['PfizerBioNTech', 'Vaccine']</td>\n",
              "      <td>Twitter Web App</td>\n",
              "      <td>0</td>\n",
              "      <td>0</td>\n",
              "      <td>False</td>\n",
              "      <td>2020</td>\n",
              "      <td>12</td>\n",
              "      <td>12</td>\n",
              "      <td>5</td>\n",
              "      <td>347</td>\n",
              "      <td>50</td>\n",
              "      <td>4</td>\n",
              "      <td>{'neg': 0.0, 'neu': 1.0, 'pos': 0.0, 'compound...</td>\n",
              "      <td>0.000</td>\n",
              "      <td>1.000</td>\n",
              "      <td>0.000</td>\n",
              "      <td>0.0000</td>\n",
              "      <td>Positive</td>\n",
              "    </tr>\n",
              "  </tbody>\n",
              "</table>\n",
              "</div>"
            ],
            "text/plain": [
              "                     id          user_name  ... compound      sent\n",
              "0   1340539111971516416         Rachel Roh  ...   0.4019  Positive\n",
              "2   1337858199140118533           eli🇱🇹🇪🇺👌  ...   0.2500  Positive\n",
              "6   1337851215875608579  Gunther Fehlinger  ...   0.5423   Neutral\n",
              "9   1337842295857623042       Ch.Amjad Ali  ...   0.0000  Negative\n",
              "10  1337841934170255365        Tamer Yazar  ...   0.0000  Positive\n",
              "\n",
              "[5 rows x 29 columns]"
            ]
          },
          "metadata": {
            "tags": []
          },
          "execution_count": 61
        }
      ]
    },
    {
      "cell_type": "code",
      "metadata": {
        "id": "wnlXblBf4XnV"
      },
      "source": [
        "def tokenization(text):\n",
        "  text = re.split('\\W+', text)\n",
        "  return text"
      ],
      "execution_count": null,
      "outputs": []
    },
    {
      "cell_type": "code",
      "metadata": {
        "id": "ntD4Kuuf4uLT"
      },
      "source": [
        "df_text = pd.DataFrame()"
      ],
      "execution_count": null,
      "outputs": []
    },
    {
      "cell_type": "code",
      "metadata": {
        "id": "pA_htbLQ4-wj"
      },
      "source": [
        "df_text['text'] = df['text']"
      ],
      "execution_count": null,
      "outputs": []
    },
    {
      "cell_type": "code",
      "metadata": {
        "colab": {
          "base_uri": "https://localhost:8080/",
          "height": 191
        },
        "id": "laF0-rRk5HHG",
        "outputId": "7596c2b5-e6f7-4133-e557-5ae403bd130f"
      },
      "source": [
        "df_text.head()"
      ],
      "execution_count": null,
      "outputs": [
        {
          "output_type": "execute_result",
          "data": {
            "text/html": [
              "<div>\n",
              "<style scoped>\n",
              "    .dataframe tbody tr th:only-of-type {\n",
              "        vertical-align: middle;\n",
              "    }\n",
              "\n",
              "    .dataframe tbody tr th {\n",
              "        vertical-align: top;\n",
              "    }\n",
              "\n",
              "    .dataframe thead th {\n",
              "        text-align: right;\n",
              "    }\n",
              "</style>\n",
              "<table border=\"1\" class=\"dataframe\">\n",
              "  <thead>\n",
              "    <tr style=\"text-align: right;\">\n",
              "      <th></th>\n",
              "      <th>text</th>\n",
              "    </tr>\n",
              "  </thead>\n",
              "  <tbody>\n",
              "    <tr>\n",
              "      <th>0</th>\n",
              "      <td>same folks said daikon paste could treat a cyt...</td>\n",
              "    </tr>\n",
              "    <tr>\n",
              "      <th>2</th>\n",
              "      <td>russian vaccine is created to last 24 ye...</td>\n",
              "    </tr>\n",
              "    <tr>\n",
              "      <th>6</th>\n",
              "      <td>it is a bit sad to claim the fame for success ...</td>\n",
              "    </tr>\n",
              "    <tr>\n",
              "      <th>9</th>\n",
              "      <td>states will start getting  monday  says     h...</td>\n",
              "    </tr>\n",
              "    <tr>\n",
              "      <th>10</th>\n",
              "      <td>while deaths are closing in on the 300000 mark...</td>\n",
              "    </tr>\n",
              "  </tbody>\n",
              "</table>\n",
              "</div>"
            ],
            "text/plain": [
              "                                                 text\n",
              "0   same folks said daikon paste could treat a cyt...\n",
              "2         russian vaccine is created to last 24 ye...\n",
              "6   it is a bit sad to claim the fame for success ...\n",
              "9    states will start getting  monday  says     h...\n",
              "10  while deaths are closing in on the 300000 mark..."
            ]
          },
          "metadata": {
            "tags": []
          },
          "execution_count": 65
        }
      ]
    },
    {
      "cell_type": "code",
      "metadata": {
        "id": "A423rzal5I8_"
      },
      "source": [
        "df_text[\"tokenization\"] = df_text['text'].apply(lambda x: tokenization(x.lower()))"
      ],
      "execution_count": null,
      "outputs": []
    },
    {
      "cell_type": "code",
      "metadata": {
        "colab": {
          "base_uri": "https://localhost:8080/",
          "height": 191
        },
        "id": "6TaKa56U5e7B",
        "outputId": "29cf1cfb-6b98-48ca-ae4e-e811426521e0"
      },
      "source": [
        "df_text.head()"
      ],
      "execution_count": null,
      "outputs": [
        {
          "output_type": "execute_result",
          "data": {
            "text/html": [
              "<div>\n",
              "<style scoped>\n",
              "    .dataframe tbody tr th:only-of-type {\n",
              "        vertical-align: middle;\n",
              "    }\n",
              "\n",
              "    .dataframe tbody tr th {\n",
              "        vertical-align: top;\n",
              "    }\n",
              "\n",
              "    .dataframe thead th {\n",
              "        text-align: right;\n",
              "    }\n",
              "</style>\n",
              "<table border=\"1\" class=\"dataframe\">\n",
              "  <thead>\n",
              "    <tr style=\"text-align: right;\">\n",
              "      <th></th>\n",
              "      <th>text</th>\n",
              "      <th>tokenization</th>\n",
              "    </tr>\n",
              "  </thead>\n",
              "  <tbody>\n",
              "    <tr>\n",
              "      <th>0</th>\n",
              "      <td>same folks said daikon paste could treat a cyt...</td>\n",
              "      <td>[same, folks, said, daikon, paste, could, trea...</td>\n",
              "    </tr>\n",
              "    <tr>\n",
              "      <th>2</th>\n",
              "      <td>russian vaccine is created to last 24 ye...</td>\n",
              "      <td>[, russian, vaccine, is, created, to, last, 24...</td>\n",
              "    </tr>\n",
              "    <tr>\n",
              "      <th>6</th>\n",
              "      <td>it is a bit sad to claim the fame for success ...</td>\n",
              "      <td>[it, is, a, bit, sad, to, claim, the, fame, fo...</td>\n",
              "    </tr>\n",
              "    <tr>\n",
              "      <th>9</th>\n",
              "      <td>states will start getting  monday  says     h...</td>\n",
              "      <td>[, states, will, start, getting, monday, says,...</td>\n",
              "    </tr>\n",
              "    <tr>\n",
              "      <th>10</th>\n",
              "      <td>while deaths are closing in on the 300000 mark...</td>\n",
              "      <td>[while, deaths, are, closing, in, on, the, 300...</td>\n",
              "    </tr>\n",
              "  </tbody>\n",
              "</table>\n",
              "</div>"
            ],
            "text/plain": [
              "                                                 text                                       tokenization\n",
              "0   same folks said daikon paste could treat a cyt...  [same, folks, said, daikon, paste, could, trea...\n",
              "2         russian vaccine is created to last 24 ye...  [, russian, vaccine, is, created, to, last, 24...\n",
              "6   it is a bit sad to claim the fame for success ...  [it, is, a, bit, sad, to, claim, the, fame, fo...\n",
              "9    states will start getting  monday  says     h...  [, states, will, start, getting, monday, says,...\n",
              "10  while deaths are closing in on the 300000 mark...  [while, deaths, are, closing, in, on, the, 300..."
            ]
          },
          "metadata": {
            "tags": []
          },
          "execution_count": 67
        }
      ]
    },
    {
      "cell_type": "code",
      "metadata": {
        "id": "_9UwbNG35g9s"
      },
      "source": [
        "stopwords = nltk.corpus.stopwords.words('english')"
      ],
      "execution_count": null,
      "outputs": []
    },
    {
      "cell_type": "code",
      "metadata": {
        "colab": {
          "base_uri": "https://localhost:8080/"
        },
        "id": "POyH6MgQ6OWz",
        "outputId": "79b33f6d-f765-4ca3-dc8d-9917a205b384"
      },
      "source": [
        "stopwords"
      ],
      "execution_count": null,
      "outputs": [
        {
          "output_type": "execute_result",
          "data": {
            "text/plain": [
              "['i',\n",
              " 'me',\n",
              " 'my',\n",
              " 'myself',\n",
              " 'we',\n",
              " 'our',\n",
              " 'ours',\n",
              " 'ourselves',\n",
              " 'you',\n",
              " \"you're\",\n",
              " \"you've\",\n",
              " \"you'll\",\n",
              " \"you'd\",\n",
              " 'your',\n",
              " 'yours',\n",
              " 'yourself',\n",
              " 'yourselves',\n",
              " 'he',\n",
              " 'him',\n",
              " 'his',\n",
              " 'himself',\n",
              " 'she',\n",
              " \"she's\",\n",
              " 'her',\n",
              " 'hers',\n",
              " 'herself',\n",
              " 'it',\n",
              " \"it's\",\n",
              " 'its',\n",
              " 'itself',\n",
              " 'they',\n",
              " 'them',\n",
              " 'their',\n",
              " 'theirs',\n",
              " 'themselves',\n",
              " 'what',\n",
              " 'which',\n",
              " 'who',\n",
              " 'whom',\n",
              " 'this',\n",
              " 'that',\n",
              " \"that'll\",\n",
              " 'these',\n",
              " 'those',\n",
              " 'am',\n",
              " 'is',\n",
              " 'are',\n",
              " 'was',\n",
              " 'were',\n",
              " 'be',\n",
              " 'been',\n",
              " 'being',\n",
              " 'have',\n",
              " 'has',\n",
              " 'had',\n",
              " 'having',\n",
              " 'do',\n",
              " 'does',\n",
              " 'did',\n",
              " 'doing',\n",
              " 'a',\n",
              " 'an',\n",
              " 'the',\n",
              " 'and',\n",
              " 'but',\n",
              " 'if',\n",
              " 'or',\n",
              " 'because',\n",
              " 'as',\n",
              " 'until',\n",
              " 'while',\n",
              " 'of',\n",
              " 'at',\n",
              " 'by',\n",
              " 'for',\n",
              " 'with',\n",
              " 'about',\n",
              " 'against',\n",
              " 'between',\n",
              " 'into',\n",
              " 'through',\n",
              " 'during',\n",
              " 'before',\n",
              " 'after',\n",
              " 'above',\n",
              " 'below',\n",
              " 'to',\n",
              " 'from',\n",
              " 'up',\n",
              " 'down',\n",
              " 'in',\n",
              " 'out',\n",
              " 'on',\n",
              " 'off',\n",
              " 'over',\n",
              " 'under',\n",
              " 'again',\n",
              " 'further',\n",
              " 'then',\n",
              " 'once',\n",
              " 'here',\n",
              " 'there',\n",
              " 'when',\n",
              " 'where',\n",
              " 'why',\n",
              " 'how',\n",
              " 'all',\n",
              " 'any',\n",
              " 'both',\n",
              " 'each',\n",
              " 'few',\n",
              " 'more',\n",
              " 'most',\n",
              " 'other',\n",
              " 'some',\n",
              " 'such',\n",
              " 'no',\n",
              " 'nor',\n",
              " 'not',\n",
              " 'only',\n",
              " 'own',\n",
              " 'same',\n",
              " 'so',\n",
              " 'than',\n",
              " 'too',\n",
              " 'very',\n",
              " 's',\n",
              " 't',\n",
              " 'can',\n",
              " 'will',\n",
              " 'just',\n",
              " 'don',\n",
              " \"don't\",\n",
              " 'should',\n",
              " \"should've\",\n",
              " 'now',\n",
              " 'd',\n",
              " 'll',\n",
              " 'm',\n",
              " 'o',\n",
              " 're',\n",
              " 've',\n",
              " 'y',\n",
              " 'ain',\n",
              " 'aren',\n",
              " \"aren't\",\n",
              " 'couldn',\n",
              " \"couldn't\",\n",
              " 'didn',\n",
              " \"didn't\",\n",
              " 'doesn',\n",
              " \"doesn't\",\n",
              " 'hadn',\n",
              " \"hadn't\",\n",
              " 'hasn',\n",
              " \"hasn't\",\n",
              " 'haven',\n",
              " \"haven't\",\n",
              " 'isn',\n",
              " \"isn't\",\n",
              " 'ma',\n",
              " 'mightn',\n",
              " \"mightn't\",\n",
              " 'mustn',\n",
              " \"mustn't\",\n",
              " 'needn',\n",
              " \"needn't\",\n",
              " 'shan',\n",
              " \"shan't\",\n",
              " 'shouldn',\n",
              " \"shouldn't\",\n",
              " 'wasn',\n",
              " \"wasn't\",\n",
              " 'weren',\n",
              " \"weren't\",\n",
              " 'won',\n",
              " \"won't\",\n",
              " 'wouldn',\n",
              " \"wouldn't\"]"
            ]
          },
          "metadata": {
            "tags": []
          },
          "execution_count": 69
        }
      ]
    },
    {
      "cell_type": "code",
      "metadata": {
        "id": "uGLEBrbo6QTo"
      },
      "source": [
        "def excluir_stopwords(text):\n",
        "  text = [i for i in text if i not in stopwords]\n",
        "  return text"
      ],
      "execution_count": null,
      "outputs": []
    },
    {
      "cell_type": "code",
      "metadata": {
        "id": "iOXQFzro6zxu"
      },
      "source": [
        "df_text['sem_stopwords'] = df_text['tokenization'].apply(lambda x: excluir_stopwords(x))"
      ],
      "execution_count": null,
      "outputs": []
    },
    {
      "cell_type": "code",
      "metadata": {
        "colab": {
          "base_uri": "https://localhost:8080/",
          "height": 391
        },
        "id": "738OUq1S7Lqy",
        "outputId": "cdc22639-3dfa-453f-bc48-8dbc48d3f32b"
      },
      "source": [
        "df_text"
      ],
      "execution_count": null,
      "outputs": [
        {
          "output_type": "execute_result",
          "data": {
            "text/html": [
              "<div>\n",
              "<style scoped>\n",
              "    .dataframe tbody tr th:only-of-type {\n",
              "        vertical-align: middle;\n",
              "    }\n",
              "\n",
              "    .dataframe tbody tr th {\n",
              "        vertical-align: top;\n",
              "    }\n",
              "\n",
              "    .dataframe thead th {\n",
              "        text-align: right;\n",
              "    }\n",
              "</style>\n",
              "<table border=\"1\" class=\"dataframe\">\n",
              "  <thead>\n",
              "    <tr style=\"text-align: right;\">\n",
              "      <th></th>\n",
              "      <th>text</th>\n",
              "      <th>tokenization</th>\n",
              "      <th>sem_stopwords</th>\n",
              "    </tr>\n",
              "  </thead>\n",
              "  <tbody>\n",
              "    <tr>\n",
              "      <th>0</th>\n",
              "      <td>same folks said daikon paste could treat a cyt...</td>\n",
              "      <td>[same, folks, said, daikon, paste, could, trea...</td>\n",
              "      <td>[folks, said, daikon, paste, could, treat, cyt...</td>\n",
              "    </tr>\n",
              "    <tr>\n",
              "      <th>2</th>\n",
              "      <td>russian vaccine is created to last 24 ye...</td>\n",
              "      <td>[, russian, vaccine, is, created, to, last, 24...</td>\n",
              "      <td>[, russian, vaccine, created, last, 24, years,...</td>\n",
              "    </tr>\n",
              "    <tr>\n",
              "      <th>6</th>\n",
              "      <td>it is a bit sad to claim the fame for success ...</td>\n",
              "      <td>[it, is, a, bit, sad, to, claim, the, fame, fo...</td>\n",
              "      <td>[bit, sad, claim, fame, success, patriotic, co...</td>\n",
              "    </tr>\n",
              "    <tr>\n",
              "      <th>9</th>\n",
              "      <td>states will start getting  monday  says     h...</td>\n",
              "      <td>[, states, will, start, getting, monday, says,...</td>\n",
              "      <td>[, states, start, getting, monday, says, https...</td>\n",
              "    </tr>\n",
              "    <tr>\n",
              "      <th>10</th>\n",
              "      <td>while deaths are closing in on the 300000 mark...</td>\n",
              "      <td>[while, deaths, are, closing, in, on, the, 300...</td>\n",
              "      <td>[deaths, closing, 300000, mark, millions, peop...</td>\n",
              "    </tr>\n",
              "    <tr>\n",
              "      <th>...</th>\n",
              "      <td>...</td>\n",
              "      <td>...</td>\n",
              "      <td>...</td>\n",
              "    </tr>\n",
              "    <tr>\n",
              "      <th>8073</th>\n",
              "      <td>1146th setsirwud   entry enrich  wud it help ...</td>\n",
              "      <td>[, 1146th, setsirwud, entry, enrich, wud, it, ...</td>\n",
              "      <td>[, 1146th, setsirwud, entry, enrich, wud, help...</td>\n",
              "    </tr>\n",
              "    <tr>\n",
              "      <th>8074</th>\n",
              "      <td>wtf is this is he playing a ping pong game  ...</td>\n",
              "      <td>[, wtf, is, this, is, he, playing, a, ping, po...</td>\n",
              "      <td>[, wtf, playing, ping, pong, game, holding, ba...</td>\n",
              "    </tr>\n",
              "    <tr>\n",
              "      <th>8079</th>\n",
              "      <td>second  vaccine shot done thanks  💉  httpstcos...</td>\n",
              "      <td>[second, vaccine, shot, done, thanks, httpstco...</td>\n",
              "      <td>[second, vaccine, shot, done, thanks, httpstco...</td>\n",
              "    </tr>\n",
              "    <tr>\n",
              "      <th>8080</th>\n",
              "      <td>second  vaccine is officially in 💉thank you  a...</td>\n",
              "      <td>[second, vaccine, is, officially, in, thank, y...</td>\n",
              "      <td>[second, vaccine, officially, thank, amp, heal...</td>\n",
              "    </tr>\n",
              "    <tr>\n",
              "      <th>8081</th>\n",
              "      <td>why not allow other proven vaccines like</td>\n",
              "      <td>[, why, not, allow, other, proven, vaccines, l...</td>\n",
              "      <td>[, allow, proven, vaccines, like, ]</td>\n",
              "    </tr>\n",
              "  </tbody>\n",
              "</table>\n",
              "<p>4749 rows × 3 columns</p>\n",
              "</div>"
            ],
            "text/plain": [
              "                                                   text  ...                                      sem_stopwords\n",
              "0     same folks said daikon paste could treat a cyt...  ...  [folks, said, daikon, paste, could, treat, cyt...\n",
              "2           russian vaccine is created to last 24 ye...  ...  [, russian, vaccine, created, last, 24, years,...\n",
              "6     it is a bit sad to claim the fame for success ...  ...  [bit, sad, claim, fame, success, patriotic, co...\n",
              "9      states will start getting  monday  says     h...  ...  [, states, start, getting, monday, says, https...\n",
              "10    while deaths are closing in on the 300000 mark...  ...  [deaths, closing, 300000, mark, millions, peop...\n",
              "...                                                 ...  ...                                                ...\n",
              "8073   1146th setsirwud   entry enrich  wud it help ...  ...  [, 1146th, setsirwud, entry, enrich, wud, help...\n",
              "8074    wtf is this is he playing a ping pong game  ...  ...  [, wtf, playing, ping, pong, game, holding, ba...\n",
              "8079  second  vaccine shot done thanks  💉  httpstcos...  ...  [second, vaccine, shot, done, thanks, httpstco...\n",
              "8080  second  vaccine is officially in 💉thank you  a...  ...  [second, vaccine, officially, thank, amp, heal...\n",
              "8081        why not allow other proven vaccines like     ...                [, allow, proven, vaccines, like, ]\n",
              "\n",
              "[4749 rows x 3 columns]"
            ]
          },
          "metadata": {
            "tags": []
          },
          "execution_count": 72
        }
      ]
    },
    {
      "cell_type": "code",
      "metadata": {
        "colab": {
          "base_uri": "https://localhost:8080/",
          "height": 88
        },
        "id": "PkrpAnV_7OZJ",
        "outputId": "ec9b066a-c4c7-4fe4-ddf8-1139858daa14"
      },
      "source": [
        "temp = df.groupby('sent').count()['text'].reset_index().sort_values(by=\"text\", ascending=False)\n",
        "temp.style.background_gradient()"
      ],
      "execution_count": null,
      "outputs": [
        {
          "output_type": "execute_result",
          "data": {
            "text/html": [
              "<style  type=\"text/css\" >\n",
              "#T_210c2f1c_a2d9_11eb_a8f0_0242ac1c0002row0_col1{\n",
              "            background-color:  #023858;\n",
              "            color:  #f1f1f1;\n",
              "        }#T_210c2f1c_a2d9_11eb_a8f0_0242ac1c0002row1_col1{\n",
              "            background-color:  #046299;\n",
              "            color:  #f1f1f1;\n",
              "        }#T_210c2f1c_a2d9_11eb_a8f0_0242ac1c0002row2_col1{\n",
              "            background-color:  #fff7fb;\n",
              "            color:  #000000;\n",
              "        }</style><table id=\"T_210c2f1c_a2d9_11eb_a8f0_0242ac1c0002\" ><thead>    <tr>        <th class=\"blank level0\" ></th>        <th class=\"col_heading level0 col0\" >sent</th>        <th class=\"col_heading level0 col1\" >text</th>    </tr></thead><tbody>\n",
              "                <tr>\n",
              "                        <th id=\"T_210c2f1c_a2d9_11eb_a8f0_0242ac1c0002level0_row0\" class=\"row_heading level0 row0\" >1</th>\n",
              "                        <td id=\"T_210c2f1c_a2d9_11eb_a8f0_0242ac1c0002row0_col0\" class=\"data row0 col0\" >Neutral</td>\n",
              "                        <td id=\"T_210c2f1c_a2d9_11eb_a8f0_0242ac1c0002row0_col1\" class=\"data row0 col1\" >1216</td>\n",
              "            </tr>\n",
              "            <tr>\n",
              "                        <th id=\"T_210c2f1c_a2d9_11eb_a8f0_0242ac1c0002level0_row1\" class=\"row_heading level0 row1\" >2</th>\n",
              "                        <td id=\"T_210c2f1c_a2d9_11eb_a8f0_0242ac1c0002row1_col0\" class=\"data row1 col0\" >Positive</td>\n",
              "                        <td id=\"T_210c2f1c_a2d9_11eb_a8f0_0242ac1c0002row1_col1\" class=\"data row1 col1\" >1083</td>\n",
              "            </tr>\n",
              "            <tr>\n",
              "                        <th id=\"T_210c2f1c_a2d9_11eb_a8f0_0242ac1c0002level0_row2\" class=\"row_heading level0 row2\" >0</th>\n",
              "                        <td id=\"T_210c2f1c_a2d9_11eb_a8f0_0242ac1c0002row2_col0\" class=\"data row2 col0\" >Negative</td>\n",
              "                        <td id=\"T_210c2f1c_a2d9_11eb_a8f0_0242ac1c0002row2_col1\" class=\"data row2 col1\" >428</td>\n",
              "            </tr>\n",
              "    </tbody></table>"
            ],
            "text/plain": [
              "<pandas.io.formats.style.Styler at 0x7f14e1da9950>"
            ]
          },
          "metadata": {
            "tags": []
          },
          "execution_count": 73
        }
      ]
    },
    {
      "cell_type": "code",
      "metadata": {
        "id": "bXqAj-3f8MV_"
      },
      "source": [
        "4749"
      ],
      "execution_count": null,
      "outputs": []
    }
  ]
}